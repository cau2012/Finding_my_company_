{
 "cells": [
  {
   "cell_type": "code",
   "execution_count": 1,
   "metadata": {
    "collapsed": true
   },
   "outputs": [],
   "source": [
    "import sys\n",
    "sys.path.append('C:\\\\Users\\\\dlfdus\\\\PycharmProjects\\\\mypacakge\\\\')\n",
    "from corpus import DoublespaceLineCorpus\n",
    "from corpus import DoublespaceLineCorpusWithList\n",
    "from tqdm import tqdm_notebook\n",
    "import requests\n",
    "import pandas as pd\n",
    "import re\n",
    "import pickle\n",
    "from collections import Counter\n",
    "from scipy import spatial"
   ]
  },
  {
   "cell_type": "code",
   "execution_count": 2,
   "metadata": {
    "collapsed": false
   },
   "outputs": [
    {
     "name": "stderr",
     "output_type": "stream",
     "text": [
      "C:\\Users\\dlfdus\\Anaconda3\\lib\\site-packages\\gensim\\utils.py:865: UserWarning: detected Windows; aliasing chunkize to chunkize_serial\n",
      "  warnings.warn(\"detected Windows; aliasing chunkize to chunkize_serial\")\n"
     ]
    }
   ],
   "source": [
    "import gensim\n",
    "from scipy.io import mmwrite, mmread\n",
    "\n",
    "tokenized_corpus_fname = 'data/tmp/doc2vec_word_data.txt' "
   ]
  },
  {
   "cell_type": "code",
   "execution_count": 3,
   "metadata": {
    "collapsed": true
   },
   "outputs": [],
   "source": [
    "corpus_ = open(tokenized_corpus_fname, 'r')\n",
    "line = corpus_.readlines()"
   ]
  },
  {
   "cell_type": "code",
   "execution_count": 4,
   "metadata": {
    "collapsed": true
   },
   "outputs": [],
   "source": [
    "reviews = []\n",
    "for idx, i in enumerate(line):\n",
    "    temp = i.split('\\t')[1]\n",
    "    temp = re.sub('\\n', '', temp)\n",
    "    reviews.append(temp)"
   ]
  },
  {
   "cell_type": "code",
   "execution_count": 5,
   "metadata": {
    "collapsed": false
   },
   "outputs": [],
   "source": [
    "from gensim.models import Doc2Vec\n",
    "from gensim.models.doc2vec import TaggedDocument\n",
    "\n",
    "def TaggedReview(reviews):\n",
    "    for doc in reviews:\n",
    "        company_tag, review = doc.split('\\t')\n",
    "        text = re.sub('\\n', '', review)\n",
    "        yield TaggedDocument(words=text.split(), tags=['Company_%s' % company_tag])\n",
    "\n",
    "doc2vec_corpus = list(TaggedReview(line))"
   ]
  },
  {
   "cell_type": "code",
   "execution_count": 6,
   "metadata": {
    "collapsed": false
   },
   "outputs": [
    {
     "name": "stdout",
     "output_type": "stream",
     "text": [
      "TaggedDocument(['업계', '1위', '하나투어', '인정', '많음', '여행사', '친구들', '연봉', '복지', '좋음'], ['Company_(주)하나투어'])\n",
      "TaggedDocument(['여행', '혜택', '연차', '사용', '있음', '가족', '균형', '측면', '좋음'], ['Company_(주)하나투어'])\n",
      "TaggedDocument(['연차', '회사', '커뮤니케이션'], ['Company_(주)하나투어'])\n",
      "TaggedDocument(['브랜드', '1위', '저녁', '여행', '할인'], ['Company_(주)하나투어'])\n",
      "TaggedDocument(['있음', '업무', '찾기', '힘듬'], ['Company_(주)하나투어'])\n",
      "TaggedDocument(['연차', '사용', '비교적', '회사', '복지', '거점', '운영', '시차', '근무', '재택근무', '직원', '제공', '상품', '직원', '이용', '가능', '분위기', '정시퇴근', '승진', '어려움', '없음'], ['Company_(주)하나투어'])\n"
     ]
    }
   ],
   "source": [
    "for num_doc, doc in enumerate(doc2vec_corpus):\n",
    "    if num_doc > 5: break\n",
    "    print(doc)"
   ]
  },
  {
   "cell_type": "code",
   "execution_count": 7,
   "metadata": {
    "collapsed": false
   },
   "outputs": [
    {
     "data": {
      "text/plain": [
       "[TaggedDocument(words=['업계', '1위', '하나투어', '인정', '많음', '여행사', '친구들', '연봉', '복지', '좋음'], tags=['Company_(주)하나투어']),\n",
       " TaggedDocument(words=['여행', '혜택', '연차', '사용', '있음', '가족', '균형', '측면', '좋음'], tags=['Company_(주)하나투어']),\n",
       " TaggedDocument(words=['연차', '회사', '커뮤니케이션'], tags=['Company_(주)하나투어']),\n",
       " TaggedDocument(words=['브랜드', '1위', '저녁', '여행', '할인'], tags=['Company_(주)하나투어']),\n",
       " TaggedDocument(words=['있음', '업무', '찾기', '힘듬'], tags=['Company_(주)하나투어'])]"
      ]
     },
     "execution_count": 7,
     "metadata": {},
     "output_type": "execute_result"
    }
   ],
   "source": [
    "doc2vec_corpus[:5]"
   ]
  },
  {
   "cell_type": "code",
   "execution_count": 8,
   "metadata": {
    "collapsed": true
   },
   "outputs": [],
   "source": [
    "train_Doc2Vec = False"
   ]
  },
  {
   "cell_type": "code",
   "execution_count": 9,
   "metadata": {
    "collapsed": false
   },
   "outputs": [
    {
     "name": "stdout",
     "output_type": "stream",
     "text": [
      "Wall time: 67.8 ms\n"
     ]
    }
   ],
   "source": [
    "%%time\n",
    "doc2vec_fname = 'data/tmp/doc2vec_model.pkl' \n",
    "if train_Doc2Vec:\n",
    "    doc2vec_model = Doc2Vec(doc2vec_corpus, size=200, alpha=0.05, window=5, min_count=5, negative=5) \n",
    "    with open(doc2vec_fname, 'wb') as f:\n",
    "        pickle.dump(doc2vec_model, f)\n",
    "\n",
    "else:\n",
    "    with open(doc2vec_fname, 'rb') as f:\n",
    "        doc2vec_model = pickle.load(f)"
   ]
  },
  {
   "cell_type": "code",
   "execution_count": 10,
   "metadata": {
    "collapsed": false
   },
   "outputs": [
    {
     "name": "stdout",
     "output_type": "stream",
     "text": [
      "['Company_(주)하나투어', 'Company_호텔신라(주)', 'Company_대명레저산업(주)', 'Company_이랜드파크(주)', 'Company_모두투어네트워크(주)']\n"
     ]
    }
   ],
   "source": [
    "index2tag = [doc2vec_model.docvecs.index_to_doctag(i) for i in range(654)]\n",
    "print(index2tag[:5])\n",
    "\n",
    "tag2index = {tag:index for index, tag in enumerate(index2tag)}"
   ]
  },
  {
   "cell_type": "code",
   "execution_count": 11,
   "metadata": {
    "collapsed": false
   },
   "outputs": [
    {
     "name": "stdout",
     "output_type": "stream",
     "text": [
      "['(주)하나투어', '호텔신라(주)', '대명레저산업(주)', '이랜드파크(주)', '모두투어네트워크(주)']\n"
     ]
    }
   ],
   "source": [
    "index2name = []\n",
    "\n",
    "for i in index2tag:\n",
    "    index2name.append(i.split('_')[1])\n",
    "print(index2name[:5])"
   ]
  },
  {
   "cell_type": "code",
   "execution_count": 12,
   "metadata": {
    "collapsed": true
   },
   "outputs": [],
   "source": [
    "from scipy import spatial\n",
    "tag_list = list(tag2index.keys())"
   ]
  },
  {
   "cell_type": "code",
   "execution_count": 13,
   "metadata": {
    "collapsed": false
   },
   "outputs": [],
   "source": [
    "from engine import tokenizer\n",
    "from engine import sentiment_analysis\n",
    "\n",
    "with open('data/tmp/lr.pkl', 'rb') as f:\n",
    "    model = pickle.load(f)\n",
    "with open('data/tmp/vectorizer.pkl', 'rb') as f:\n",
    "    vectorizer = pickle.load(f)\n",
    "with open('data/tmp/company_IF.pkl', 'rb') as f:\n",
    "    company_IF = pickle.load(f)"
   ]
  },
  {
   "cell_type": "code",
   "execution_count": 14,
   "metadata": {
    "collapsed": true
   },
   "outputs": [],
   "source": [
    "P_doc2vec_fname = 'data/tmp/P_doc2vec_model.pkl' \n",
    "N_doc2vec_fname = 'data/tmp/N_doc2vec_model.pkl' \n",
    "\n",
    "with open(P_doc2vec_fname, 'rb') as f:\n",
    "    P_doc2vec_model = pickle.load(f)\n",
    "with open(N_doc2vec_fname, 'rb') as f:\n",
    "    N_doc2vec_model = pickle.load(f)"
   ]
  },
  {
   "cell_type": "code",
   "execution_count": 15,
   "metadata": {
    "collapsed": false
   },
   "outputs": [
    {
     "data": {
      "text/plain": [
       "'업무 보다는 정치질이 우선 회사 발전 가능 성이 없음'"
      ]
     },
     "execution_count": 15,
     "metadata": {},
     "output_type": "execute_result"
    }
   ],
   "source": [
    "tokenizer('업무보다는 정치질이 우선인 회사 발전 가능성이 없음')"
   ]
  },
  {
   "cell_type": "code",
   "execution_count": 16,
   "metadata": {
    "collapsed": false
   },
   "outputs": [
    {
     "data": {
      "text/plain": [
       "['업무', '우선', '회사', '발전', '가능', '없음']"
      ]
     },
     "execution_count": 16,
     "metadata": {},
     "output_type": "execute_result"
    }
   ],
   "source": [
    "tokenizer('업무보다는 정치질이 우선인 회사 발전 가능성이 없음', only_noun = True)"
   ]
  },
  {
   "cell_type": "code",
   "execution_count": 32,
   "metadata": {
    "collapsed": false
   },
   "outputs": [
    {
     "name": "stdout",
     "output_type": "stream",
     "text": [
      "장점인지는 모르겠는데 일이 생각보다 많음 적은인원으로 개처럼 일해야함\n",
      " \n"
     ]
    },
    {
     "data": {
      "text/plain": [
       "'부정 문장'"
      ]
     },
     "execution_count": 32,
     "metadata": {},
     "output_type": "execute_result"
    }
   ],
   "source": [
    "sentiment_analysis(model, vectorizer)"
   ]
  },
  {
   "cell_type": "code",
   "execution_count": 18,
   "metadata": {
    "collapsed": false
   },
   "outputs": [],
   "source": [
    "industry_field_1 = list(company_IF['1차산업군'].unique())\n",
    "industry_field_2 = list(company_IF['2차산업군'].unique())"
   ]
  },
  {
   "cell_type": "code",
   "execution_count": 19,
   "metadata": {
    "collapsed": false
   },
   "outputs": [],
   "source": [
    "company_field_1 = {}\n",
    "company_field_2 = {}\n",
    "\n",
    "for i in tag_list:\n",
    "    i = i.split('_')[1]\n",
    "    company_field_1[i] = company_IF['1차산업군'][company_IF['회사명']==i].values[0]\n",
    "    company_field_2[i] = company_IF['2차산업군'][company_IF['회사명']==i].values[0]"
   ]
  },
  {
   "cell_type": "code",
   "execution_count": 20,
   "metadata": {
    "collapsed": true
   },
   "outputs": [],
   "source": [
    "field1_field2 = {}\n",
    "\n",
    "for i in industry_field_1:\n",
    "    field1_field2[i] = list(company_IF['2차산업군'][company_IF['1차산업군']==i].unique())"
   ]
  },
  {
   "cell_type": "code",
   "execution_count": 21,
   "metadata": {
    "collapsed": true
   },
   "outputs": [],
   "source": [
    "def permutations_(po, ne):\n",
    "    permutation = []\n",
    "    for i in po:\n",
    "        for j in ne:\n",
    "            if i != j:\n",
    "                permutation.append((i,j))\n",
    "    return permutation"
   ]
  },
  {
   "cell_type": "code",
   "execution_count": 22,
   "metadata": {
    "collapsed": true
   },
   "outputs": [],
   "source": [
    "def calculate_distance(tag_list, polarity, topn=10):\n",
    "    if polarity == 'P':\n",
    "        comment = input('\\n원하는 회사의 장점\\n')\n",
    "        tokenized_comment = tokenizer(comment, only_noun = True)\n",
    "        inferred_vector = P_doc2vec_model.infer_vector(tokenized_comment)\n",
    "        most_similar, most_similar_company = [], []\n",
    "        count = 0\n",
    "        while count < topn+1:\n",
    "            similar_ = 1000\n",
    "            company_name = ''\n",
    "            for company_ in tag_list:\n",
    "                distance = spatial.distance.cosine(inferred_vector, P_doc2vec_model.docvecs[company_])\n",
    "                if distance < similar_ and company_ not in most_similar_company:\n",
    "                    similar_ = distance\n",
    "                    company_name = company_\n",
    "            most_similar.append(similar_)\n",
    "            most_similar_company.append(company_name)\n",
    "            count += 1\n",
    "            if count == topn:\n",
    "                break\n",
    "        return most_similar_company\n",
    "    elif polarity == 'N':\n",
    "        comment = input('\\n피하고 싶은 회사의 단점\\n')\n",
    "        tokenized_comment = tokenizer(comment, only_noun = True)\n",
    "        inferred_vector = N_doc2vec_model.infer_vector(tokenized_comment)\n",
    "        most_similar, most_similar_company = [], []\n",
    "        count = 0\n",
    "        while count < topn+1:\n",
    "            similar_ = 1000\n",
    "            company_name = ''\n",
    "            for company_ in tag_list:\n",
    "                distance = spatial.distance.cosine(inferred_vector, N_doc2vec_model.docvecs[company_])\n",
    "                if distance < similar_ and company_ not in most_similar_company:\n",
    "                    similar_ = distance\n",
    "                    company_name = company_\n",
    "            most_similar.append(similar_)\n",
    "            most_similar_company.append(company_name)\n",
    "            count += 1\n",
    "            if count == topn:\n",
    "                break\n",
    "        return most_similar_company"
   ]
  },
  {
   "cell_type": "code",
   "execution_count": 60,
   "metadata": {
    "collapsed": false
   },
   "outputs": [],
   "source": [
    "def find_my_company(topn=5, set_polarity = 'both'):\n",
    "    tag_list = list(tag2index.keys())\n",
    "    \n",
    "    field1 = input('1차 산업군 선택 : \\n{}\\n'.format(industry_field_1))\n",
    "    if field1 == '전체 선택':\n",
    "        target_company = tag_list\n",
    "        print('\\n검색 대상 회사 : \\n{}'.format('전체'))\n",
    "        if set_polarity == 'both':\n",
    "            p_ = calculate_distance(tag_list, 'P', topn=len(target_company))\n",
    "            n_ = calculate_distance(tag_list, 'N', topn=len(target_company))\n",
    "        else:\n",
    "            p_ = calculate_distance(tag_list, 'P', topn=len(target_company))\n",
    "            n_ = [0]\n",
    "            \n",
    "    elif field1 in industry_field_1:\n",
    "        field2 = input('\\n2차 산업군 선택 : \\n{}\\n'.format(field1_field2[field1]))\n",
    "        if field2 == '전체 선택':\n",
    "            target_company = list(company_IF['회사명'][(company_IF['1차산업군']==field1)].values)\n",
    "            print('\\n검색 대상 회사 : {} 개 회사 \\n{}'.format(len(target_company),target_company))\n",
    "            tag_list = ['Company_'+i for i in target_company]\n",
    "            if set_polarity == 'both':\n",
    "                p_ = calculate_distance(tag_list, 'P', topn=len(target_company))\n",
    "                n_ = calculate_distance(tag_list, 'N', topn=len(target_company))\n",
    "            else:\n",
    "                p_ = calculate_distance(tag_list, 'P', topn=len(target_company))\n",
    "                n_ = [0]\n",
    "            #return p_, n_\n",
    "        \n",
    "        elif field2 in industry_field_2:\n",
    "            target_company = list(company_IF['회사명'][(company_IF['1차산업군']==field1)&(company_IF['2차산업군']==field2)].values)\n",
    "            print('\\n검색 대상 회사 : {} 개 회사 \\n{}'.format(len(target_company),target_company))\n",
    "            tag_list = ['Company_'+i for i in target_company]\n",
    "            if set_polarity == 'both':\n",
    "                p_ = calculate_distance(tag_list, 'P', topn=len(target_company))\n",
    "                n_ = calculate_distance(tag_list, 'N', topn=len(target_company))\n",
    "            else:\n",
    "                p_ = calculate_distance(tag_list, 'P', topn=len(target_company))\n",
    "                n_ = [0]\n",
    "        else:\n",
    "            print('\\n옳바른 2차 산업군을 입력해주세요')  \n",
    "    else:\n",
    "        print('\\n옳바른 1차 산업군을 입력해주세요')\n",
    "        \n",
    "    recom_distance_list = []\n",
    "    company_list = []\n",
    "    recommend = {}\n",
    "    \n",
    "    \n",
    "    for permutation in permutations_(p_, n_):\n",
    "        \n",
    "        if set_polarity == 'both': most_similar = doc2vec_model.docvecs.most_similar(positive=[permutation[0]], negative=[permutation[1]], topn=624)\n",
    "        else: most_similar = doc2vec_model.docvecs.most_similar(positive=[permutation[0]], topn=624)\n",
    "        \n",
    "        for company_ in most_similar:\n",
    "            if company_[0] in tag_list and company_[0] not in company_list:\n",
    "                recom_distance_list.append(company_[1])\n",
    "                company_list.append(company_[0])\n",
    "            \n",
    "    for idx, i in enumerate(company_list):\n",
    "        recommend[i] = recom_distance_list[idx]\n",
    "    recommend = sorted(recommend.items(), key=lambda x:x[1], reverse=True)[:topn]\n",
    "    #return recommend\n",
    "    \n",
    "    for idx, i in enumerate(recommend):\n",
    "        print('\\n', idx+1, i[0])"
   ]
  },
  {
   "cell_type": "code",
   "execution_count": 61,
   "metadata": {
    "collapsed": false
   },
   "outputs": [
    {
     "name": "stdout",
     "output_type": "stream",
     "text": [
      "1차 산업군 선택 : \n",
      "['서비스업', '제조/화학', '의료/제약/복지', '유통/무역/운송', '교육업', '건설업', 'IT/웹/통신', '미디어/디자인', '은행/금융업', '기관/협회']\n",
      "제조/화학\n",
      "\n",
      "2차 산업군 선택 : \n",
      "['전기/전자/제어', '석유/화학/에너지', '식품가공/개발', '반도체/광학/디스플레이', '섬유/의류/패션', '환경', '기계/설비/자동차', '가구/목재/제지', '조선/항공/우주', '화장품/뷰티', '금속/재료/철강/요업', '생활용품/소비재/사무', '기타']\n",
      "전기/전자/제어\n",
      "\n",
      "검색 대상 회사 : 28 개 회사 \n",
      "['삼성전자(주)', '엘지이노텍(주)', '삼성에스디아이(주)', '팬택(주)', '삼성전기(주)', '한국단자공업(주)', '코리아써키트(주)', '히로세코리아(주)', '(주)케이엠더블유', '네패스(주)', '(주)인터플렉스', '(주)심텍홀딩스', '아모텍(주)', '져스텍(주)', '(주)인바디', '(주)오토닉스', '대덕지디에스(주)', '영풍전자(주)', '홍콩상하이은행', '(주)에이비비코리아', '타이코에이엠피(주)', '대한전선(주)', '유비쿼스(주)', '한화시스템(주)', '파트론(주)', '한국동서발전(주)', '크루셜텍(주)', '일진전기(주)']\n",
      "\n",
      "원하는 회사의 장점\n",
      "인간적인 사무실 분위기, 뛰어난 복지, 자부심이 느껴지는 곳\n",
      "\n",
      " 1 Company_팬택(주)\n",
      "\n",
      " 2 Company_(주)케이엠더블유\n",
      "\n",
      " 3 Company_크루셜텍(주)\n",
      "\n",
      " 4 Company_대한전선(주)\n",
      "\n",
      " 5 Company_유비쿼스(주)\n"
     ]
    }
   ],
   "source": [
    "similar_company_list= find_my_company(5, set_polarity = 'positive')"
   ]
  },
  {
   "cell_type": "code",
   "execution_count": 53,
   "metadata": {
    "collapsed": false
   },
   "outputs": [
    {
     "data": {
      "text/plain": [
       "[('Company_크루셜텍(주)', 0.7547199726104736),\n",
       " ('Company_팬택(주)', 0.7547199726104736),\n",
       " ('Company_(주)오토닉스', 0.6644994020462036),\n",
       " ('Company_유비쿼스(주)', 0.6606053113937378),\n",
       " ('Company_대한전선(주)', 0.6569345593452454)]"
      ]
     },
     "execution_count": 53,
     "metadata": {},
     "output_type": "execute_result"
    }
   ],
   "source": [
    "similar_company_list"
   ]
  },
  {
   "cell_type": "code",
   "execution_count": 43,
   "metadata": {
    "collapsed": false
   },
   "outputs": [
    {
     "name": "stdout",
     "output_type": "stream",
     "text": [
      "1차 산업군 선택 : \n",
      "['서비스업', '제조/화학', '의료/제약/복지', '유통/무역/운송', '교육업', '건설업', 'IT/웹/통신', '미디어/디자인', '은행/금융업', '기관/협회']\n",
      "제조/화학\n",
      "\n",
      "2차 산업군 선택 : \n",
      "['전기/전자/제어', '석유/화학/에너지', '식품가공/개발', '반도체/광학/디스플레이', '섬유/의류/패션', '환경', '기계/설비/자동차', '가구/목재/제지', '조선/항공/우주', '화장품/뷰티', '금속/재료/철강/요업', '생활용품/소비재/사무', '기타']\n",
      "전기/전자/제어\n",
      "\n",
      "검색 대상 회사 : 28 개 회사 \n",
      "['삼성전자(주)', '엘지이노텍(주)', '삼성에스디아이(주)', '팬택(주)', '삼성전기(주)', '한국단자공업(주)', '코리아써키트(주)', '히로세코리아(주)', '(주)케이엠더블유', '네패스(주)', '(주)인터플렉스', '(주)심텍홀딩스', '아모텍(주)', '져스텍(주)', '(주)인바디', '(주)오토닉스', '대덕지디에스(주)', '영풍전자(주)', '홍콩상하이은행', '(주)에이비비코리아', '타이코에이엠피(주)', '대한전선(주)', '유비쿼스(주)', '한화시스템(주)', '파트론(주)', '한국동서발전(주)', '크루셜텍(주)', '일진전기(주)']\n",
      "\n",
      "원하는 회사의 장점\n",
      "뛰어난 동료와 사무실 분위기\n",
      "\n",
      "피하고 싶은 회사의 단점\n",
      "적은 연봉\n"
     ]
    }
   ],
   "source": [
    "similar_company_list= find_my_company(10, set_polarity = 'both')"
   ]
  },
  {
   "cell_type": "code",
   "execution_count": 44,
   "metadata": {
    "collapsed": false
   },
   "outputs": [
    {
     "data": {
      "text/plain": [
       "[('Company_크루셜텍(주)', 0.28467464447021484),\n",
       " ('Company_팬택(주)', 0.23650842905044556),\n",
       " ('Company_(주)인바디', 0.17774799466133118),\n",
       " ('Company_삼성전자(주)', 0.1325964778661728),\n",
       " ('Company_유비쿼스(주)', 0.120412677526474),\n",
       " ('Company_대한전선(주)', 0.1093357726931572),\n",
       " ('Company_홍콩상하이은행', 0.1017989069223404),\n",
       " ('Company_코리아써키트(주)', 0.09539346396923065),\n",
       " ('Company_(주)오토닉스', 0.03739279881119728),\n",
       " ('Company_(주)인터플렉스', 0.03360418975353241)]"
      ]
     },
     "execution_count": 44,
     "metadata": {},
     "output_type": "execute_result"
    }
   ],
   "source": [
    "similar_company_list"
   ]
  },
  {
   "cell_type": "code",
   "execution_count": 62,
   "metadata": {
    "collapsed": false
   },
   "outputs": [
    {
     "name": "stdout",
     "output_type": "stream",
     "text": [
      "1차 산업군 선택 : \n",
      "['서비스업', '제조/화학', '의료/제약/복지', '유통/무역/운송', '교육업', '건설업', 'IT/웹/통신', '미디어/디자인', '은행/금융업', '기관/협회']\n",
      "서비스업\n",
      "\n",
      "2차 산업군 선택 : \n",
      "['호텔/여행/항공', '외식업/식음료', 'AS/카센터/주유', '뷰티/미용', '시설관리/용역/헤드헌팅', '레저/스포츠/여가', '기타']\n",
      "호텔/여행/항공\n",
      "\n",
      "검색 대상 회사 : 11 개 회사 \n",
      "['(주)하나투어', '호텔신라(주)', '대명레저산업(주)', '이랜드파크(주)', '모두투어네트워크(주)', '(주)노랑풍선', '한화호텔앤드리조트(주)', '내일투어(주)', '레드캡투어(주)', '(유)에스아이에프씨호텔디벨로프먼트', '제주항공(주)']\n",
      "\n",
      "원하는 회사의 장점\n",
      "인간적인 분위기 뛰어난 복지 일과 삶의 균형\n",
      "\n",
      "피하고 싶은 회사의 단점\n",
      "고객의 갑질 과도한 업무\n",
      "\n",
      " 1 Company_제주항공(주)\n",
      "\n",
      " 2 Company_레드캡투어(주)\n",
      "\n",
      " 3 Company_내일투어(주)\n",
      "\n",
      " 4 Company_(주)노랑풍선\n",
      "\n",
      " 5 Company_모두투어네트워크(주)\n"
     ]
    }
   ],
   "source": [
    "similar_company_list= find_my_company(5, set_polarity = 'both')"
   ]
  },
  {
   "cell_type": "code",
   "execution_count": 26,
   "metadata": {
    "collapsed": false
   },
   "outputs": [
    {
     "name": "stdout",
     "output_type": "stream",
     "text": [
      "1차 산업군 선택 : \n",
      "['서비스업', '제조/화학', '의료/제약/복지', '유통/무역/운송', '교육업', '건설업', 'IT/웹/통신', '미디어/디자인', '은행/금융업', '기관/협회']\n",
      "서비스업\n",
      "\n",
      "2차 산업군 선택 : \n",
      "['호텔/여행/항공', '외식업/식음료', 'AS/카센터/주유', '뷰티/미용', '시설관리/용역/헤드헌팅', '레저/스포츠/여가', '기타']\n",
      "호텔/여행/항공\n",
      "\n",
      "검색 대상 회사 : 11 개 회사 \n",
      "['(주)하나투어', '호텔신라(주)', '대명레저산업(주)', '이랜드파크(주)', '모두투어네트워크(주)', '(주)노랑풍선', '한화호텔앤드리조트(주)', '내일투어(주)', '레드캡투어(주)', '(유)에스아이에프씨호텔디벨로프먼트', '제주항공(주)']\n",
      "\n",
      "원하는 회사의 장점\n",
      "인간적인 분위기 뛰어난 복지 일과 삶의 균형\n",
      "\n",
      "피하고 싶은 회사의 단점\n",
      "고객의 갑질 과도한 업무\n"
     ]
    }
   ],
   "source": [
    "similar_company_list= find_my_company(5, set_polarity = 'both')"
   ]
  },
  {
   "cell_type": "code",
   "execution_count": 27,
   "metadata": {
    "collapsed": false
   },
   "outputs": [
    {
     "data": {
      "text/plain": [
       "[('Company_호텔신라(주)', 0.14878416061401367),\n",
       " ('Company_한화호텔앤드리조트(주)', 0.1375071108341217),\n",
       " ('Company_이랜드파크(주)', 0.08093768358230591),\n",
       " ('Company_제주항공(주)', -0.0027748597785830498),\n",
       " ('Company_(유)에스아이에프씨호텔디벨로프먼트', -0.005606256425380707)]"
      ]
     },
     "execution_count": 27,
     "metadata": {},
     "output_type": "execute_result"
    }
   ],
   "source": [
    "similar_company_list"
   ]
  },
  {
   "cell_type": "code",
   "execution_count": null,
   "metadata": {
    "collapsed": true
   },
   "outputs": [],
   "source": []
  }
 ],
 "metadata": {
  "anaconda-cloud": {},
  "kernelspec": {
   "display_name": "Python [conda env:Anaconda3]",
   "language": "python",
   "name": "conda-env-Anaconda3-py"
  },
  "language_info": {
   "codemirror_mode": {
    "name": "ipython",
    "version": 3
   },
   "file_extension": ".py",
   "mimetype": "text/x-python",
   "name": "python",
   "nbconvert_exporter": "python",
   "pygments_lexer": "ipython3",
   "version": "3.5.5"
  }
 },
 "nbformat": 4,
 "nbformat_minor": 2
}
