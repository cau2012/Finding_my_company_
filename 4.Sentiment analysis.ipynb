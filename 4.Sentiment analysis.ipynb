{
 "cells": [
  {
   "cell_type": "code",
   "execution_count": 38,
   "metadata": {
    "collapsed": true
   },
   "outputs": [],
   "source": [
    "import seaborn as sns\n",
    "from pandas.tools.plotting import scatter_matrix\n",
    "\n",
    "sns.set(style=\"ticks\")\n",
    "sns.set_style('whitegrid')\n",
    "sns.set_color_codes()\n",
    "\n",
    "import matplotlib\n",
    "from matplotlib import font_manager, rc\n",
    "font_name = font_manager.FontProperties(fname=\"c:/Windows/Fonts/malgun.ttf\").get_name()\n",
    "rc('font', family=font_name)\n",
    "import matplotlib.pyplot as plt"
   ]
  },
  {
   "cell_type": "code",
   "execution_count": 39,
   "metadata": {
    "collapsed": true
   },
   "outputs": [],
   "source": [
    "import sys\n",
    "sys.path.append('C:\\\\Users\\\\dlfdus\\\\PycharmProjects\\\\mypacakge\\\\')\n",
    "from corpus import DoublespaceLineCorpus\n",
    "from corpus import DoublespaceLineCorpusWithList\n",
    "from tqdm import tqdm_notebook\n",
    "import requests\n",
    "import pandas as pd\n",
    "import re\n",
    "import pickle\n",
    "from collections import Counter"
   ]
  },
  {
   "cell_type": "code",
   "execution_count": 40,
   "metadata": {
    "collapsed": false
   },
   "outputs": [],
   "source": [
    "import pycrfsuite\n",
    "from pycrfsuite_spacing import TemplateGenerator\n",
    "from pycrfsuite_spacing import CharacterFeatureTransformer\n",
    "from pycrfsuite_spacing import PyCRFSuiteSpacing\n",
    "from soynlp.tokenizer import LTokenizer\n",
    "import numpy as np"
   ]
  },
  {
   "cell_type": "code",
   "execution_count": 41,
   "metadata": {
    "collapsed": true
   },
   "outputs": [],
   "source": [
    "with open('data/tmp/tokenized_reviews.pkl', 'rb') as f:\n",
    "    tokenized_reviews = pickle.load(f)\n",
    "with open('data/tmp/word_dictionary.pkl', 'rb') as f:\n",
    "    word_dictionary = pickle.load(f)\n",
    "with open('data/tmp/jobplanet_cohesionscore.pkl', 'rb') as f:\n",
    "    cohesion_scores = pickle.load(f)\n",
    "ltokenizer = LTokenizer(scores=cohesion_scores)"
   ]
  },
  {
   "cell_type": "code",
   "execution_count": 42,
   "metadata": {
    "collapsed": false
   },
   "outputs": [],
   "source": [
    "to_feature = CharacterFeatureTransformer(TemplateGenerator(begin=-2, \n",
    "                                                           end=2,\n",
    "                                                           min_range_length=3,\n",
    "                                                           max_range_length=3))\n",
    "model_path = 'data/tmp/package_test.crfsuite'\n",
    "correct = PyCRFSuiteSpacing(to_feature)\n",
    "correct.load_tagger(model_path)"
   ]
  },
  {
   "cell_type": "code",
   "execution_count": 43,
   "metadata": {
    "collapsed": true
   },
   "outputs": [],
   "source": [
    "def tokenizer(comment):\n",
    "    comment = correct(comment)\n",
    "    tokenized = ''\n",
    "    for word in ltokenizer.tokenize(comment):\n",
    "        if word in word_dictionary and len(word)>1:\n",
    "            tokenized += word\n",
    "            tokenized += ' '\n",
    "    tokenized = tokenized.strip()\n",
    "    return tokenized"
   ]
  },
  {
   "cell_type": "code",
   "execution_count": 44,
   "metadata": {
    "collapsed": false
   },
   "outputs": [
    {
     "data": {
      "text/plain": [
       "'복지 좋지만 분위기 때문에 너무 힘듬'"
      ]
     },
     "execution_count": 44,
     "metadata": {},
     "output_type": "execute_result"
    }
   ],
   "source": [
    "tokenizer('복지는좋지만분위기때문에너무힘듬')"
   ]
  },
  {
   "cell_type": "code",
   "execution_count": 45,
   "metadata": {
    "collapsed": true
   },
   "outputs": [],
   "source": [
    "from sklearn.feature_extraction.text import CountVectorizer\n",
    "#tfidfvectorizer 보다 countvectorizer 성능이 더 좋음 (1프로 정도)\n",
    "vectorizer = CountVectorizer(lowercase=False)\n",
    "X_data = vectorizer.fit_transform(tokenized_reviews)"
   ]
  },
  {
   "cell_type": "code",
   "execution_count": 47,
   "metadata": {
    "collapsed": false
   },
   "outputs": [],
   "source": [
    "with open('data/tmp/vectorizer.pkl' , 'wb') as f:\n",
    "    pickle.dump(vectorizer, f)"
   ]
  },
  {
   "cell_type": "code",
   "execution_count": 48,
   "metadata": {
    "collapsed": true
   },
   "outputs": [],
   "source": [
    "Y_data = []\n",
    "for i in range(len(tokenized_reviews)):\n",
    "    if i < len(tokenized_reviews)/2:\n",
    "        Y_data.append(0)\n",
    "    else:\n",
    "        Y_data.append(1)"
   ]
  },
  {
   "cell_type": "code",
   "execution_count": 13,
   "metadata": {
    "collapsed": false
   },
   "outputs": [
    {
     "data": {
      "text/plain": [
       "<130770x15457 sparse matrix of type '<class 'numpy.int64'>'\n",
       "\twith 2175734 stored elements in Compressed Sparse Row format>"
      ]
     },
     "execution_count": 13,
     "metadata": {},
     "output_type": "execute_result"
    }
   ],
   "source": [
    "X_data"
   ]
  },
  {
   "cell_type": "code",
   "execution_count": 32,
   "metadata": {
    "collapsed": true
   },
   "outputs": [],
   "source": [
    "from sklearn.model_selection import train_test_split\n",
    "X_train, X_test, y_train, y_test = train_test_split(X_data, Y_data, test_size = 0.25)"
   ]
  },
  {
   "cell_type": "code",
   "execution_count": 49,
   "metadata": {
    "collapsed": false
   },
   "outputs": [
    {
     "data": {
      "text/plain": [
       "BernoulliNB(alpha=1.0, binarize=0.0, class_prior=None, fit_prior=True)"
      ]
     },
     "execution_count": 49,
     "metadata": {},
     "output_type": "execute_result"
    }
   ],
   "source": [
    "from sklearn.linear_model import LogisticRegression\n",
    "from sklearn.naive_bayes import BernoulliNB\n",
    "from sklearn.neural_network import MLPClassifier\n",
    "\n",
    "logistic_l2 = LogisticRegression(C=1, penalty='l2')\n",
    "logistic_l2.fit(X_train, y_train)\n",
    "\n",
    "NB = BernoulliNB()\n",
    "NB.fit(X_train, y_train)\n",
    "\n",
    "MLP = MLPClassifier(solver='adam', alpha=1e-5, hidden_layer_sizes=(12, 5), random_state=1)\n",
    "MLP.fit(X_train, y_train)"
   ]
  },
  {
   "cell_type": "code",
   "execution_count": 100,
   "metadata": {
    "collapsed": true
   },
   "outputs": [],
   "source": [
    "with open('data/tmp/lr.pkl' , 'wb') as f:\n",
    "    pickle.dump(logistic_l2, f)"
   ]
  },
  {
   "cell_type": "code",
   "execution_count": 104,
   "metadata": {
    "collapsed": true
   },
   "outputs": [],
   "source": [
    "#with open('data/tmp/MLP.pkl' , 'wb') as f:\n",
    "    #pickle.dump(MLP, f)"
   ]
  },
  {
   "cell_type": "code",
   "execution_count": 28,
   "metadata": {
    "collapsed": true
   },
   "outputs": [],
   "source": [
    "#with open('data/tmp/MLP.pkl' , 'rb') as f:\n",
    "    #MLP = pickle.load(f)"
   ]
  },
  {
   "cell_type": "code",
   "execution_count": 50,
   "metadata": {
    "collapsed": false
   },
   "outputs": [
    {
     "name": "stdout",
     "output_type": "stream",
     "text": [
      "Training accuracy: 0.95898\n",
      "Test accuracy: 0.93161\n",
      "             precision    recall  f1-score   support\n",
      "\n",
      "          0       0.93      0.93      0.93     16217\n",
      "          1       0.93      0.93      0.93     16476\n",
      "\n",
      "avg / total       0.93      0.93      0.93     32693\n",
      " \n",
      "\n"
     ]
    },
    {
     "data": {
      "text/html": [
       "<div>\n",
       "<style scoped>\n",
       "    .dataframe tbody tr th:only-of-type {\n",
       "        vertical-align: middle;\n",
       "    }\n",
       "\n",
       "    .dataframe tbody tr th {\n",
       "        vertical-align: top;\n",
       "    }\n",
       "\n",
       "    .dataframe thead th {\n",
       "        text-align: right;\n",
       "    }\n",
       "</style>\n",
       "<table border=\"1\" class=\"dataframe\">\n",
       "  <thead>\n",
       "    <tr style=\"text-align: right;\">\n",
       "      <th></th>\n",
       "      <th>Positive</th>\n",
       "      <th>Negative</th>\n",
       "    </tr>\n",
       "  </thead>\n",
       "  <tbody>\n",
       "    <tr>\n",
       "      <th>Positive</th>\n",
       "      <td>15142</td>\n",
       "      <td>1075</td>\n",
       "    </tr>\n",
       "    <tr>\n",
       "      <th>Negative</th>\n",
       "      <td>1161</td>\n",
       "      <td>15315</td>\n",
       "    </tr>\n",
       "  </tbody>\n",
       "</table>\n",
       "</div>"
      ],
      "text/plain": [
       "          Positive  Negative\n",
       "Positive     15142      1075\n",
       "Negative      1161     15315"
      ]
     },
     "execution_count": 50,
     "metadata": {},
     "output_type": "execute_result"
    }
   ],
   "source": [
    "from sklearn.metrics import confusion_matrix\n",
    "from sklearn.metrics import classification_report\n",
    "\n",
    "sns.set(style=\"ticks\")\n",
    "sns.set_style('whitegrid')\n",
    "sns.set_color_codes()\n",
    "\n",
    "print(\"Training accuracy: {:.5f}\".format(logistic_l2.score(X_train, y_train)))\n",
    "print(\"Test accuracy: {:.5f}\".format(logistic_l2.score(X_test, y_test)))\n",
    "predict = logistic_l2.predict(X_test)\n",
    "print(classification_report(predict, y_test), '\\n')\n",
    "cm = pd.DataFrame(confusion_matrix(predict, y_test), columns=['Positive','Negative'], index=['Positive','Negative'])\n",
    "cm"
   ]
  },
  {
   "cell_type": "code",
   "execution_count": 51,
   "metadata": {
    "collapsed": false
   },
   "outputs": [
    {
     "name": "stdout",
     "output_type": "stream",
     "text": [
      "Training accuracy: 0.91510\n",
      "Test accuracy: 0.90799\n",
      "             precision    recall  f1-score   support\n",
      "\n",
      "          0       0.93      0.89      0.91     17005\n",
      "          1       0.89      0.93      0.91     15688\n",
      "\n",
      "avg / total       0.91      0.91      0.91     32693\n",
      " \n",
      "\n"
     ]
    },
    {
     "data": {
      "text/html": [
       "<div>\n",
       "<style scoped>\n",
       "    .dataframe tbody tr th:only-of-type {\n",
       "        vertical-align: middle;\n",
       "    }\n",
       "\n",
       "    .dataframe tbody tr th {\n",
       "        vertical-align: top;\n",
       "    }\n",
       "\n",
       "    .dataframe thead th {\n",
       "        text-align: right;\n",
       "    }\n",
       "</style>\n",
       "<table border=\"1\" class=\"dataframe\">\n",
       "  <thead>\n",
       "    <tr style=\"text-align: right;\">\n",
       "      <th></th>\n",
       "      <th>Positive</th>\n",
       "      <th>Negative</th>\n",
       "    </tr>\n",
       "  </thead>\n",
       "  <tbody>\n",
       "    <tr>\n",
       "      <th>Positive</th>\n",
       "      <td>15150</td>\n",
       "      <td>1855</td>\n",
       "    </tr>\n",
       "    <tr>\n",
       "      <th>Negative</th>\n",
       "      <td>1153</td>\n",
       "      <td>14535</td>\n",
       "    </tr>\n",
       "  </tbody>\n",
       "</table>\n",
       "</div>"
      ],
      "text/plain": [
       "          Positive  Negative\n",
       "Positive     15150      1855\n",
       "Negative      1153     14535"
      ]
     },
     "execution_count": 51,
     "metadata": {},
     "output_type": "execute_result"
    }
   ],
   "source": [
    "sns.set(style=\"ticks\")\n",
    "sns.set_style('whitegrid')\n",
    "sns.set_color_codes()\n",
    "\n",
    "print(\"Training accuracy: {:.5f}\".format(NB.score(X_train, y_train)))\n",
    "print(\"Test accuracy: {:.5f}\".format(NB.score(X_test, y_test)))\n",
    "predict = NB.predict(X_test)\n",
    "print(classification_report(predict, y_test), '\\n')\n",
    "cm = pd.DataFrame(confusion_matrix(predict, y_test), columns=['Positive','Negative'], index=['Positive','Negative'])\n",
    "cm"
   ]
  },
  {
   "cell_type": "code",
   "execution_count": 36,
   "metadata": {
    "collapsed": false
   },
   "outputs": [
    {
     "name": "stdout",
     "output_type": "stream",
     "text": [
      "Training accuracy: 0.97670\n",
      "Test accuracy: 0.97709\n",
      "             precision    recall  f1-score   support\n",
      "\n",
      "          0       0.98      0.98      0.98     16268\n",
      "          1       0.98      0.98      0.98     16425\n",
      "\n",
      "avg / total       0.98      0.98      0.98     32693\n",
      " \n",
      "\n"
     ]
    },
    {
     "data": {
      "text/html": [
       "<div>\n",
       "<style scoped>\n",
       "    .dataframe tbody tr th:only-of-type {\n",
       "        vertical-align: middle;\n",
       "    }\n",
       "\n",
       "    .dataframe tbody tr th {\n",
       "        vertical-align: top;\n",
       "    }\n",
       "\n",
       "    .dataframe thead th {\n",
       "        text-align: right;\n",
       "    }\n",
       "</style>\n",
       "<table border=\"1\" class=\"dataframe\">\n",
       "  <thead>\n",
       "    <tr style=\"text-align: right;\">\n",
       "      <th></th>\n",
       "      <th>Positive</th>\n",
       "      <th>Negative</th>\n",
       "    </tr>\n",
       "  </thead>\n",
       "  <tbody>\n",
       "    <tr>\n",
       "      <th>Positive</th>\n",
       "      <td>15911</td>\n",
       "      <td>357</td>\n",
       "    </tr>\n",
       "    <tr>\n",
       "      <th>Negative</th>\n",
       "      <td>392</td>\n",
       "      <td>16033</td>\n",
       "    </tr>\n",
       "  </tbody>\n",
       "</table>\n",
       "</div>"
      ],
      "text/plain": [
       "          Positive  Negative\n",
       "Positive     15911       357\n",
       "Negative       392     16033"
      ]
     },
     "execution_count": 36,
     "metadata": {},
     "output_type": "execute_result"
    }
   ],
   "source": [
    "sns.set(style=\"ticks\")\n",
    "sns.set_style('whitegrid')\n",
    "sns.set_color_codes()\n",
    "\n",
    "print(\"Training accuracy: {:.5f}\".format(MLP.score(X_train, y_train)))\n",
    "print(\"Test accuracy: {:.5f}\".format(MLP.score(X_test, y_test)))\n",
    "predict = MLP.predict(X_test)\n",
    "print(classification_report(predict, y_test), '\\n')\n",
    "cm = pd.DataFrame(confusion_matrix(predict, y_test), columns=['Positive','Negative'], index=['Positive','Negative'])\n",
    "cm"
   ]
  },
  {
   "cell_type": "code",
   "execution_count": 57,
   "metadata": {
    "collapsed": false
   },
   "outputs": [],
   "source": [
    "def sentiment_analysis(model = logistic_l2, comment=0, direct_input=True, print_tokenized_text=False):\n",
    "    if direct_input == True:\n",
    "        comment = input()\n",
    "    tokenized_comment = [tokenizer(comment)]\n",
    "    if print_tokenized_text == True:\n",
    "        print(' -> ',tokenizer(comment))\n",
    "    vectorized_coemment = vectorizer.transform(tokenized_comment).toarray()\n",
    "    predict = model.predict(vectorized_coemment)\n",
    "    predict_proba = model.predict_proba(vectorized_coemment)\n",
    "    print(' ')\n",
    "    if predict[0] == 0:\n",
    "        print('긍정 문장\\n')\n",
    "    else:\n",
    "        print('부정 문장\\n')\n",
    "        \n",
    "    print('긍정 : {:.4f}\\n부정 : {:.4f}'.format(predict_proba[0][0], predict_proba[0][1]))"
   ]
  },
  {
   "cell_type": "code",
   "execution_count": 106,
   "metadata": {
    "collapsed": false
   },
   "outputs": [
    {
     "name": "stdout",
     "output_type": "stream",
     "text": [
      "정시퇴근 절대 못함\n",
      " \n",
      "부정 문장\n",
      "\n",
      "긍정 : 0.0000\n",
      "부정 : 1.0000\n"
     ]
    }
   ],
   "source": [
    "sentiment_analysis()"
   ]
  },
  {
   "cell_type": "code",
   "execution_count": 121,
   "metadata": {
    "collapsed": false
   },
   "outputs": [
    {
     "name": "stdout",
     "output_type": "stream",
     "text": [
      "정시퇴근 절대 못함\n",
      " \n",
      "부정 문장\n",
      "\n",
      "긍정 : 0.1424\n",
      "부정 : 0.8576\n"
     ]
    }
   ],
   "source": [
    "sentiment_analysis(model = logistic_l2)"
   ]
  },
  {
   "cell_type": "code",
   "execution_count": 25,
   "metadata": {
    "collapsed": false
   },
   "outputs": [
    {
     "name": "stdout",
     "output_type": "stream",
     "text": [
      "업무보다는 정치질이 우선인 회사 발전 가능성이 없음\n",
      " \n",
      "부정 문장\n",
      "\n",
      "긍정 : 0.1399\n",
      "부정 : 0.8601\n"
     ]
    }
   ],
   "source": [
    "sentiment_analysis()"
   ]
  },
  {
   "cell_type": "code",
   "execution_count": 26,
   "metadata": {
    "collapsed": false
   },
   "outputs": [
    {
     "name": "stdout",
     "output_type": "stream",
     "text": [
      "복지와 연봉 모두 최고 자부심이 느껴짐\n",
      " \n",
      "긍정 문장\n",
      "\n",
      "긍정 : 0.9361\n",
      "부정 : 0.0639\n"
     ]
    }
   ],
   "source": [
    "sentiment_analysis()"
   ]
  },
  {
   "cell_type": "code",
   "execution_count": 27,
   "metadata": {
    "collapsed": false
   },
   "outputs": [
    {
     "name": "stdout",
     "output_type": "stream",
     "text": [
      "대기업이지만 복지와 연봉이 좋지 않음\n",
      " \n",
      "부정 문장\n",
      "\n",
      "긍정 : 0.1120\n",
      "부정 : 0.8880\n"
     ]
    }
   ],
   "source": [
    "sentiment_analysis()"
   ]
  },
  {
   "cell_type": "code",
   "execution_count": 28,
   "metadata": {
    "collapsed": false
   },
   "outputs": [
    {
     "name": "stdout",
     "output_type": "stream",
     "text": [
      "성장 가능성이 낮음\n",
      " \n",
      "부정 문장\n",
      "\n",
      "긍정 : 0.3959\n",
      "부정 : 0.6041\n"
     ]
    }
   ],
   "source": [
    "sentiment_analysis()"
   ]
  },
  {
   "cell_type": "code",
   "execution_count": 30,
   "metadata": {
    "collapsed": false
   },
   "outputs": [
    {
     "name": "stdout",
     "output_type": "stream",
     "text": [
      "연봉 좋고 복지는 좋지만 절대 다니고 싶지 않은 회사\n",
      " \n",
      "긍정 문장\n",
      "\n",
      "긍정 : 0.7578\n",
      "부정 : 0.2422\n"
     ]
    }
   ],
   "source": [
    "sentiment_analysis()"
   ]
  },
  {
   "cell_type": "code",
   "execution_count": 31,
   "metadata": {
    "collapsed": false
   },
   "outputs": [
    {
     "name": "stdout",
     "output_type": "stream",
     "text": [
      "연봉은 좋고 복지는 좋지만 꼭 다니고 싶은 회사\n",
      " \n",
      "긍정 문장\n",
      "\n",
      "긍정 : 0.9234\n",
      "부정 : 0.0766\n"
     ]
    }
   ],
   "source": [
    "sentiment_analysis()"
   ]
  },
  {
   "cell_type": "code",
   "execution_count": 38,
   "metadata": {
    "collapsed": false
   },
   "outputs": [
    {
     "name": "stdout",
     "output_type": "stream",
     "text": [
      "연봉 좋고 복지는 좋지만 쓰레기같은 회사 절대 다니면 안됨 최악\n",
      " \n",
      "부정 문장\n",
      "\n",
      "긍정 : 0.0585\n",
      "부정 : 0.9415\n"
     ]
    }
   ],
   "source": [
    "sentiment_analysis()"
   ]
  },
  {
   "cell_type": "code",
   "execution_count": 42,
   "metadata": {
    "collapsed": false
   },
   "outputs": [
    {
     "name": "stdout",
     "output_type": "stream",
     "text": [
      "연봉 좋음 연봉 최악\n",
      " \n",
      "긍정 문장\n",
      "\n",
      "긍정 : 0.5960\n",
      "부정 : 0.4040\n"
     ]
    }
   ],
   "source": [
    "sentiment_analysis()"
   ]
  },
  {
   "cell_type": "code",
   "execution_count": 43,
   "metadata": {
    "collapsed": false
   },
   "outputs": [
    {
     "name": "stdout",
     "output_type": "stream",
     "text": [
      "최고 최악\n",
      " \n",
      "부정 문장\n",
      "\n",
      "긍정 : 0.3793\n",
      "부정 : 0.6207\n"
     ]
    }
   ],
   "source": [
    "sentiment_analysis()"
   ]
  },
  {
   "cell_type": "code",
   "execution_count": 45,
   "metadata": {
    "collapsed": false
   },
   "outputs": [
    {
     "name": "stdout",
     "output_type": "stream",
     "text": [
      "최악 최고\n",
      " \n",
      "부정 문장\n",
      "\n",
      "긍정 : 0.3793\n",
      "부정 : 0.6207\n"
     ]
    }
   ],
   "source": [
    "sentiment_analysis()"
   ]
  },
  {
   "cell_type": "code",
   "execution_count": 47,
   "metadata": {
    "collapsed": false
   },
   "outputs": [
    {
     "name": "stdout",
     "output_type": "stream",
     "text": [
      "최고 최악 최고\n",
      " \n",
      "긍정 문장\n",
      "\n",
      "긍정 : 0.6945\n",
      "부정 : 0.3055\n"
     ]
    }
   ],
   "source": [
    "sentiment_analysis()"
   ]
  },
  {
   "cell_type": "code",
   "execution_count": 85,
   "metadata": {
    "collapsed": false
   },
   "outputs": [
    {
     "name": "stdout",
     "output_type": "stream",
     "text": [
      "연봉이 높습니다. 정시퇴근을 합니다.\n",
      " \n",
      "긍정 문장\n",
      "\n",
      "긍정 : 0.7406\n",
      "부정 : 0.2594\n"
     ]
    }
   ],
   "source": [
    "sentiment_analysis()"
   ]
  },
  {
   "cell_type": "code",
   "execution_count": 86,
   "metadata": {
    "collapsed": false
   },
   "outputs": [
    {
     "name": "stdout",
     "output_type": "stream",
     "text": [
      "연봉이 낮기도 하고 연봉이 높기도 합니다. 정시퇴근을 안할 때도 있고 정시퇴근을 할 때도 있습니다.\n",
      " \n",
      "부정 문장\n",
      "\n",
      "긍정 : 0.2293\n",
      "부정 : 0.7707\n"
     ]
    }
   ],
   "source": [
    "sentiment_analysis()"
   ]
  },
  {
   "cell_type": "code",
   "execution_count": 87,
   "metadata": {
    "collapsed": false
   },
   "outputs": [
    {
     "name": "stdout",
     "output_type": "stream",
     "text": [
      "연봉이 높기도 하고 연봉이 낮기도 합니다. 정시퇴근을 할 때도 있고 정시퇴근을 안할 때도 있습니다.\n",
      " \n",
      "부정 문장\n",
      "\n",
      "긍정 : 0.2293\n",
      "부정 : 0.7707\n"
     ]
    }
   ],
   "source": [
    "sentiment_analysis()"
   ]
  },
  {
   "cell_type": "code",
   "execution_count": 50,
   "metadata": {
    "collapsed": true
   },
   "outputs": [],
   "source": [
    "sentences = ['주 5일제 연장근무 수당 30분 단위 지급.칼퇴 가능. 칼출근도 가능.진급 가능. 진급시 신세계 정직원. 내부채용으로 사무직도 지원가능하나 생각보다 매장직 근무자들이 해외 출신이 많으며 고스펙자들이 많음.',\n",
    "            '같은 임금이지만 매장에 따라 노동강도가 차이가 많이난다.',\n",
    "            '합리적인 복지 보상체계 부족 ..그닥 딱히 쓸만한 것이 없는 것같다',\n",
    "            '체계적인 시스템에서 업무 습득이 가능, 수평적인 분위기',\n",
    "            '수평적 관계로 사람들 모두가 좋음 칼퇴근가능 새로운 것에 대한 도전에 두려움 없음',\n",
    "            '직원이 많지 않아 스스로 해결해야 하는 일이 많다. 직원들은 수평적이지만 대표님은 권위적일 수 있음']"
   ]
  },
  {
   "cell_type": "code",
   "execution_count": 70,
   "metadata": {
    "collapsed": false
   },
   "outputs": [
    {
     "name": "stdout",
     "output_type": "stream",
     "text": [
      "주 5일제 연장근무 수당 30분 단위 지급.칼퇴 가능. 칼출근도 가능.진급 가능. 진급시 신세계 정직원. 내부채용으로 사무직도 지원가능하나 생각보다 매장직 근무자들이 해외 출신이 많으며 고스펙자들이 많음. \n",
      "\n",
      " ->  5일 연장근무 수당 30분 단위 지급 가능 칼출근 가능 가능 진급 신세계 정직원 내부 채용 으로 사무직 지원 가능 하나 생각 보다 매장 근무 자들이 해외 출신이 많으며 들이 많음\n",
      " \n",
      "긍정 문장\n",
      "\n",
      "긍정 : 0.9967\n",
      "부정 : 0.0033\n",
      "----------------------------------------------------\n",
      "같은 임금이지만 매장에 따라 노동강도가 차이가 많이난다. \n",
      "\n",
      " ->  같은 임금 이지만 매장에 따라 노동강도가 차이가 많이 난다\n",
      " \n",
      "부정 문장\n",
      "\n",
      "긍정 : 0.0430\n",
      "부정 : 0.9570\n",
      "----------------------------------------------------\n",
      "합리적인 복지 보상체계 부족 ..그닥 딱히 쓸만한 것이 없는 것같다 \n",
      "\n",
      " ->  합리적인 복지 보상체계 부족 그닥 딱히 쓸만한 것이 없는 같다\n",
      " \n",
      "부정 문장\n",
      "\n",
      "긍정 : 0.0562\n",
      "부정 : 0.9438\n",
      "----------------------------------------------------\n",
      "체계적인 시스템에서 업무 습득이 가능, 수평적인 분위기 \n",
      "\n",
      " ->  체계 적인 시스템 에서 업무 습득 가능 수평적인 분위기\n",
      " \n",
      "긍정 문장\n",
      "\n",
      "긍정 : 0.9926\n",
      "부정 : 0.0074\n",
      "----------------------------------------------------\n",
      "수평적 관계로 사람들 모두가 좋음 칼퇴근가능 새로운 것에 대한 도전에 두려움 없음 \n",
      "\n",
      " ->  수평적 관계 사람들 모두 좋음 칼퇴 가능 새로운 것에 대한 도전 없음\n",
      " \n",
      "긍정 문장\n",
      "\n",
      "긍정 : 0.9984\n",
      "부정 : 0.0016\n",
      "----------------------------------------------------\n",
      "직원이 많지 않아 스스로 해결해야 하는 일이 많다. 직원들은 수평적이지만 대표님은 권위적일 수 있음 \n",
      "\n",
      " ->  직원 많지 않아 스스로 해결해야 하는 일이 많다 직원 들은 수평적 이지만 대표님 권위적 있음\n",
      " \n",
      "긍정 문장\n",
      "\n",
      "긍정 : 0.6277\n",
      "부정 : 0.3723\n",
      "----------------------------------------------------\n"
     ]
    }
   ],
   "source": [
    "for sentence in sentences:\n",
    "    print(sentence, '\\n')\n",
    "    sentiment_analysis(sentence, direct_input=False, print_tokenized_text=True)\n",
    "    print('----------------------------------------------------')"
   ]
  },
  {
   "cell_type": "code",
   "execution_count": 86,
   "metadata": {
    "collapsed": false
   },
   "outputs": [
    {
     "name": "stdout",
     "output_type": "stream",
     "text": [
      "일이 많음^^\n",
      " \n",
      "부정 문장\n",
      "\n",
      "긍정 : 0.3448\n",
      "부정 : 0.6552\n"
     ]
    }
   ],
   "source": [
    "sentiment_analysis(print_tokenized_text=False)"
   ]
  },
  {
   "cell_type": "code",
   "execution_count": 58,
   "metadata": {
    "collapsed": false
   },
   "outputs": [
    {
     "name": "stdout",
     "output_type": "stream",
     "text": [
      "다좋은데 애들이 더럽다\n",
      " \n",
      "부정 문장\n",
      "\n",
      "긍정 : 0.3586\n",
      "부정 : 0.6414\n"
     ]
    }
   ],
   "source": [
    "sentiment_analysis()"
   ]
  },
  {
   "cell_type": "code",
   "execution_count": 59,
   "metadata": {
    "collapsed": false
   },
   "outputs": [
    {
     "name": "stdout",
     "output_type": "stream",
     "text": [
      "다좋은데 애들이 너무 더럽다\n",
      " \n",
      "부정 문장\n",
      "\n",
      "긍정 : 0.0864\n",
      "부정 : 0.9136\n"
     ]
    }
   ],
   "source": [
    "sentiment_analysis()"
   ]
  },
  {
   "cell_type": "code",
   "execution_count": 61,
   "metadata": {
    "collapsed": false
   },
   "outputs": [
    {
     "name": "stdout",
     "output_type": "stream",
     "text": [
      "연봉이 높다\n",
      " \n",
      "긍정 문장\n",
      "\n",
      "긍정 : 0.6220\n",
      "부정 : 0.3780\n"
     ]
    }
   ],
   "source": [
    "sentiment_analysis()"
   ]
  },
  {
   "cell_type": "code",
   "execution_count": 65,
   "metadata": {
    "collapsed": false
   },
   "outputs": [
    {
     "name": "stdout",
     "output_type": "stream",
     "text": [
      "연봉이 너무 높다\n",
      " \n",
      "부정 문장\n",
      "\n",
      "긍정 : 0.2178\n",
      "부정 : 0.7822\n"
     ]
    }
   ],
   "source": [
    "sentiment_analysis()"
   ]
  },
  {
   "cell_type": "code",
   "execution_count": 68,
   "metadata": {
    "collapsed": false
   },
   "outputs": [
    {
     "name": "stdout",
     "output_type": "stream",
     "text": [
      "연봉이 진짜 높아서 너무 좋다\n",
      " \n",
      "긍정 문장\n",
      "\n",
      "긍정 : 0.7870\n",
      "부정 : 0.2130\n"
     ]
    }
   ],
   "source": [
    "sentiment_analysis()"
   ]
  },
  {
   "cell_type": "code",
   "execution_count": 70,
   "metadata": {
    "collapsed": false
   },
   "outputs": [
    {
     "name": "stdout",
     "output_type": "stream",
     "text": [
      "연봉이 진짜 높아서 좋다\n",
      " \n",
      "긍정 문장\n",
      "\n",
      "긍정 : 0.9562\n",
      "부정 : 0.0438\n"
     ]
    }
   ],
   "source": [
    "sentiment_analysis()"
   ]
  }
 ],
 "metadata": {
  "anaconda-cloud": {},
  "kernelspec": {
   "display_name": "Python [conda env:Anaconda3]",
   "language": "python",
   "name": "conda-env-Anaconda3-py"
  },
  "language_info": {
   "codemirror_mode": {
    "name": "ipython",
    "version": 3
   },
   "file_extension": ".py",
   "mimetype": "text/x-python",
   "name": "python",
   "nbconvert_exporter": "python",
   "pygments_lexer": "ipython3",
   "version": "3.5.5"
  }
 },
 "nbformat": 4,
 "nbformat_minor": 2
}
