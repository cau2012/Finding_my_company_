{
 "cells": [
  {
   "cell_type": "code",
   "execution_count": 1,
   "metadata": {
    "collapsed": true
   },
   "outputs": [],
   "source": [
    "import sys\n",
    "sys.path.append('C:\\\\Users\\\\dlfdus\\\\PycharmProjects\\\\mypacakge\\\\')\n",
    "from corpus import DoublespaceLineCorpus\n",
    "from corpus import DoublespaceLineCorpusWithList\n",
    "from tqdm import tqdm_notebook\n",
    "import requests\n",
    "import pandas as pd\n",
    "import re\n",
    "import pickle\n",
    "from collections import Counter"
   ]
  },
  {
   "cell_type": "code",
   "execution_count": 2,
   "metadata": {
    "collapsed": false
   },
   "outputs": [],
   "source": [
    "data = pd.read_csv('data/reviews/회사리뷰.csv')\n",
    "positive = data[\"장점\"]\n",
    "negative = data[\"단점\"]"
   ]
  },
  {
   "cell_type": "code",
   "execution_count": 3,
   "metadata": {
    "collapsed": false
   },
   "outputs": [
    {
     "data": {
      "text/html": [
       "<div>\n",
       "<style scoped>\n",
       "    .dataframe tbody tr th:only-of-type {\n",
       "        vertical-align: middle;\n",
       "    }\n",
       "\n",
       "    .dataframe tbody tr th {\n",
       "        vertical-align: top;\n",
       "    }\n",
       "\n",
       "    .dataframe thead th {\n",
       "        text-align: right;\n",
       "    }\n",
       "</style>\n",
       "<table border=\"1\" class=\"dataframe\">\n",
       "  <thead>\n",
       "    <tr style=\"text-align: right;\">\n",
       "      <th></th>\n",
       "      <th>1차산업군</th>\n",
       "      <th>2차산업군</th>\n",
       "      <th>회사명</th>\n",
       "      <th>날짜</th>\n",
       "      <th>직무</th>\n",
       "      <th>제목</th>\n",
       "      <th>장점</th>\n",
       "      <th>단점</th>\n",
       "      <th>원하는점</th>\n",
       "    </tr>\n",
       "  </thead>\n",
       "  <tbody>\n",
       "    <tr>\n",
       "      <th>0</th>\n",
       "      <td>서비스업</td>\n",
       "      <td>호텔/여행/항공</td>\n",
       "      <td>(주)하나투어</td>\n",
       "      <td>2018/9/28</td>\n",
       "      <td>서비스/고객지원</td>\n",
       "      <td>\"배울점은 많고 업계1위라서 자부심도 높음 연봉복지모두 나쁘지 않음\"</td>\n",
       "      <td>업계1위 어딜가든 하나투어다닌다고하면 인정함 배울것이 많음 작은여행사다니는 친구들에...</td>\n",
       "      <td>하나투어공채랑 그외 계열사에서 뽑은 인원들 차별이 존재함\\r\\r\\n근데 근무는 같이...</td>\n",
       "      <td>보여지는것만에 치중하지말고 정말 직원들이 원하는걸 해줬으면 좋겠음\\r\\r\\n시대에 ...</td>\n",
       "    </tr>\n",
       "    <tr>\n",
       "      <th>1</th>\n",
       "      <td>서비스업</td>\n",
       "      <td>호텔/여행/항공</td>\n",
       "      <td>(주)하나투어</td>\n",
       "      <td>2018/9/28</td>\n",
       "      <td>경영/기획/컨설팅</td>\n",
       "      <td>\"여행혜택,아직은 가족같은, 연차 자유롭게, 워라밸, 연봉은 타업종비해 낮으나 적응...</td>\n",
       "      <td>여행혜택, 가족같은, 연차 자유롭게 사용할수 있음. 가족들,아이들과의 삶의 균형 측...</td>\n",
       "      <td>타업종대비 급여는 낮음. 변화가 크지 않고, 항상 비슷한 패턴의 일의 반복임.\\r\\...</td>\n",
       "      <td>좋은 점은 살리고, 변화는 필요. 업종이 서비스업이라 타제조업대비 급여는 낮다는 것...</td>\n",
       "    </tr>\n",
       "    <tr>\n",
       "      <th>2</th>\n",
       "      <td>서비스업</td>\n",
       "      <td>호텔/여행/항공</td>\n",
       "      <td>(주)하나투어</td>\n",
       "      <td>2018/9/26</td>\n",
       "      <td>영업/제휴</td>\n",
       "      <td>\"워라벨은 있는기업 젊은회사 연차 편하게씀\"</td>\n",
       "      <td>연차는 편하게쓰는편 젊은회사라 커뮤니케이션은 잘되는편</td>\n",
       "      <td>직원들의 낮은수준 회사 규모에비해 직원들이 너무 공부안함</td>\n",
       "      <td>줄세우기말고 순환보직 필요 젊은회사인데 꼰대기질 있음</td>\n",
       "    </tr>\n",
       "    <tr>\n",
       "      <th>3</th>\n",
       "      <td>서비스업</td>\n",
       "      <td>호텔/여행/항공</td>\n",
       "      <td>(주)하나투어</td>\n",
       "      <td>2018/9/26</td>\n",
       "      <td>마케팅/시장조사</td>\n",
       "      <td>\"여행업에 대한 기본적인 이해가 가능하지만 발전할 수 없는 구조임을 느끼게해준 회사\"</td>\n",
       "      <td>브랜드 인지도 1위, 저녁이 있는 삶, 여행갈 때 할인</td>\n",
       "      <td>직원들의 패배감(부산지사), 산업의 성장동력 약화, 워라벨을 즐길 수 없는 연봉</td>\n",
       "      <td>새로운 아이디어를 통해 기업이 발전할 수 있는 방향을 빠른 시일내에 마련해야한다</td>\n",
       "    </tr>\n",
       "    <tr>\n",
       "      <th>4</th>\n",
       "      <td>서비스업</td>\n",
       "      <td>호텔/여행/항공</td>\n",
       "      <td>(주)하나투어</td>\n",
       "      <td>2018/9/25</td>\n",
       "      <td>전문직</td>\n",
       "      <td>\"전문직을 너무 대우 안해줌\\r\\r\\n1년 넘게 공부해서 자격증 따고 들어갔는데 너...</td>\n",
       "      <td>이름이 알려져 있음\\r\\r\\n사람들이 어디다니냐 그러면 말했울때 모르지는 않음..ㅠ...</td>\n",
       "      <td>급여 너무 짜고 프로세스 전무에 자격증 있음에도 대우 못 받음...ㅠ</td>\n",
       "      <td>그냥 일한대로 주고 자격증 보고 뽑았으면 그에 맞는 대우를...</td>\n",
       "    </tr>\n",
       "  </tbody>\n",
       "</table>\n",
       "</div>"
      ],
      "text/plain": [
       "  1차산업군     2차산업군      회사명         날짜         직무  \\\n",
       "0  서비스업  호텔/여행/항공  (주)하나투어  2018/9/28   서비스/고객지원   \n",
       "1  서비스업  호텔/여행/항공  (주)하나투어  2018/9/28  경영/기획/컨설팅   \n",
       "2  서비스업  호텔/여행/항공  (주)하나투어  2018/9/26      영업/제휴   \n",
       "3  서비스업  호텔/여행/항공  (주)하나투어  2018/9/26   마케팅/시장조사   \n",
       "4  서비스업  호텔/여행/항공  (주)하나투어  2018/9/25        전문직   \n",
       "\n",
       "                                                  제목  \\\n",
       "0             \"배울점은 많고 업계1위라서 자부심도 높음 연봉복지모두 나쁘지 않음\"   \n",
       "1  \"여행혜택,아직은 가족같은, 연차 자유롭게, 워라밸, 연봉은 타업종비해 낮으나 적응...   \n",
       "2                           \"워라벨은 있는기업 젊은회사 연차 편하게씀\"   \n",
       "3    \"여행업에 대한 기본적인 이해가 가능하지만 발전할 수 없는 구조임을 느끼게해준 회사\"   \n",
       "4  \"전문직을 너무 대우 안해줌\\r\\r\\n1년 넘게 공부해서 자격증 따고 들어갔는데 너...   \n",
       "\n",
       "                                                  장점  \\\n",
       "0  업계1위 어딜가든 하나투어다닌다고하면 인정함 배울것이 많음 작은여행사다니는 친구들에...   \n",
       "1  여행혜택, 가족같은, 연차 자유롭게 사용할수 있음. 가족들,아이들과의 삶의 균형 측...   \n",
       "2                      연차는 편하게쓰는편 젊은회사라 커뮤니케이션은 잘되는편   \n",
       "3                     브랜드 인지도 1위, 저녁이 있는 삶, 여행갈 때 할인   \n",
       "4  이름이 알려져 있음\\r\\r\\n사람들이 어디다니냐 그러면 말했울때 모르지는 않음..ㅠ...   \n",
       "\n",
       "                                                  단점  \\\n",
       "0  하나투어공채랑 그외 계열사에서 뽑은 인원들 차별이 존재함\\r\\r\\n근데 근무는 같이...   \n",
       "1  타업종대비 급여는 낮음. 변화가 크지 않고, 항상 비슷한 패턴의 일의 반복임.\\r\\...   \n",
       "2                    직원들의 낮은수준 회사 규모에비해 직원들이 너무 공부안함   \n",
       "3       직원들의 패배감(부산지사), 산업의 성장동력 약화, 워라벨을 즐길 수 없는 연봉   \n",
       "4             급여 너무 짜고 프로세스 전무에 자격증 있음에도 대우 못 받음...ㅠ   \n",
       "\n",
       "                                                원하는점  \n",
       "0  보여지는것만에 치중하지말고 정말 직원들이 원하는걸 해줬으면 좋겠음\\r\\r\\n시대에 ...  \n",
       "1  좋은 점은 살리고, 변화는 필요. 업종이 서비스업이라 타제조업대비 급여는 낮다는 것...  \n",
       "2                      줄세우기말고 순환보직 필요 젊은회사인데 꼰대기질 있음  \n",
       "3       새로운 아이디어를 통해 기업이 발전할 수 있는 방향을 빠른 시일내에 마련해야한다  \n",
       "4                그냥 일한대로 주고 자격증 보고 뽑았으면 그에 맞는 대우를...  "
      ]
     },
     "execution_count": 3,
     "metadata": {},
     "output_type": "execute_result"
    }
   ],
   "source": [
    "data.head()"
   ]
  },
  {
   "cell_type": "code",
   "execution_count": 101,
   "metadata": {
    "collapsed": true
   },
   "outputs": [],
   "source": [
    "#데이터의 정규표현 제거"
   ]
  },
  {
   "cell_type": "code",
   "execution_count": 4,
   "metadata": {
    "collapsed": false
   },
   "outputs": [
    {
     "name": "stdout",
     "output_type": "stream",
     "text": [
      "\n"
     ]
    }
   ],
   "source": [
    "for idx, i in enumerate(tqdm_notebook(positive)):\n",
    "    if '\\r' in positive[idx]:positive[idx] = positive[idx].replace('\\r','')\n",
    "    if '\\t' in positive[idx]:positive[idx] = positive[idx].replace('\\t',' ')\n",
    "    if '\\n' in positive[idx]:positive[idx] = positive[idx].replace('\\n',' ')"
   ]
  },
  {
   "cell_type": "code",
   "execution_count": 5,
   "metadata": {
    "collapsed": false
   },
   "outputs": [
    {
     "name": "stdout",
     "output_type": "stream",
     "text": [
      "\n"
     ]
    }
   ],
   "source": [
    "for idx, i in enumerate(tqdm_notebook(negative)):\n",
    "    if '\\r' in negative[idx]:negative[idx] = negative[idx].replace('\\r','')\n",
    "    if '\\t' in negative[idx]:negative[idx] = negative[idx].replace('\\t','')\n",
    "    if '\\n' in negative[idx]:negative[idx] = negative[idx].replace('\\n',' ')"
   ]
  },
  {
   "cell_type": "code",
   "execution_count": 6,
   "metadata": {
    "collapsed": true
   },
   "outputs": [],
   "source": [
    "PN = list(positive) + list(negative)"
   ]
  },
  {
   "cell_type": "code",
   "execution_count": 7,
   "metadata": {
    "collapsed": true
   },
   "outputs": [],
   "source": [
    "# 알파벳, 특수문자 제거"
   ]
  },
  {
   "cell_type": "code",
   "execution_count": 25,
   "metadata": {
    "collapsed": true
   },
   "outputs": [],
   "source": [
    "normalize_ = False"
   ]
  },
  {
   "cell_type": "code",
   "execution_count": 9,
   "metadata": {
    "collapsed": false
   },
   "outputs": [],
   "source": [
    "if normalize_ == True:\n",
    "    from soynlp.hangle import normalize\n",
    "    normalized_data = [normalize(i, number = True, punctuation=False) for i in PN]\n",
    "    with open('data/tmp/normalized_data.pkl', 'wb') as f:\n",
    "        pickle.dump(normalized_data, f)\n",
    "else:\n",
    "    with open('data/tmp/normalized_data.pkl', 'rb') as f:\n",
    "        normalized_data = pickle.load(f)"
   ]
  },
  {
   "cell_type": "code",
   "execution_count": 28,
   "metadata": {
    "collapsed": false
   },
   "outputs": [
    {
     "name": "stdout",
     "output_type": "stream",
     "text": [
      "연차사용은 비교적 자유로운편. 회사 복지-거점운영,시차근무,재택근무,직원용항공권제공, 각 상품 직원가이용 가능 . 팀바팀이지만 대체로 젊은 분위기. 정시퇴근함. 과장까지는 승진 어려움 없음. \n",
      "\n",
      " ↓ \n",
      "\n",
      "연차사용은 비교적 자유로운편 회사 복지 거점운영 시차근무 재택근무 직원용항공권제공 각 상품 직원가이용 가능 팀바팀이지만 대체로 젊은 분위기 정시퇴근함 과장까지는 승진 어려움 없음\n"
     ]
    }
   ],
   "source": [
    "print(positive[5], '\\n\\n ↓ \\n\\n{}'.format(normalize(positive[5])))"
   ]
  },
  {
   "cell_type": "code",
   "execution_count": 103,
   "metadata": {
    "collapsed": true
   },
   "outputs": [],
   "source": [
    "#CRF를 이용한 띄어쓰기 오류 교정"
   ]
  },
  {
   "cell_type": "code",
   "execution_count": 29,
   "metadata": {
    "collapsed": true
   },
   "outputs": [],
   "source": [
    "import pycrfsuite\n",
    "from pycrfsuite_spacing import TemplateGenerator\n",
    "from pycrfsuite_spacing import CharacterFeatureTransformer\n",
    "from pycrfsuite_spacing import PyCRFSuiteSpacing"
   ]
  },
  {
   "cell_type": "code",
   "execution_count": 30,
   "metadata": {
    "collapsed": true
   },
   "outputs": [],
   "source": [
    "to_feature = CharacterFeatureTransformer(TemplateGenerator(begin=-2, \n",
    "                                                           end=2,\n",
    "                                                           min_range_length=3,\n",
    "                                                           max_range_length=3))"
   ]
  },
  {
   "cell_type": "code",
   "execution_count": 31,
   "metadata": {
    "collapsed": true
   },
   "outputs": [],
   "source": [
    "TrainCRF = False"
   ]
  },
  {
   "cell_type": "code",
   "execution_count": 32,
   "metadata": {
    "collapsed": false
   },
   "outputs": [],
   "source": [
    "if TrainCRF == True:\n",
    "    correct = PyCRFSuiteSpacing(to_feature,\n",
    "                                feature_minfreq=5, \n",
    "                                max_iterations=100,\n",
    "                                l1_cost=0,\n",
    "                                l2_cost=1.0\n",
    "                               )\n",
    "    correct.train(normalized_data, 'data/tmp/package_test.crfsuite')\n",
    "else:\n",
    "    model_path = 'data/tmp/package_test.crfsuite'\n",
    "    correct = PyCRFSuiteSpacing(to_feature)\n",
    "    correct.load_tagger(model_path)"
   ]
  },
  {
   "cell_type": "code",
   "execution_count": 36,
   "metadata": {
    "collapsed": false
   },
   "outputs": [],
   "source": [
    "sentence = normalize(positive[5])"
   ]
  },
  {
   "cell_type": "code",
   "execution_count": 34,
   "metadata": {
    "collapsed": false
   },
   "outputs": [
    {
     "data": {
      "text/plain": [
       "'연차 사용은 비교적 자유로운 편 회사 복지 거점 운영 시차 근무 재택근무 직원용 항공권 제공 각 상품 직원가 이용 가능 팀바팀이지만 대체로 젊은 분위기 정시퇴근함 과장까지는 승진 어려움 없음'"
      ]
     },
     "execution_count": 34,
     "metadata": {},
     "output_type": "execute_result"
    }
   ],
   "source": [
    "correct('연차사용은 비교적 자유로운편 회사 복지 거점운영 시차근무 재택근무 직원용항공권제공 각 상품 직원가이용 가능 팀바팀이지만 대체로 젊은 분위기 정시퇴근함 과장까지는 승진 어려움 없음')"
   ]
  },
  {
   "cell_type": "code",
   "execution_count": 37,
   "metadata": {
    "collapsed": false
   },
   "outputs": [
    {
     "name": "stdout",
     "output_type": "stream",
     "text": [
      "연차사용은 비교적 자유로운편 회사 복지 거점운영 시차근무 재택근무 직원용항공권제공 각 상품 직원가이용 가능 팀바팀이지만 대체로 젊은 분위기 정시퇴근함 과장까지는 승진 어려움 없음 \n",
      "\n",
      " ↓ \n",
      "\n",
      "연차 사용은 비교적 자유로운 편 회사 복지 거점 운영 시차 근무 재택근무 직원용 항공권 제공 각 상품 직원가 이용 가능 팀바팀이지만 대체로 젊은 분위기 정시퇴근함 과장까지는 승진 어려움 없음\n"
     ]
    }
   ],
   "source": [
    "print(sentence, '\\n\\n ↓ \\n\\n{}'.format(correct(sentence)))"
   ]
  },
  {
   "cell_type": "code",
   "execution_count": 39,
   "metadata": {
    "collapsed": true
   },
   "outputs": [],
   "source": [
    "spacing = False"
   ]
  },
  {
   "cell_type": "code",
   "execution_count": 40,
   "metadata": {
    "collapsed": true
   },
   "outputs": [],
   "source": [
    "if spacing == True:\n",
    "    spaced_data = [correct(i) for i in normalized_data]\n",
    "    with open('data/tmp/spaced_data.pkl', 'wb') as f:\n",
    "        pickle.dump(spaced_data, f)\n",
    "else:\n",
    "    with open('data/tmp/spaced_data.pkl', 'rb') as f:\n",
    "        spaced_data = pickle.load(f)"
   ]
  },
  {
   "cell_type": "code",
   "execution_count": 41,
   "metadata": {
    "collapsed": false
   },
   "outputs": [],
   "source": [
    "with open('data/tmp/spaced_data.txt', 'w', encoding='utf-8') as f:\n",
    "    for i in spaced_data:\n",
    "        f.write(i + '\\n')"
   ]
  },
  {
   "cell_type": "code",
   "execution_count": 42,
   "metadata": {
    "collapsed": false
   },
   "outputs": [
    {
     "name": "stdout",
     "output_type": "stream",
     "text": [
      "training was done. used memory 0.536 Gb\n"
     ]
    }
   ],
   "source": [
    "from soynlp.word import WordExtractor\n",
    "from corpus import DoublespaceLineCorpus\n",
    "\n",
    "corpus_fname = 'data/tmp/spaced_data.txt'\n",
    "#corpus_fname = 'data/tmp/spaced_data.pkl'\n",
    "corpus = DoublespaceLineCorpus(corpus_fname, iter_sent=False)\n",
    "word_extractor = WordExtractor(left_max_length=10, right_max_length=6, min_count=5)\n",
    "word_extractor.train(corpus)\n",
    "\n",
    "spaced_corpus = list(corpus)\n",
    "\n",
    "with open('data/tmp/spaced_corpus.pkl', 'wb') as f:\n",
    "    pickle.dump(spaced_corpus, f)"
   ]
  },
  {
   "cell_type": "code",
   "execution_count": 43,
   "metadata": {
    "collapsed": false
   },
   "outputs": [],
   "source": [
    "with open('data/tmp/spaced_corpus.pkl', 'rb') as f:\n",
    "    spaced_corpus = pickle.load(f)"
   ]
  },
  {
   "cell_type": "code",
   "execution_count": 44,
   "metadata": {
    "collapsed": false
   },
   "outputs": [
    {
     "name": "stdout",
     "output_type": "stream",
     "text": [
      "0 업계 1위 어딜가든 하나투어 다닌다고 하면 인정함 배울것이 많음 작은 여행사 다니는 친구들에 비해 연봉이든 복지든 훨씬 좋음\n",
      "\n",
      "1 여행 혜택 가족같은 연차 자유롭게 사용할 수 있음 가족들 아이들과의 삶의 균형 측면에서 좋음\n",
      "\n",
      "2 연차는 편하게 쓰는편 젊은 회사라 커뮤니케이션은 잘되는 편\n",
      "\n",
      "3 브랜드 인지도 1위 저녁이 있는 삶 여행갈 때 할인\n",
      "\n",
      "4 이름이 알려져 있음 사람들이 어디다 니냐 그러면 말했 울때 모르지는 않음 ㅠㅠㅠㅠ 근데 들어가서 의 업무는 매우 힘들면서도 보람을 찾기 너무 힘듬\n",
      "\n",
      "5 연차 사용은 비교적 자유로운 편 회사 복지 거점 운영 시차 근무 재택근무 직원용 항공권 제공 각 상품 직원가 이용 가능 팀바팀이지만 대체로 젊은 분위기 정시퇴근함 과장까지는 승진 어려움 없음\n",
      "\n"
     ]
    }
   ],
   "source": [
    "for n_sent, sent in enumerate(corpus):\n",
    "    if n_sent > 5: break\n",
    "    print(n_sent, sent)"
   ]
  },
  {
   "cell_type": "code",
   "execution_count": 45,
   "metadata": {
    "collapsed": true
   },
   "outputs": [],
   "source": [
    "#단어 점수 추출 LR 방식. 일반적으로 명사는 왼쪽, 조사는 명사의 오른쪽에 해당"
   ]
  },
  {
   "cell_type": "code",
   "execution_count": 46,
   "metadata": {
    "collapsed": false
   },
   "outputs": [
    {
     "name": "stdout",
     "output_type": "stream",
     "text": [
      "all cohesion probabilities was computed. # words = 77358\n",
      "all branching entropies was computed # words = 95252\n",
      "all accessor variety was computed # words = 95252\n"
     ]
    }
   ],
   "source": [
    "scores = word_extractor.word_scores()"
   ]
  },
  {
   "cell_type": "code",
   "execution_count": 56,
   "metadata": {
    "collapsed": true
   },
   "outputs": [],
   "source": [
    "noun_extraction = False"
   ]
  },
  {
   "cell_type": "code",
   "execution_count": 57,
   "metadata": {
    "collapsed": false
   },
   "outputs": [],
   "source": [
    "from soynlp.noun import LRNounExtractor\n",
    "\n",
    "if noun_extraction == True:\n",
    "    noun_extractor = LRNounExtractor()\n",
    "    #명사를 학습\n",
    "    nouns = noun_extractor.train_extract(corpus)\n",
    "    with open('data/tmp/nouns.pkl', 'wb') as f:\n",
    "        pickle.dump(nouns, f)\n",
    "else:\n",
    "    with open('data/tmp/nouns.pkl', 'rb') as f:\n",
    "        nouns = pickle.load(f)"
   ]
  },
  {
   "cell_type": "code",
   "execution_count": 58,
   "metadata": {
    "collapsed": false
   },
   "outputs": [
    {
     "data": {
      "text/plain": [
       "NounScore(frequency=18878, score=0.7179762166701659, known_r_ratio=0.7652634961439588)"
      ]
     },
     "execution_count": 58,
     "metadata": {},
     "output_type": "execute_result"
    }
   ],
   "source": [
    "nouns['복지']"
   ]
  },
  {
   "cell_type": "code",
   "execution_count": 59,
   "metadata": {
    "collapsed": false
   },
   "outputs": [
    {
     "name": "stdout",
     "output_type": "stream",
     "text": [
      "연봉 is noun? True\n",
      "\n",
      "대기업 is noun? True\n",
      "\n",
      "기업 is noun? True\n",
      "\n",
      "복지 is noun? True\n",
      "\n",
      "높은 is noun? False\n",
      "\n",
      "낮은 is noun? False\n",
      "\n",
      "스트레스 is noun? True\n",
      "\n",
      "높음 is noun? True\n",
      "\n",
      "세다 is noun? False\n",
      "\n",
      "워라밸 is noun? True\n",
      "\n",
      "높은 is noun? False\n",
      "\n",
      "보수적인 is noun? False\n",
      "\n",
      "중소기 is noun? False\n",
      "\n"
     ]
    }
   ],
   "source": [
    "for word in ['연봉', '대기업','기업', '복지','높은','낮은','스트레스','높음','세다','워라밸','높은','보수적인', '중소기']:\n",
    "    print('%s is noun? %r\\n' % (word, word in nouns))"
   ]
  },
  {
   "cell_type": "code",
   "execution_count": 60,
   "metadata": {
    "collapsed": true
   },
   "outputs": [],
   "source": [
    "#cohesion score 를 이용한 토크나이징"
   ]
  },
  {
   "cell_type": "code",
   "execution_count": 61,
   "metadata": {
    "collapsed": false
   },
   "outputs": [],
   "source": [
    "from soynlp.tokenizer import LTokenizer\n",
    "calculate_cohesion_scores = False"
   ]
  },
  {
   "cell_type": "code",
   "execution_count": 62,
   "metadata": {
    "collapsed": false
   },
   "outputs": [],
   "source": [
    "if calculate_cohesion_scores == True:\n",
    "    cohesion_scores = {word:score.cohesion_forward for word, score in scores.items()}\n",
    "    ltokenizer = LTokenizer(scores=cohesion_scores)\n",
    "    \n",
    "    with open('data/tmp/jobplanet_cohesionscore.pkl', 'wb') as f:\n",
    "        pickle.dump(cohesion_scores, f)\n",
    "else:\n",
    "    with open('data/tmp/jobplanet_cohesionscore.pkl', 'rb') as f:\n",
    "        cohesion_scores = pickle.load(f)\n",
    "    ltokenizer = LTokenizer(scores=cohesion_scores)"
   ]
  },
  {
   "cell_type": "code",
   "execution_count": 63,
   "metadata": {
    "collapsed": false
   },
   "outputs": [
    {
     "data": {
      "text/plain": [
       "['높은', '업무', '강도', '가족적인', '분위기', '라고는', '하지만', '실제로', '는', '군대', '문화']"
      ]
     },
     "execution_count": 63,
     "metadata": {},
     "output_type": "execute_result"
    }
   ],
   "source": [
    "ltokenizer.tokenize('높은 업무강도 가족적인 분위기라고는 하지만 실제로는 군대문화')"
   ]
  },
  {
   "cell_type": "code",
   "execution_count": 64,
   "metadata": {
    "collapsed": true
   },
   "outputs": [],
   "source": [
    "sentence = correct(sentence)"
   ]
  },
  {
   "cell_type": "code",
   "execution_count": 65,
   "metadata": {
    "collapsed": false
   },
   "outputs": [
    {
     "name": "stdout",
     "output_type": "stream",
     "text": [
      "연차 사용은 비교적 자유로운 편 회사 복지 거점 운영 시차 근무 재택근무 직원용 항공권 제공 각 상품 직원가 이용 가능 팀바팀이지만 대체로 젊은 분위기 정시퇴근함 과장까지는 승진 어려움 없음 \n",
      "\n",
      " ↓ \n",
      "\n",
      "['연차', '사용', '은', '비교적', '자유로운', '편', '회사', '복지', '거점', '운영', '시차', '근무', '재택근무', '직원', '용', '항공', '권', '제공', '각', '상품', '직원', '가', '이용', '가능', '팀바팀이지만', '대체로', '젊은', '분위기', '정시퇴근', '함', '과장까지는', '승진', '어려움', '없음']\n"
     ]
    }
   ],
   "source": [
    "print(sentence, '\\n\\n ↓ \\n\\n{}'.format(ltokenizer.tokenize(sentence)))"
   ]
  },
  {
   "cell_type": "code",
   "execution_count": 66,
   "metadata": {
    "collapsed": true
   },
   "outputs": [],
   "source": [
    "word_counter = Counter(word for text in spaced_data for word in text.split())"
   ]
  },
  {
   "cell_type": "code",
   "execution_count": 67,
   "metadata": {
    "collapsed": false
   },
   "outputs": [
    {
     "data": {
      "text/plain": [
       "[('수', 31747),\n",
       " ('있음', 26623),\n",
       " ('업무', 14391),\n",
       " ('회사', 13707),\n",
       " ('없음', 13655),\n",
       " ('많이', 11319),\n",
       " ('있는', 11132),\n",
       " ('많음', 10406),\n",
       " ('있다', 10099),\n",
       " ('잘', 9545)]"
      ]
     },
     "execution_count": 67,
     "metadata": {},
     "output_type": "execute_result"
    }
   ],
   "source": [
    "sorted(word_counter.items(), key=lambda x:x[1], reverse=True)[:10]"
   ]
  },
  {
   "cell_type": "code",
   "execution_count": 68,
   "metadata": {
    "collapsed": false
   },
   "outputs": [
    {
     "name": "stdout",
     "output_type": "stream",
     "text": [
      "183527 --> 22485\n"
     ]
    }
   ],
   "source": [
    "n_words_before_pruning = len(word_counter)\n",
    "\n",
    "min_count = 10\n",
    "word_dictionary = {word:freq for word,freq in word_counter.items() if freq >= min_count and len(word) > 1}\n",
    "n_words_after_pruning  = len(word_dictionary)\n",
    "\n",
    "print('%d --> %d' % (n_words_before_pruning, n_words_after_pruning))"
   ]
  },
  {
   "cell_type": "code",
   "execution_count": 69,
   "metadata": {
    "collapsed": false
   },
   "outputs": [],
   "source": [
    "save_word_dictionary = False"
   ]
  },
  {
   "cell_type": "code",
   "execution_count": 70,
   "metadata": {
    "collapsed": false
   },
   "outputs": [],
   "source": [
    "if save_word_dictionary == True:\n",
    "    with open('data/tmp/word_dictionary.pkl', 'wb') as f:\n",
    "        pickle.dump(word_dictionary, f)\n",
    "else:\n",
    "    with open('data/tmp/word_dictionary.pkl', 'rb') as f:\n",
    "        word_dictionary = pickle.load(f)"
   ]
  },
  {
   "cell_type": "code",
   "execution_count": 71,
   "metadata": {
    "collapsed": false
   },
   "outputs": [],
   "source": [
    "tokenize = False"
   ]
  },
  {
   "cell_type": "code",
   "execution_count": 72,
   "metadata": {
    "collapsed": false
   },
   "outputs": [],
   "source": [
    "if tokenize == True:\n",
    "    tokenized_reviews = []\n",
    "    for review in tqdm_notebook(spaced_data):\n",
    "        tokenized = ''\n",
    "        for word in ltokenizer.tokenize(review):\n",
    "            if word in word_dictionary and len(word)>1:\n",
    "                #단어사전에 있는 단어들과 2음절 이상의 단어들만 토크나이징\n",
    "                tokenized += word\n",
    "                tokenized += ' '\n",
    "        tokenized = tokenized.strip()\n",
    "        tokenized_reviews.append(tokenized)\n",
    "    with open('data/tmp/tokenized_reviews.pkl', 'wb') as f:\n",
    "        pickle.dump(tokenized_reviews, f)\n",
    "else:\n",
    "    with open('data/tmp/tokenized_reviews.pkl', 'rb') as f:\n",
    "        tokenized_reviews = pickle.load(f)"
   ]
  },
  {
   "cell_type": "code",
   "execution_count": 73,
   "metadata": {
    "collapsed": false
   },
   "outputs": [
    {
     "data": {
      "text/plain": [
       "['업계 1위 다닌다고 하면 인정 배울 것이 많음 작은 여행사 다니는 친구들 비해 연봉 이든 복지 훨씬 좋음',\n",
       " '여행 혜택 가족같은 연차 자유롭게 사용 있음 가족 아이들과 삶의 균형 측면 에서 좋음',\n",
       " '연차 편하게 쓰는 젊은 회사 커뮤니케이션',\n",
       " '브랜드 인지도 1위 저녁 있는 여행 할인',\n",
       " '이름이 알려져 있음 사람들이 어디 그러면 지는 않음 ㅠㅠ ㅠㅠ 근데 들어 가서 업무 매우 힘들 보람을 찾기 너무 힘듬']"
      ]
     },
     "execution_count": 73,
     "metadata": {},
     "output_type": "execute_result"
    }
   ],
   "source": [
    "tokenized_reviews[:5]"
   ]
  },
  {
   "cell_type": "code",
   "execution_count": 74,
   "metadata": {
    "collapsed": true
   },
   "outputs": [],
   "source": [
    "# 토크나이징하여 분리해낸 단어들 중에서 명사만을 추리는 함수\n",
    "def get_noun(doc, nouns=nouns):\n",
    "    a = ltokenizer.tokenize(doc)\n",
    "    noun_list = []\n",
    "    for indx, i in enumerate(a):\n",
    "        if i in nouns:\n",
    "            noun_list.append(i)\n",
    "    return noun_list"
   ]
  },
  {
   "cell_type": "code",
   "execution_count": 78,
   "metadata": {
    "collapsed": false
   },
   "outputs": [
    {
     "data": {
      "text/plain": [
       "['업무', '강도', '분위기', '군대', '문화']"
      ]
     },
     "execution_count": 78,
     "metadata": {},
     "output_type": "execute_result"
    }
   ],
   "source": [
    "get_noun('높은 업무강도 가족적인 분위기라고는 하지만 실제로는 군대문화')"
   ]
  },
  {
   "cell_type": "code",
   "execution_count": 80,
   "metadata": {
    "collapsed": true
   },
   "outputs": [],
   "source": [
    "sentence = '연차 사용은 비교적 자유로운 편 회사 복지 거점 운영 시차 근무 재택근무 직원용 항공권 제공 각 상품 직원가 이용 가능 팀바팀이지만 대체로 젊은 분위기 정시퇴근함 과장까지는 승진 어려움 없음 '"
   ]
  },
  {
   "cell_type": "code",
   "execution_count": 81,
   "metadata": {
    "collapsed": false
   },
   "outputs": [
    {
     "name": "stdout",
     "output_type": "stream",
     "text": [
      "연차 사용은 비교적 자유로운 편 회사 복지 거점 운영 시차 근무 재택근무 직원용 항공권 제공 각 상품 직원가 이용 가능 팀바팀이지만 대체로 젊은 분위기 정시퇴근함 과장까지는 승진 어려움 없음  \n",
      "\n",
      " ↓ \n",
      "\n",
      "['연차', '사용', '비교적', '회사', '복지', '거점', '운영', '시차', '근무', '재택근무', '직원', '제공', '상품', '직원', '이용', '가능', '분위기', '정시퇴근', '승진', '어려움', '없음']\n"
     ]
    }
   ],
   "source": [
    "print(sentence, '\\n\\n ↓ \\n\\n{}'.format(get_noun(sentence)))"
   ]
  },
  {
   "cell_type": "code",
   "execution_count": 79,
   "metadata": {
    "collapsed": true
   },
   "outputs": [],
   "source": [
    "noun_data = [get_noun(i) for i in tokenized_reviews]"
   ]
  },
  {
   "cell_type": "code",
   "execution_count": 100,
   "metadata": {
    "collapsed": true
   },
   "outputs": [],
   "source": [
    "with open('data/tmp/tokenized_noun_reviews.pkl', 'wb') as f:\n",
    "    pickle.dump(noun_data, f)"
   ]
  },
  {
   "cell_type": "code",
   "execution_count": 80,
   "metadata": {
    "collapsed": false
   },
   "outputs": [
    {
     "data": {
      "text/plain": [
       "[['업계', '1위', '하나투어', '인정', '많음', '여행사', '친구들', '연봉', '복지', '좋음'],\n",
       " ['여행', '혜택', '연차', '사용', '있음', '가족', '균형', '측면', '좋음'],\n",
       " ['연차', '회사', '커뮤니케이션'],\n",
       " ['브랜드', '1위', '저녁', '여행', '할인'],\n",
       " ['있음', '업무', '찾기', '힘듬']]"
      ]
     },
     "execution_count": 80,
     "metadata": {},
     "output_type": "execute_result"
    }
   ],
   "source": [
    "noun_data[:5]"
   ]
  },
  {
   "cell_type": "code",
   "execution_count": 81,
   "metadata": {
    "collapsed": false
   },
   "outputs": [],
   "source": [
    "with open('data/tmp/doc2vec_word_data.txt', 'w') as f:\n",
    "    for idx, i in enumerate(noun_data):\n",
    "        #장점\n",
    "        if idx < data.shape[0]:\n",
    "            f.write(data.loc[idx, '회사명'] + '\\t')\n",
    "            for j in i:\n",
    "                f.write(j + ' ')\n",
    "            f.write('\\n')\n",
    "        #단점\n",
    "        else:\n",
    "            f.write(data.loc[idx-data.shape[0], '회사명'] + '\\t')\n",
    "            for j in i:\n",
    "                f.write(j + ' ')\n",
    "            f.write('\\n')"
   ]
  },
  {
   "cell_type": "code",
   "execution_count": 83,
   "metadata": {
    "collapsed": false
   },
   "outputs": [],
   "source": [
    "corpus_ = open('data/tmp/doc2vec_word_data.txt', 'r')\n",
    "line = corpus_.readlines()"
   ]
  },
  {
   "cell_type": "code",
   "execution_count": 87,
   "metadata": {
    "collapsed": false
   },
   "outputs": [
    {
     "data": {
      "text/plain": [
       "['(주)하나투어\\t업계 1위 하나투어 인정 많음 여행사 친구들 연봉 복지 좋음 \\n',\n",
       " '(주)하나투어\\t여행 혜택 연차 사용 있음 가족 균형 측면 좋음 \\n',\n",
       " '(주)하나투어\\t연차 회사 커뮤니케이션 \\n',\n",
       " '(주)하나투어\\t브랜드 1위 저녁 여행 할인 \\n',\n",
       " '(주)하나투어\\t있음 업무 찾기 힘듬 \\n',\n",
       " '(주)하나투어\\t연차 사용 비교적 회사 복지 거점 운영 시차 근무 재택근무 직원 제공 상품 직원 이용 가능 분위기 정시퇴근 승진 어려움 없음 \\n',\n",
       " '(주)하나투어\\t국내 여행사 확실 업무 장점 메이저 회사 네임 회사 이직 \\n',\n",
       " '(주)하나투어\\t업무 균형 확실 여행 관련 복지 사람들 훌륭 직장 \\n',\n",
       " '(주)하나투어\\t중견기업 기업 연차 있음 야근 필요 경우 성과 보상 출퇴근 유연근무제 \\n',\n",
       " '(주)하나투어\\t연차 육아휴직 좋음 재택근무 있음 \\n',\n",
       " '(주)하나투어\\t육아휴직 제도 여성 복지 있음 해외출장 많기 추천 \\n',\n",
       " '(주)하나투어\\t1위 기업 자부심 뿌듯 \\n',\n",
       " '(주)하나투어\\t연차 복지 눈치 없지 있음 \\n',\n",
       " '(주)하나투어\\t업계 1위 기업 만족 여행업계 다운 연차 사용 직원 휴가 여행 지원 많음 부서 부서 존재 \\n',\n",
       " '(주)하나투어\\t연차 육아휴직 있음 거점 근무 재택근무 신입 거점 근무 경우 가능 재택근무 거의 과장 이상 가능 교육 괜춘 휴가 괜춘 부서 칼퇴 했음 \\n',\n",
       " '(주)하나투어\\t눈치 연차 대리급 이상 \\n',\n",
       " '(주)하나투어\\t여행사 캐주얼 분위기 자유 복장 남여 비율 균등 성향 직장 일것 \\n',\n",
       " '(주)하나투어\\t연차 사용가능 육아 휴직 사용 거점 근무 높음 야근 홍보 영업 상품 거의 없음 회식 업무 생각 경향 때문 대리 대부분 캐쥬얼 데이 복장 생각 \\n',\n",
       " '(주)하나투어\\t연차 소진 99 99 99 기회 많음 보장 기업문화 \\n',\n",
       " '(주)하나투어\\t연차 그외 조직문화 복장 문제 되지 \\n',\n",
       " '(주)하나투어\\t대기업 문화 재택근무 근무 가능 복지 많음 연차 눈치 보지 업무 강도 보장 받음 \\n',\n",
       " '(주)하나투어\\t존중 기업 직원 차례 이상 출장 가능 자기계발 기회 많이 편임 \\n',\n",
       " '(주)하나투어\\t최고 직원 저렴 출장 부서 마다 다름 \\n',\n",
       " '(주)하나투어\\t복지 좋음 좋음 다닐만 다임 \\n',\n",
       " '(주)하나투어\\t사무실 분위기 조직 분위기 좋음 복지 좋음 \\n',\n",
       " '(주)하나투어\\t야근 개인 재택근무 가능 집이 출근 사람들 자율 사무실 멀지 지점 출근 가능 \\n',\n",
       " '(주)하나투어\\t회사 나름 분위기 거점 재택근무 연차 가능 여행 해외 자주 있음 \\n',\n",
       " '(주)하나투어\\t변화 복지 여행 추천 \\n',\n",
       " '(주)하나투어\\t강조 업무 분위기 연차 휴가 관대 업무 강도 \\n',\n",
       " '(주)하나투어\\t출장 많음 방법 많음 \\n',\n",
       " '(주)하나투어\\t해외 여행 기회 칼퇴 문화 정착 여자 라면 다니기 근무 환경 \\n',\n",
       " '(주)하나투어\\t규모 여행업계 자부심 사람 하나투어 있음 \\n',\n",
       " '(주)하나투어\\t비교적 자유 복지 정말 회사 \\n',\n",
       " '(주)하나투어\\t경험 기업 직원 기업문화 꼰대 상사 많지 기업 육아휴직 제도 활용 기업 \\n',\n",
       " '(주)하나투어\\t유연근무제 시차 출근 워킹맘들 있음 \\n',\n",
       " '(주)하나투어\\t여행사 가장 회사 하나투어 본사 손님 상담 여행 예약 장점 그냥 \\n',\n",
       " '(주)하나투어\\t업계 장점 있음 장점 신입 경력 \\n',\n",
       " '(주)하나투어\\t여행 정말 연차 사용 직원 평균 기업 규모 느낌 \\n',\n",
       " '(주)하나투어\\t할인 여행 사람 \\n',\n",
       " '(주)하나투어\\t여행업계 연봉 상위권 복지 좋음 칼퇴 가능 연차 \\n',\n",
       " '(주)하나투어\\t연차 쓸수 상사 눈치 업무 집중 기업 휴가 행사 \\n',\n",
       " '(주)하나투어\\t재택근무 탄력근무제 눈치 분위기 여초 회사 회식 강요 많지 않았음 \\n',\n",
       " '(주)하나투어\\t출퇴근 눈치 거점 사무실 운영 출퇴근 비교적 수월 여행 연차 눈치 보고 있음 \\n',\n",
       " '(주)하나투어\\t연차 왠만 있음 여행 특가 면세 할인 좋음 \\n',\n",
       " '(주)하나투어\\t복지 국내 1위 있음 \\n',\n",
       " '(주)하나투어\\t재택근무 시차 근무 육아휴직 가장 장점 장점 없음 \\n',\n",
       " '(주)하나투어\\t칼퇴 느낄수 최고 장점 \\n',\n",
       " '(주)하나투어\\t스마트 근무 출퇴근 시간 조정 가능 일부 부서 재택 근무 가능 연차 사용 가능 여행업 공휴일 연차 써서 직원 많음 하나투어 호텔 면세점 계열사 할인 혜택 있음 \\n',\n",
       " '(주)하나투어\\t여행업 글로벌 네트워크 형성 문화 유통업 브랜드 \\n',\n",
       " '(주)하나투어\\t가볼 있음 복지 있음 \\n',\n",
       " '(주)하나투어\\t실습 지원 실습 인턴 \\n',\n",
       " '(주)하나투어\\t허울 업계 1등 복지 여행 복지 공식적 휴가 연차 소진 \\n',\n",
       " '(주)하나투어\\t업무 실무 \\n',\n",
       " '(주)하나투어\\t상사 인턴 근무 중인데 도움 많이 대기업 부서 사람 업무 배움 사람 관계 없었음 \\n',\n",
       " '(주)하나투어\\t세계 출장 기회 리프레쉬 기회 제공 \\n',\n",
       " '(주)하나투어\\t연차 눈치 여행사 갈수 있음 분위기 본인 거의 없음 \\n',\n",
       " '(주)하나투어\\t거점 근무 유연근무제 휴직 복지 기업 직원 있음 다니기 직장 \\n',\n",
       " '(주)하나투어\\t칼퇴 다니기 \\n',\n",
       " '(주)하나투어\\t기업 비교적 자유 면세 사업 진출 \\n',\n",
       " '(주)하나투어\\t여행 복지 분위기 비교적 같음 \\n',\n",
       " '(주)하나투어\\t분위기 자유 여행업계 연차 6일 연차 눈치 직군 회사 업무 강도 \\n',\n",
       " '(주)하나투어\\t구조 서로 소통 장점 분위기 \\n',\n",
       " '(주)하나투어\\t회사 육아휴직 어렵지 재택근무 가능 해외 많음 \\n',\n",
       " '(주)하나투어\\t팀만 해외 출장 기회 많이 있음 거점 근무 제로 비교적 있음 \\n',\n",
       " '(주)하나투어\\t직급 사람들 많음 여성 위치 야근 여행 해외 출장 많음 \\n',\n",
       " '(주)하나투어\\t안정적 서비스 복지 신입 체계 시스템 \\n',\n",
       " '(주)하나투어\\t팀원들 스케쥴 연차 쓸수 있음 매년 선착순 임직원 할인 패키지 상품 완전 갈수 있음 하나투어 컴퓨터 프로 동종업계 제일 일처리 하기 수월함 지역 여행업계 파이팅 많음 해외 출장 인터넷 강의 스트레스 해소 강의 직원 교육 프로 제공 \\n',\n",
       " '(주)하나투어\\t연차 사용 복지 티켓 구입 가능 해외출장 기회 분위기 \\n',\n",
       " '(주)하나투어\\t연차 사용 가능 눈치 사용 \\n',\n",
       " '(주)하나투어\\t타부서 연차 사용 있음 눈치 보면서 사용 웬만 칼퇴 가능 \\n',\n",
       " '(주)하나투어\\t연차 여행 눈치 있음 여행 물론 칼퇴 하지 특정 경우 거점 근무 눈치 사용가능 다소 회의 거점 근무 업무 강도 낮음 인지 대부분 좋음 회식 자주 정말 특이 사항 없음 달수 있음 \\n',\n",
       " '(주)하나투어\\t업무 강도 칼퇴 연차 출장 기회 여행 직원 이용 가능 \\n',\n",
       " '(주)하나투어\\t연차 이지 부서 마다 분위기 다름 여행 많음 함께 좋음 여행 영향 \\n',\n",
       " '(주)하나투어\\t연차 사용 복지 장점 재택근무 시간 근무 \\n',\n",
       " '(주)하나투어\\t출퇴근 시간 관련 눈치 회식 점심 진행 퇴근 시간 거의 없었음 직원 관심 거리 \\n',\n",
       " '(주)하나투어\\t연차 사용 거점 근무 시차 근무 칼퇴 가능 부서 마다 비교적 야근 생각 \\n',\n",
       " '(주)하나투어\\t연차 비교적 사용 가능 부서 칼퇴 가능 육아휴직 빵빵 사내 교육 나름 \\n',\n",
       " '(주)하나투어\\t좋음 칼퇴 자기 일만 분위기 부서 이동 가능 \\n',\n",
       " '(주)하나투어\\t주말 보장 직무 마다 칼퇴 가능 거점 근무 복지 \\n',\n",
       " '(주)하나투어\\t근무 본인 있음 출퇴근 시간 조정 가능 육아휴직 여자 직장 \\n',\n",
       " '(주)하나투어\\t서비스 시스템 경험 있음 칼퇴 연차 \\n',\n",
       " '(주)하나투어\\t부서 마다 연차 압박 없음 여행사 기회 많음 수도 직원 복지 많음 \\n',\n",
       " '(주)하나투어\\t연차 눈치 있음 \\n',\n",
       " '(주)하나투어\\t연차 비교적 엄청 자유 마일리지 면세점 혜택 불과 스마트 워킹 \\n',\n",
       " '(주)하나투어\\t분위기 연차 사용 본사 손님 컨택 없음 \\n',\n",
       " '(주)하나투어\\t직원 혜택 여행 다니기 여직원들 당연 하게 육아휴직 복직 육아휴직 가능 비교적 \\n',\n",
       " '(주)하나투어\\t연차 자유 패키지 조금 갈수 비행기 5회 갈수 발생 된거 보고 웃음 시간 \\n',\n",
       " '(주)하나투어\\t연차 육휴 정도 없음 진짜 없음 거점 재택 개살구 그걸 임금 적음 진짜 지옥 \\n',\n",
       " '(주)하나투어\\t유연근무제 여자 육아휴직 복지 패키지 절반 이용 가능 \\n',\n",
       " '(주)하나투어\\t본인 퇴근 시간 눈치 보지 퇴근 동종업계 자부심 \\n',\n",
       " '(주)하나투어\\t일찍 끝남 오후 6시 7시 이름값 정말 이것 없음 \\n',\n",
       " '(주)하나투어\\t부서 마다 차이 6시 상사 눈치 칼퇴 분위기 육아휴직 재택근무 다니기 정말 회사 회식 부서 마다 부서 회식 한것 \\n',\n",
       " '(주)하나투어\\t체계 복지 출근 시간 퇴근 철저 세우기 \\n',\n",
       " '(주)하나투어\\t유연근무제 거점 근무 재택근무 가능 \\n',\n",
       " '(주)하나투어\\t분위기 좋음 부서 텃세 없음 사실 급여 복지 편임 \\n',\n",
       " '(주)하나투어\\t연차 사용 회사 복지 제공 거의 정시퇴근 회식 거의 자기 시간 활용 용이 \\n',\n",
       " '(주)하나투어\\t여행사 휴가 사용 여행 자주 \\n',\n",
       " '(주)하나투어\\t1위 기업 자부심 정년 걱정 있음 정년 최근 바뀜 \\n',\n",
       " '(주)하나투어\\t연차 사용 많음 \\n',\n",
       " '(주)하나투어\\t압도적 사내 문화 조직 문화 사실 자기 자신 좋음 \\n',\n",
       " '호텔신라(주)\\t삼성 호텔 가질수 장점 \\n',\n",
       " '호텔신라(주)\\t복지 최고 식비 교통비 대기업 다운 복지 떡값 등등 혜택 계약 지도 \\n',\n",
       " '호텔신라(주)\\t근무 환경 회사 이미지 회사 즐거움 \\n',\n",
       " '호텔신라(주)\\t복지 정직원 채용 혜택 분위기 환경 좋음 \\n',\n",
       " '호텔신라(주)\\t사내 복지 마음 그냥 그럼 \\n',\n",
       " '호텔신라(주)\\t생각 대기업 업무 \\n',\n",
       " '호텔신라(주)\\t없음 알바 업무 알바 호텔 있음 \\n',\n",
       " '호텔신라(주)\\t대기업 체계 서빙 방법 고객 응대 방법 부분 교육 직원 \\n',\n",
       " '호텔신라(주)\\t업무 강도 임금 많이 분위기 연차 사용 가능 업무 \\n',\n",
       " '호텔신라(주)\\t사원 교육 있음 오래 인센티브 많음 \\n',\n",
       " '호텔신라(주)\\t업무 같이 사람들 분위기 정말 좋음 구내식당 3가지 정말 복지 굉장 좋음 호텔 전체 수리 해야 했는데 처리 직원 여행 직원 생각 했음 \\n',\n",
       " '호텔신라(주)\\t결혼 육아 계획 여성 직원 신의 직장 육아 회사 탈출 방법 \\n',\n",
       " '호텔신라(주)\\t오래 노하우 기업 문화 상호 존중 복지 서비스 한국 호텔 \\n',\n",
       " '호텔신라(주)\\t근무 좋음 회사 이미지 좋음 오버타임 시간 계산 정확 일한만큼 \\n',\n",
       " '호텔신라(주)\\t호텔 연봉 생각 승진 보장 \\n',\n",
       " '호텔신라(주)\\t단지 기업 소속감 복지 복지 해택 프라이드 \\n',\n",
       " '호텔신라(주)\\t사원 복지 좋음 직원 식당 훌륭 직원 시설 호텔 좋음 직원 출산 육아휴직 어려움 장점 자기계발 신입사원 업무 강도 무척 과장급 이상 승진 일함 \\n',\n",
       " '호텔신라(주)\\t정규직 생각 어렵지 열심히 4급 전문 대졸 대졸공채 동종 호텔 능력 많이 같음 \\n',\n",
       " '호텔신라(주)\\t신입사원 연봉 적지 삼성 계열사 로서 삼성 제공 대부분 복지 \\n',\n",
       " '호텔신라(주)\\t직원 복지 업계 이직 평가 받음 \\n',\n",
       " '호텔신라(주)\\t대기업 타이틀 눈치 오티 수당 있음 \\n',\n",
       " '호텔신라(주)\\t연차 눈치 있음 분위기 조금 다름 대기업 복지 이직 삼성 계열사 출신 \\n',\n",
       " '호텔신라(주)\\t자기 계발 지원 구내식당 존재 네임 벨류 \\n',\n",
       " '호텔신라(주)\\t기업 브랜드 외부 성장 \\n',\n",
       " '호텔신라(주)\\t네임 반응 ㅋㅋ 이상 없음 느낌 \\n',\n",
       " '호텔신라(주)\\t부서 마다 상사 마다 눈치 연차 쓸수 사업 확장 엄청 기업 이미지 \\n',\n",
       " '호텔신라(주)\\t식당 전체적 작성 본사 직원 기준 쉬는시간 \\n',\n",
       " '호텔신라(주)\\t직원 개인 없음 최고 경영진 능력 많이 된것 보임 \\n',\n",
       " '호텔신라(주)\\t연봉 조직 체계 \\n',\n",
       " '호텔신라(주)\\t삼성 호텔 자부심 최고 아님 스케쥴 호텔 연봉 였음 물론 오버타임 차지 직원 어림 기만 정직 \\n',\n",
       " '호텔신라(주)\\t팀내 분위기 업무 눈치 보지 칼퇴 가능 \\n',\n",
       " '호텔신라(주)\\t급여 복지 포인트 육아휴직 연차 휴가 야근 수당 등등 \\n',\n",
       " '호텔신라(주)\\t육아휴직 필요 복지 있음 스케줄 근무 휴일근무 \\n',\n",
       " '호텔신라(주)\\t면세 할인 가능 복지 포인트 있음 회식 강요 \\n',\n",
       " '호텔신라(주)\\t직원 식당 대기업 야근 수당 주휴수당 사내문화 사람들 회식문화 훌륭 \\n',\n",
       " '호텔신라(주)\\t쓰레기 사람들 없음 분위기 페이 \\n',\n",
       " '호텔신라(주)\\t대기업 안정 호텔 최고 \\n',\n",
       " '호텔신라(주)\\t매니저 연차 사용 편함 삼성 복지 좋음 파트 사람 좋음 \\n',\n",
       " '호텔신라(주)\\t호텔 연봉 가장 퀄리티 \\n',\n",
       " '호텔신라(주)\\t연차 비교적 사람 진급 오래 회사 \\n',\n",
       " '호텔신라(주)\\t대기업 복지 대부분 아기 자기 분위기 \\n',\n",
       " '호텔신라(주)\\t식사제공 직원 복지 직원 건강 헬스 체크 기계 직원 건강 \\n',\n",
       " '호텔신라(주)\\t호텔 근무 플러스 작용 \\n',\n",
       " '호텔신라(주)\\t안정적 운영 파악 무리 오래 있음 무난함 미덕 \\n',\n",
       " '호텔신라(주)\\t계약직 경우 칼퇴 대기업 \\n',\n",
       " '호텔신라(주)\\t직원 존중 는거 하루 아르바이트 본인 기업 이미지 시키지 않기 일부 기업 들과 사람 \\n',\n",
       " '호텔신라(주)\\t계열사 할인 연차 자유 인센티브 연초 연말 등등 \\n',\n",
       " '호텔신라(주)\\t연차 눈치 전혀 주지 대기업 다운 복지 제공 해줌 \\n',\n",
       " '호텔신라(주)\\t복지 최근 연봉 해외 파견 있음 \\n',\n",
       " '호텔신라(주)\\t호텔 이기 사람들 많이 응대 있음 \\n',\n",
       " '호텔신라(주)\\t국내 동종업계 최고 커리어 쌓기 좋음 배우기 좋음 \\n',\n",
       " '호텔신라(주)\\t대기업 수당 초과근무 8시 이상 근무 할때 5배 지급 받는거 \\n',\n",
       " '호텔신라(주)\\t복지 가질수 있음 월급 몇년 성격 \\n',\n",
       " '호텔신라(주)\\t직원 들끼리 서비스 직종 경험 좋음 근무 환경 \\n',\n",
       " '호텔신라(주)\\t때문 회사 계속 성장 브랜드 평가 \\n',\n",
       " '호텔신라(주)\\t호텔 호텔 면세 습득 \\n',\n",
       " '호텔신라(주)\\t다니기 기업 생각 업무 압박 스트레스 거의 없음 \\n',\n",
       " '호텔신라(주)\\t케이스 케이스 함께 할수 사람 느낌 \\n',\n",
       " '호텔신라(주)\\t대기업 복지 많음 제일 면세점 직원 할인 제도 \\n',\n",
       " '호텔신라(주)\\t규모 안정적 업계 상위권 판매 경우 출퇴근 시간 \\n',\n",
       " '호텔신라(주)\\t새벽 출근 택시 지원 식사 애사심 \\n',\n",
       " '호텔신라(주)\\t사무실 분위기 여성 근로자 기업문화 복지 측면 \\n',\n",
       " '호텔신라(주)\\t정직원 타격 었음 \\n',\n",
       " '호텔신라(주)\\t삼성 만큼 복지 확실 수당 굉장 조직 많이 \\n',\n",
       " '호텔신라(주)\\t호텔 이직 교육 훈련 철저 한번 거의 프리 정도 \\n',\n",
       " '호텔신라(주)\\t육아휴직 2년 가능 연봉 낮지 분위기 일에 참견 많이 \\n',\n",
       " '호텔신라(주)\\t시스템 체계 식당 분위기 분위기 다름 일한만큼 추가수당 주말 수당 주방 추천 사람 식당 지원 추천 \\n',\n",
       " '호텔신라(주)\\t완전 회사 분위기 \\n',\n",
       " '호텔신라(주)\\t서비스 국내 기업 동종업계 대비 연봉 수준 \\n',\n",
       " '호텔신라(주)\\t행사 보고 많음 직원 휴게공간 샤워 삼성 그룹사 복지 호텔 업계 굉장 생각 명절 상여 기본 자녀 학자금 \\n',\n",
       " '호텔신라(주)\\t같이 좋음 합리적 사람 스트레스 있음 상사 \\n',\n",
       " '호텔신라(주)\\t대기업 수당 8시 초과 근무 5배 지급 받음 알바 없음 서로 터치 분위기 아님 그러려니 \\n',\n",
       " '호텔신라(주)\\t동종 업계 대비 연봉 좋음 동종 업계 호텔 연봉 대기업 연봉 싶을 있음 \\n',\n",
       " '호텔신라(주)\\t동종업계 사람들 개인 구내식당 \\n',\n",
       " '호텔신라(주)\\t우리나라 최고 호텔 만큼 식재 퀄리티 음식 \\n',\n",
       " '호텔신라(주)\\t연차 팀내 분위기 좋음 호텔 추천 \\n',\n",
       " '호텔신라(주)\\t복리후생 좋음 육아휴직 2년 사용 있음 눈치 보지 사용 \\n',\n",
       " '호텔신라(주)\\t연차 있음 복지 정규직 들과 동일 구내식당 \\n',\n",
       " '호텔신라(주)\\t삼성 관리 업무 방식 호텔 면세 탑클래스 위치 산업 전반 업무 있음 \\n',\n",
       " '호텔신라(주)\\t호텔 리어 학생 호텔 평생 사람 강력 추천 초봉 대기업 수준 \\n',\n",
       " '호텔신라(주)\\t서비스 프라이드 측면 직원 자부심 \\n',\n",
       " '호텔신라(주)\\t사업기반 안정적 승진 힘듬 \\n',\n",
       " '호텔신라(주)\\t대기업 복지 좋음 공채 출신 직원 승진 전혀 다름 사람 다소 가능 높음 \\n',\n",
       " '호텔신라(주)\\t정규직 다니기 좋음 계약직 차별 없음 밥값 호텔 네임밸류 \\n',\n",
       " '호텔신라(주)\\t다니기 연차 써서 장려 문화 \\n',\n",
       " '호텔신라(주)\\t동종업계 대비 급여 쎈편 업계 프라이드 직장 거의 공무원 \\n',\n",
       " '호텔신라(주)\\t연봉 호텔 국내 호텔 생각 \\n',\n",
       " '호텔신라(주)\\t삼성 계열사 자부심 호텔 업계 급여 수준 \\n',\n",
       " '호텔신라(주)\\t비교적 퇴근 시간 자기 업무 조직 문화 \\n',\n",
       " '호텔신라(주)\\t호텔 브랜드 1순위 동종업계 경력 좋음 \\n',\n",
       " '호텔신라(주)\\t호텔 하나 진급 장담 하지 같이 사람들 좋음 몇몇 제외 \\n',\n",
       " '호텔신라(주)\\t동종업계 호텔 \\n',\n",
       " '호텔신라(주)\\t회사 대외 부서 눈치 자기 업무 퇴근 분위기 회사 깨끗 기업문화 \\n',\n",
       " '호텔신라(주)\\t화기애애 하나 지급 \\n',\n",
       " '호텔신라(주)\\t급여 상여금 복지 제도 계약직 복지 다르지 아침 점심 저녁 오래 \\n',\n",
       " '호텔신라(주)\\t사내식당 있음 휴게실 좋음 교통편 좋음 복지 자녀 학자금 동호회 삼성 \\n',\n",
       " '호텔신라(주)\\t인적 네트워크 비교적 연봉 성장 하기 회사 \\n',\n",
       " '호텔신라(주)\\t국내 로컬 호텔 브랜드 제일 호텔 직원 국내 도심 호텔 지상 \\n',\n",
       " '호텔신라(주)\\t삼성 계열사 연봉 복지 어디가서 토요일 대신 월요일 \\n',\n",
       " '호텔신라(주)\\t점심 저녁 제공 제공 됩니다 식당 유니폼 제공 됩니다 아르바이트 이틀 신입 교육 대기업 신입 교육 시스템 알바생 식사시간 포함 휴식시간 두시간 보장됩니다 직원 카페 이용 커피 좋음 \\n',\n",
       " '대명레저산업(주)\\t다니기 좋음 사내 분위기 장점 복지 좋음 \\n',\n",
       " '대명레저산업(주)\\t업계 휴가 2회 사업장 부대시설 무료 혜택 고객 서비스 경험 \\n',\n",
       " '대명레저산업(주)\\t복지 1년 12 무료 숙박 기념일 상품권 수령 부대시설 무료 이용 가능 만큼 월급 시스템 기본 근무 시간 연장 근무 시간 만큼 월급 월급 근무 시행 시킴 직원 들끼리 리조트 자주 손님 있음 업장 근무 환경 좋음 깨끗 화장실 청소 \\n',\n",
       " '대명레저산업(주)\\t공휴일 수당 전국 대명 성희롱 예방 철저 지킴 \\n',\n",
       " '대명레저산업(주)\\t레저 사람 복지 회사 자부 사용 사용 하지 경우 다수 아쉬움 \\n',\n",
       " '대명레저산업(주)\\t대명리조트 이름 직원 복지 전국 대명리조트 숙박 이용 주말 제외 \\n',\n",
       " '대명레저산업(주)\\t직원 무료 부대시설 이용 \\n',\n",
       " '대명레저산업(주)\\t회사 사업 성과 가족 혜택 복지 정말 야근 분위기 점심 무료 \\n',\n",
       " '대명레저산업(주)\\t연차 비교적 분위기 있음 리조트 이용 복지 리조트 있음 사업장 근무 기숙사 식사 제공 \\n',\n",
       " '대명레저산업(주)\\t직원 휴가 12 쓰기 어려움 무료 시즌 지급 가족 회사 \\n',\n",
       " '대명레저산업(주)\\t2박 리조트 숙박 가능 직원 상조 지원 \\n',\n",
       " '대명레저산업(주)\\t복리후생 국내 최고 리조트 회사 전국 리조트 호텔 그곳 오션 레저 이용 가능 \\n',\n",
       " '대명레저산업(주)\\t복지 가족 리조트 좋음 \\n',\n",
       " '대명레저산업(주)\\t복지 혜택 변화 거의 현상 기업 \\n',\n",
       " '대명레저산업(주)\\t장점 많이 스키장 콘도 리조트 12 쓸수 있음 스키장 라면 메리트 있음 \\n',\n",
       " '대명레저산업(주)\\t업계 1위 회사 동종 대비 시스템 경험 동종 비교 복지 편임 \\n',\n",
       " '대명레저산업(주)\\t리조트 이용 부대시설 무료 할인 이용 가능 \\n',\n",
       " '대명레저산업(주)\\t연고지 경우 연차 생일자 상품 추석 성과 상품 제공 숙식 제공 무능 해도 대리 눈치 있음 \\n',\n",
       " '대명레저산업(주)\\t서류 전형 면접 강도 높지 사업장 나름 관리 하게 운영 \\n',\n",
       " '대명레저산업(주)\\t리조트 숙박 복리후생 정말 가족 혜택 좋음 \\n',\n",
       " '대명레저산업(주)\\t대기업 리조트 1위 같음 \\n',\n",
       " '대명레저산업(주)\\t리조트 관련 12 복지 직원 할인 지인 이벤트 전국 리조트 있음 \\n',\n",
       " '대명레저산업(주)\\t직원 복지 우수 사내 시설 무료 사용 부서 \\n',\n",
       " '대명레저산업(주)\\t리조트 리조트 시설 무료 이용 혜택 있음 교육 동기 생활 회사 버틸 생김 \\n',\n",
       " '대명레저산업(주)\\t사내복지 지원 식음 업장 할인 할인 지급 사내 동아리 활성화 있음 \\n',\n",
       " '대명레저산업(주)\\t대기업 리조트 복지 제일 장점 인듯 트렌드 친구들 많음 \\n',\n",
       " '대명레저산업(주)\\t레저 부문 동종업계 1위 확장 사업장 직원 복지 직원 해당 직원 숙소 인터넷 강의 제도 \\n',\n",
       " '대명레저산업(주)\\t여러가지 있음 복지 좋음 콘도 최근 사옥 근무 환경 \\n',\n",
       " '대명레저산업(주)\\t연장 근무 수당 지급 리조트 숙박 12 이용 시즌 가족 회원 지급 직영점 할인 복지 좋음 많이 명절 상여금 고기 생일 3만원 상품권 만원 지급 자기 계발 비용 지원 있음 \\n',\n",
       " '대명레저산업(주)\\t레저 산업 인프라 콘도 스키장 부대시설 자녀 학자금 지원 1년 200만원 한도 회사 교육 시스템 \\n',\n",
       " '대명레저산업(주)\\t사업장 마다 분위기 연차 자유 식사 제공 기숙사 제공 \\n',\n",
       " '대명레저산업(주)\\t기간 정년 보장 구조 콘도 이용 숙소 제공 식사 제공 해줌 \\n',\n",
       " '대명레저산업(주)\\t국내 1위 리조트 복리후생 연봉 동종 나은편 \\n',\n",
       " '대명레저산업(주)\\t직원 복리후생 알바생 모두 해당 업장 레저 시설 이용 무료 숙식 제공 리조트 정말 한푼 \\n',\n",
       " '대명레저산업(주)\\t리조트 부대시설 무료 이용 자녀 학자금 지원 업계 1위 자부심 \\n',\n",
       " '대명레저산업(주)\\t복리후생 비교적 리조트 본인 가족 모두 숙박 리조트 식당 할인 \\n',\n",
       " '대명레저산업(주)\\t복지 좋음 근무 강도 낮음 시설 갈수 있음 공장 리티 장비 \\n',\n",
       " '대명레저산업(주)\\t직원 복지 기숙사 셔틀 스키장 휴가 \\n',\n",
       " '대명레저산업(주)\\t국내 최고 리조트 회사 자부심 직원 \\n',\n",
       " '대명레저산업(주)\\t복지 혜택 사업장 윗선 퇴근 기숙사 제공 모으기 장점 단점 문제 \\n',\n",
       " '대명레저산업(주)\\t리조트 복지 상조 가족 회원 복지 문화 경험 가능 \\n',\n",
       " '대명레저산업(주)\\t복지 최고 급여 중소기업 수준 \\n',\n",
       " '대명레저산업(주)\\t12 리조트 무료 숙박 부대시설 관련 혜택 좋음 주말 사용 아님 주말 연휴 부분 \\n',\n",
       " '대명레저산업(주)\\t업계 1위 기업 복지 12 사업장 숙박 무료 오션 무료 \\n',\n",
       " '대명레저산업(주)\\t복지 리조트 레저 산업 직원 었음 \\n',\n",
       " '대명레저산업(주)\\t분위기 비즈니스 캐쥬얼 눈치 연차 복지 리조트 \\n',\n",
       " '대명레저산업(주)\\t식사 월급 제때 분포 부서 갈수 \\n',\n",
       " '대명레저산업(주)\\t강제 연차 징검다리 휴일 눈치 보지 쉴수 있음 레저 활용 복지 쏠쏠 리조트 12 무료 골프 할인 야근 눈치 주지 점심 \\n',\n",
       " '대명레저산업(주)\\t레저 업계 1위 이름 동종업계 복리후생 생각 성희롱 회식문화 사회적 대응 월급 \\n',\n",
       " '대명레저산업(주)\\t팀원 기숙사 마음 다니기 회사 기업 연봉 생각 \\n',\n",
       " '대명레저산업(주)\\t장점 스마트 자기개발 기회 야근 많이 제도 입사 6개월 본인 가족 대명리조트 사용 혜택 리조트 치킨 카페 직원 할인 혜택 있음 \\n',\n",
       " '대명레저산업(주)\\t기숙사 생활 있음 전국 대명리조트 이용 대부분 많음 정규직 전환 월급 \\n',\n",
       " '대명레저산업(주)\\t분위기 일과 개인 밸런스 유지 장점 \\n',\n",
       " '대명레저산업(주)\\t장점 서비스 연봉 근무 숙식 제공 기업 튼튼 \\n',\n",
       " '대명레저산업(주)\\t복지 좋음 성과 경치 공기 좋음 \\n',\n",
       " '대명레저산업(주)\\t연차 복리후생 좋음 리조트 이용 \\n',\n",
       " '대명레저산업(주)\\t복리후생 생각 제공 \\n',\n",
       " '대명레저산업(주)\\t복리후생 회사 좋음 기숙사 저렴 상여금 있음 \\n',\n",
       " '대명레저산업(주)\\t고객 서비스 칭찬 혜택 \\n',\n",
       " '대명레저산업(주)\\t윗분 눈치 줄서기 분위기 근무 하기 좋음 \\n',\n",
       " '대명레저산업(주)\\t사회 실무진 이기 일부 있음 야근 윗대가리들 꼰대 견디기 힘듬 사회 실무진 이기 일부 있음 야근 \\n',\n",
       " '대명레저산업(주)\\t12 대명리조트 무료 이용 입사 1년 이후 생일 마다 상품권 \\n',\n",
       " '대명레저산업(주)\\t국내 사람들 대명리조트 회원 복지 굉장 혜택 것임 본사 경우 업무 여타 기업 처럼 많이 없기 저녁 보장 가능 정직원 기업 분위기 굉장 안정적 문화 이직 사람들 존재 대기업 노력 보임 \\n',\n",
       " '대명레저산업(주)\\t복지 좋음 자녀 학자금 지원 콘도 대명리조트 부대시설 무료 이용 할인 직원 숙소 제공 열심히 \\n',\n",
       " '대명레저산업(주)\\t리조트 장점 이용 불가 리조트 겨울 예약 \\n',\n",
       " '대명레저산업(주)\\t노동 명시 복지 노력 \\n',\n",
       " '대명레저산업(주)\\t부서 분위기 복불복 직원 복지 대명리조트 12 장점 계열사 사우나 복지 포함 연차 있음 \\n',\n",
       " '대명레저산업(주)\\t리조트 회사 라서 회사 신사업 확정 다소 있음 가장 장점 직원 제공 리조트 무료 \\n',\n",
       " '대명레저산업(주)\\t복리후생 지방근무 숙식 제공 리조트 숙박 15 가능 \\n',\n",
       " '대명레저산업(주)\\t콘도 스키장 이용 무료 좋음 12 콘도 사용 가능 복지 좋음 \\n',\n",
       " '대명레저산업(주)\\t리조트 복지 있음 규모 계속 \\n',\n",
       " '대명레저산업(주)\\t놀기 체험 좋음 \\n',\n",
       " '대명레저산업(주)\\t복지 연봉 만족 수준 \\n',\n",
       " '대명레저산업(주)\\t전국 리조트 가족 \\n',\n",
       " '대명레저산업(주)\\t대명 복리후생 콘도 이용 레저 활동 지원 있음 \\n',\n",
       " '대명레저산업(주)\\t동종업계 국내 1위 부문 세계 랭크 운영 가능 골프 여름 겨울 콘도 다양 부대시설 롯데 베이 대규모 신축 투자 \\n',\n",
       " '대명레저산업(주)\\t복리후생 무료 숙박 12 정규직 경우 친구들 급여 제때 근무 진행 본사 사업장 사무직 성수기 사업장 예전 어르신 대명 콘도 주변 회사 자부심 수도 \\n',\n",
       " '대명레저산업(주)\\t딱딱 기숙사 있음 \\n',\n",
       " '대명레저산업(주)\\t여지 연차 눈치 한번 없음 본인 업무 시간 터치 잔소리 하지 개인 부분 성향 분위기 \\n',\n",
       " '대명레저산업(주)\\t복지 정말 되있음 대명리조트 숙박 오션 시즌 \\n',\n",
       " '대명레저산업(주)\\t복지 좋음 12 전국 리조트 숙박 가능 본사 헬스 어린이집 어느 대기업 복리후생 월급 \\n',\n",
       " '대명레저산업(주)\\t기숙사 제공 해줌 로테 근무 업장 사람들 지낼 있음 사람들 관계 아님 \\n',\n",
       " '대명레저산업(주)\\t복지 여러가지 자기개발 충분 \\n',\n",
       " '대명레저산업(주)\\t직원 복지 콘도 레저 이용 지원 고등학교 대학교 학자금 지원 \\n',\n",
       " '대명레저산업(주)\\t업계 명성 리조트 숙박 노동 준수 사업 확장 시도 \\n',\n",
       " '대명레저산업(주)\\t신사옥 쾌적 근무 환경 사업장 제외 개인 데스크 크기 도서 대여 공간 휘트니스 직원 배려 보임 상사 스타일 조금 차이 업무 관련 경우 신경 아래 직원 본적 없음 야근 분위기 아님 직원 휴가 지원 12 식음 업장 할인 개인 기념일 상품권 제공 생일 축하 지원 자녀 지원 동아리 지원 워크샵 조직 활성화 시행 많음 \\n',\n",
       " '대명레저산업(주)\\t정규직 전환 거의 기만 사원 주임 주임 성장 있음 \\n',\n",
       " '대명레저산업(주)\\t콘도 미니 국내 1위 업체 나름 프라이드 있음 콘도 장점 있음 \\n',\n",
       " '대명레저산업(주)\\t직원 가족 복지 혜택 좋음 사무직 사업장 분위기 많이 사업장 분위기 세분화 대기업 문화 있음 만약 경험 생각 \\n',\n",
       " '대명레저산업(주)\\t전국 대명 무료 숙박 부대시설 이용 본인 가족 나름 기업 프라이드 회사 직원 스트레스 려고 노력 많이 체육대회 \\n',\n",
       " '대명레저산업(주)\\t복리후생 대기업 경력쌓기 \\n',\n",
       " '대명레저산업(주)\\t사업 많음 오랜기간 연봉 직원 많음 \\n',\n",
       " '대명레저산업(주)\\t교육 며칠 좋음 직원 복지 숙박 좋음 \\n',\n",
       " '대명레저산업(주)\\t교대 근무 이기 왠만 바쁘지 칼퇴 가능 \\n',\n",
       " '대명레저산업(주)\\t나름 직원 복리후생 휴가 직영 직원 할인 등등 \\n',\n",
       " '대명레저산업(주)\\t숙박 시설 부대시설 사용 있음 가장 장점 \\n',\n",
       " '대명레저산업(주)\\t숙식 제공 법정 연장근 수당 현장 연차 직원 채용 경우 있음 \\n',\n",
       " '대명레저산업(주)\\t직원 전국 리조트 여행 나름 분위기 형성 \\n',\n",
       " '대명레저산업(주)\\t복리 무료 숙박 오션 이용 할수 장점 \\n',\n",
       " '대명레저산업(주)\\t레저 리조트 업계 경력 회사 생각 됩니다 \\n',\n",
       " '이랜드파크(주)\\t대기업 이기 중소기업 처럼 회사 부도 적음 개인 역량 그만큼 능력 성장 가능 있음 \\n',\n",
       " '이랜드파크(주)\\t그냥 사람 대기업 근무 대기업 \\n',\n",
       " '이랜드파크(주)\\t연차 휴일 연차 프로 많이 기회 많이 유동 업계 특성 조금 다음 승진 가능 \\n',\n",
       " '이랜드파크(주)\\t업무 분담 체계 명확 직원 교육 의지 시스템 생각 \\n',\n",
       " '이랜드파크(주)\\t있음 생활 필요 배움 \\n',\n",
       " '이랜드파크(주)\\t교육 중간중간 추가 교육 스타트 \\n',\n",
       " '이랜드파크(주)\\t1위 기업 제조 유통 온라인 외식 호텔 사업분야 계열사 이동 \\n',\n",
       " '이랜드파크(주)\\t사람 문화 \\n',\n",
       " '이랜드파크(주)\\t분위기 탄력적 근무 시간 팀장 보여서 승진 팀장 되기 문화 \\n',\n",
       " '이랜드파크(주)\\t본인 의지 개인 능력 비교적 업무 강도 많지 대기업 복지 \\n',\n",
       " '이랜드파크(주)\\t동종업계 급여 인내심 본인 역량 향상 하기 나름 \\n',\n",
       " '이랜드파크(주)\\t연차 눈치 보지 있음 연봉 연차 \\n',\n",
       " '이랜드파크(주)\\t인재 열심히 빨리 \\n',\n",
       " '이랜드파크(주)\\t대기업 하나 중소기업 마인드 근무 남이 대기업 정규직 에다 \\n',\n",
       " '이랜드파크(주)\\t칼퇴 그냥 그냥 사람들 만나야 힘듬 \\n',\n",
       " '이랜드파크(주)\\t기업문화 수평적 연차 원할 있음 장점 \\n',\n",
       " '이랜드파크(주)\\t기업 장점 추가수당 지급 \\n',\n",
       " '이랜드파크(주)\\t기독교 문화 이기 음주 문화 없음 회식 강요 동종업계 승진 본인 업무 추천 \\n',\n",
       " '이랜드파크(주)\\t서비스 자신 감도 많이 요리 \\n',\n",
       " '이랜드파크(주)\\t성장 필요 요소들 개인 커리어 환경 \\n',\n",
       " '이랜드파크(주)\\t최대 장점 최대 단점 사항 \\n',\n",
       " '이랜드파크(주)\\t서비스 신입 \\n',\n",
       " '이랜드파크(주)\\t기업 나름 국내 대기업 회사 인정 나름 대기업 \\n',\n",
       " '이랜드파크(주)\\t연차 2주 가능 동종업계 대비 연봉 높음 사람들 좋음 도전 많음 기독교 기업 사람 대부분 직원 \\n',\n",
       " '이랜드파크(주)\\t업무 시간 오버 초과근무수당 군대 체계 체험 가능 \\n',\n",
       " '이랜드파크(주)\\t대학 학자금 제공 서울 이외 호텔 기숙사 제공 동종 평균 조금 월급 \\n',\n",
       " '이랜드파크(주)\\t하기 업무 하면서 능력 있음 \\n',\n",
       " '이랜드파크(주)\\t네임밸류 상사 서비스 경험 쌓기 \\n',\n",
       " '이랜드파크(주)\\t부서 연령대 직원 분위기 사내 분위기 끊임없 발전 가능 부서 출신 승진 성장 가능 \\n',\n",
       " '이랜드파크(주)\\t육아휴직 급여 정직원 52시간 이상 근무 연차 사용 기존 사용 가능 \\n',\n",
       " '이랜드파크(주)\\t입사 5년차 기회 많이 제공 여성 학벌 비교적 적음 연봉 업계 수준 대비 복지 없음 \\n',\n",
       " '이랜드파크(주)\\t외부 카페 업무 자사 브랜드 할인 본인 브랜드 타브랜드 모두 직급 대리 주임 \\n',\n",
       " '이랜드파크(주)\\t식당 기업 혜택 \\n',\n",
       " '이랜드파크(주)\\t기업 진급 있음 있음 \\n',\n",
       " '이랜드파크(주)\\t연차 사용 눈치 보지 나름 업계 자부심 있음 연봉 업계 \\n',\n",
       " '이랜드파크(주)\\t식대 매장 식사 가능 식비 \\n',\n",
       " '이랜드파크(주)\\t업무 강도 실적 압박 적음 없음 \\n',\n",
       " '이랜드파크(주)\\t직영 구조 가장 브랜드 카테고리 본인 든지 \\n',\n",
       " '이랜드파크(주)\\t뷔페 브랜드 운영 관련 풍부 식품 구속 적음 연봉 동종업계 대비 \\n',\n",
       " '이랜드파크(주)\\t타이틀 정직 기회 \\n',\n",
       " '이랜드파크(주)\\t분위기 다름 성장 가능 가능 성은 성장 구조 인듯 \\n',\n",
       " '이랜드파크(주)\\t술강요 좋음 주변 기업 대기업 인듯 자부심 있음 직원 할인 혜택 좋음 현장 근무 서비스 마인드 좋음 \\n',\n",
       " '이랜드파크(주)\\t고객 자유 사람들 \\n',\n",
       " '이랜드파크(주)\\t동종업계 기준 나름 연봉 능력 인정 근무 가능 외식 1위 기업 다운 체계 시스템 퇴사 주변 얘기 있음 3년 적응 력이 생김 \\n',\n",
       " '이랜드파크(주)\\t없기 회장님 스타일 대로 보고 회사 \\n',\n",
       " '이랜드파크(주)\\t성장 체계 교육 연령 대비 일정 직급 이상 진급 가능 \\n',\n",
       " '이랜드파크(주)\\t대기업 외식업 제외 안정적 \\n',\n",
       " '이랜드파크(주)\\t연차 마음 있음 실적 압박 거의 없음 \\n',\n",
       " '이랜드파크(주)\\t승진 많이 회사 \\n',\n",
       " '이랜드파크(주)\\t대졸공채 기준 동종업계 상위 연봉 있음 비교적 연차 사용 직원 분위기 좋음 \\n',\n",
       " '이랜드파크(주)\\t기업 장점 여러가지 \\n',\n",
       " '이랜드파크(주)\\t연차 권유 인력 힘듬 연봉 수준 \\n',\n",
       " '이랜드파크(주)\\t대기업 소속감 나름 복지 호텔 직원 관계 수평적 \\n',\n",
       " '이랜드파크(주)\\t호텔 함께 발전 부서 업무 기회 \\n',\n",
       " '이랜드파크(주)\\t개인 역량 권한 책임 있음 대기업 이미지 시스템 체계 회사 라면 모두 있음 욕심 배워야 분위기 개인 만족 있음 기독교 사내 문화 있음 \\n',\n",
       " '이랜드파크(주)\\t경험 있음 최소 1주 호텔 리조트 외식 현장 있음 많이 생김 \\n',\n",
       " '이랜드파크(주)\\t아래 직원 업무 경험 가능 계열사 이동 공채 확실 대우받음 \\n',\n",
       " '이랜드파크(주)\\t사업 운영 이상 \\n',\n",
       " '이랜드파크(주)\\t마음 든지 실력 있음 \\n',\n",
       " '이랜드파크(주)\\t생각 자유 군대 거의 신입 기회 오래 있지 \\n',\n",
       " '이랜드파크(주)\\t업종 연봉 있음 장점 주임 대리 사람 많음 \\n',\n",
       " '이랜드파크(주)\\t업무 강도 조금 높지 마음 개인 시간 성장 있음 자기 성장 대로 업무 변경 가능 장점 단점 기독교 회사 기업문화 사람 있음 알바 직원 월급 문제 경영진 변화 발전 가능성 만약 직무 입사 마음 있음 회사 아파트 지원 직원 함께 좋음 \\n',\n",
       " '이랜드파크(주)\\t직원 교육 시스템 메뉴얼 있음 도움 인사 상담 정기적 \\n',\n",
       " '이랜드파크(주)\\t인지 주말 새벽 같이 시간 활용 능력 자기 관리 철저 하게 \\n',\n",
       " '이랜드파크(주)\\t테이블 회전 강도 능력 \\n',\n",
       " '이랜드파크(주)\\t업무 기회 제공 원활 기독교 독서 권장 이랜드 복지 \\n',\n",
       " '이랜드파크(주)\\t자유 애들 할수 잘수 있음 스케줄 1시 9시 출근 가능 하기 때문 이틀 휴무 휴가 나름 \\n',\n",
       " '이랜드파크(주)\\t동종업계 급여 많음 기독교 분위기 종교 영향 없음 \\n',\n",
       " '이랜드파크(주)\\t승진 같음 본인 능력 줘야 \\n',\n",
       " '이랜드파크(주)\\t함께 분위기 재입사 자가 연차 성장 \\n',\n",
       " '이랜드파크(주)\\t업무 경험 있음 확실 하게 서비스 \\n',\n",
       " '이랜드파크(주)\\t직급 역할 있음 동종 업계 대비 초봉 수준 정직 높음 \\n',\n",
       " '이랜드파크(주)\\t연차 기간 직군 능력 \\n',\n",
       " '이랜드파크(주)\\t아르바이트 친절 열심히 \\n',\n",
       " '이랜드파크(주)\\t회사 이윤 창출 있음 여러가지 업무 회사 처럼 진행 있음 술자리 없음 상사 막말 없음 비교적 분위기 개인 배려해줌 \\n',\n",
       " '이랜드파크(주)\\t연령대 이랜드 복지 \\n',\n",
       " '이랜드파크(주)\\t많음 회식문화 없음 워낙 사람 기만 경영진 있음 \\n',\n",
       " '이랜드파크(주)\\t능력 승진 있음 \\n',\n",
       " '이랜드파크(주)\\t초점 입사 있음 \\n',\n",
       " '이랜드파크(주)\\t얘기 한것 처럼 개인 성장 물론 긍정적 작용 \\n',\n",
       " '이랜드파크(주)\\t의욕 많음 기독교 기업 가치관 \\n',\n",
       " '이랜드파크(주)\\t입고 기업문화 자유 교회 월요일 연봉 사람들 여자들 승진 전혀 브랜드 거의 반반 현장 가장 가장 중심 가장 이랜드 지식 술자리 제로 제일 \\n',\n",
       " '이랜드파크(주)\\t문화 서로 종교 단합 회사 \\n',\n",
       " '이랜드파크(주)\\t점심 제공 승진 많이 그냥 네임 벨류 \\n',\n",
       " '이랜드파크(주)\\t복지 포인트 제공 계열사 할인 혜택 제공 기독교 문화 사람 추천 \\n',\n",
       " '이랜드파크(주)\\t자연 규모 브랜드 경력 있음 몇년 점장 안정적 연봉 4천 초중반 눈치 근무 가능 단계별 체계 교육 준비 사내 채용 데스크 근무 가능 \\n',\n",
       " '이랜드파크(주)\\t인사 능력 생각 직원 우수 이랜드 계열사 할인 혜택 좋음 \\n',\n",
       " '이랜드파크(주)\\t서로 사업부 복장 계열사 할인 \\n',\n",
       " '이랜드파크(주)\\t빨리 팀워크 \\n',\n",
       " '이랜드파크(주)\\t페이 효과 홍보 이용 입소문 기업 홍보 기업 없음 \\n',\n",
       " '이랜드파크(주)\\t신입 중소 중견 같음 벤치 기업 이것 저것 변화 기업 이기 생각 회식 좋음 \\n',\n",
       " '이랜드파크(주)\\t복지 좋음 이랜드 자사 브랜드 할인 혜택 경조사 왠만 받음 \\n',\n",
       " '이랜드파크(주)\\t외식 회사 체계 교육 시스템 좋음 \\n',\n",
       " '이랜드파크(주)\\t신입 연봉 진급 가능 부서 사람들 \\n',\n",
       " '이랜드파크(주)\\t계열사 직원 혜택 사고 오래 사내 외식업 서비스 관련 지원 분야 \\n',\n",
       " '이랜드파크(주)\\t인턴 기간 6개월 \\n',\n",
       " '이랜드파크(주)\\t업무 부서 기회 이랜드 복지 \\n',\n",
       " '이랜드파크(주)\\t대기업 기독교 문화 문화 끈끈 사람들 \\n',\n",
       " '이랜드파크(주)\\t커리어 쌓기 좋음 \\n',\n",
       " '이랜드파크(주)\\t신입 하지 술자리 걱정 \\n',\n",
       " '모두투어네트워크(주)\\t연차 캐쥬얼 데이 직원 복지 \\n',\n",
       " '모두투어네트워크(주)\\t각자 자기 나라 컨셉 디자인 할수 눈치 보지 자기 퇴근 \\n',\n",
       " '모두투어네트워크(주)\\t상사 눈치 보지 출퇴근 가능 연차 월차 사용 가능 칼퇴 가능 \\n',\n",
       " '모두투어네트워크(주)\\t없음 여행사 퇴근 가능 부서 차이 있음 있음 출장 기회 휴가 사용 가능 \\n',\n",
       " '모두투어네트워크(주)\\t동종업계 대비 연봉 수준 연차 사용 가능 성격 직원 보지 못했음 자진 퇴사 회사 퇴사 푸시 없었음 안정 \\n',\n",
       " '모두투어네트워크(주)\\t엄청 자기 할일 군대 문화 보지 못했음 장점 회사 \\n',\n",
       " '모두투어네트워크(주)\\t연차 쓸때 눈치 보지 쓸수 느낌 텃새 \\n',\n",
       " '모두투어네트워크(주)\\t주변 업무 프로 조직 시스템 체계 느낌 받았음 \\n',\n",
       " '모두투어네트워크(주)\\t연차 자유 업계 안정적 자유 오래 \\n',\n",
       " '모두투어네트워크(주)\\t밸류 강함 회사 업력 오래 튼튼 실무진 있음 \\n',\n",
       " '모두투어네트워크(주)\\t업계 상위 네임 회사 오래 호봉제 년차 급여 계속 \\n',\n",
       " '모두투어네트워크(주)\\t패키지 있음 \\n',\n",
       " '모두투어네트워크(주)\\t여행 직원 할인 나라 도시 여행 도움 \\n',\n",
       " '모두투어네트워크(주)\\t동종업계 대비 초봉 여행업계 웰빙 라이프 가능 기업문화 사람들 욕심 다니기 좋음 \\n',\n",
       " '모두투어네트워크(주)\\t여행업계 별명 오래 근무 사람 만약 기업 스타트업 도전 위치 정말 마지막 지인 기업 대신 성장 수도 \\n',\n",
       " '모두투어네트워크(주)\\t연차 눈치 보고 분위기 서로 분위기 업계 상위 클라 \\n',\n",
       " '모두투어네트워크(주)\\t연차 개인 눈치 전혀 사용 가능 비교적 칼퇴 가능 \\n',\n",
       " '모두투어네트워크(주)\\t연차 사람 회사 장기 휴가 여행 휴가 \\n',\n",
       " '모두투어네트워크(주)\\t사내 분위기 생각 개인 경험 업무 많지 \\n',\n",
       " '모두투어네트워크(주)\\t자유 칼퇴 가능 압박 사람 근무 \\n',\n",
       " '모두투어네트워크(주)\\t회사 네임밸류 메리트 발판 직원 본인 속에서 재미 여행 갈수 \\n',\n",
       " '모두투어네트워크(주)\\t다니기 회사 육아휴직 쓰기 회사 직원 분위기 회사 \\n',\n",
       " '모두투어네트워크(주)\\t업무 분담 체계 확실 있음 자기 업무 회사 경영진 직원 친절 \\n',\n",
       " '모두투어네트워크(주)\\t부서 연차 사용 회식 문화 없음 야근 거의 없음 \\n',\n",
       " '모두투어네트워크(주)\\t보장 업계 연봉 1위 \\n',\n",
       " '모두투어네트워크(주)\\t출퇴근 눈치 좋음 기업 여자 오기 그만큼 다니기 좋음 \\n',\n",
       " '모두투어네트워크(주)\\t대부분 부서 칼퇴 문화 당연 일부 부서 제외 눈치 보지 연차 사용 여행업 기업 해외 자주 갈수 있음 \\n',\n",
       " '모두투어네트워크(주)\\t연차 눈치 있음 자기개발 지원 부서 마다 여행업 비수기 성수기 야근 다름 \\n',\n",
       " '모두투어네트워크(주)\\t직원 모두 알바생 많이 분위기 \\n',\n",
       " '모두투어네트워크(주)\\t나름 국내 회사 주변 있음 \\n',\n",
       " '모두투어네트워크(주)\\t좋음 위치 회사 자긍심 없지 휴가 월차 비교적 사용 가능 분위기 \\n',\n",
       " '모두투어네트워크(주)\\t해외출장 자주 있음 주변 동료들 유대감 좋음 복지 지급 \\n',\n",
       " '모두투어네트워크(주)\\t연차 눈치 갖다 하지 퇴근 할때 눈치 있음 \\n',\n",
       " '모두투어네트워크(주)\\t육아휴직 눈치 직무 많음 만큼 복지 근속년수 안정적 회사 서로 분위기 \\n',\n",
       " '모두투어네트워크(주)\\t복지 포인트 지급 근무 6시 칼퇴 기업문화 바꾸기 많이 노력 \\n',\n",
       " '모두투어네트워크(주)\\t아르바이트 아르바이트 인턴 정규직 모두 직원 \\n',\n",
       " '모두투어네트워크(주)\\t유명무실 노조 출산 육아휴직 분위기 \\n',\n",
       " '모두투어네트워크(주)\\t눈치 보지 기업 있음 \\n',\n",
       " '모두투어네트워크(주)\\t해외 출장 갈수 휴가 것임 \\n',\n",
       " '모두투어네트워크(주)\\t다니기 회사 업무 강도 많이 야근 주말 퇴근 연락 경우 \\n',\n",
       " '모두투어네트워크(주)\\t사무실 분위기 개인 분위기 완만 서로 장점 있음 꼰대 문화 보임 부서 칼퇴 가능 \\n',\n",
       " '모두투어네트워크(주)\\t직원 노조 있음 \\n',\n",
       " '모두투어네트워크(주)\\t사무실 분위기 연차 눈치 왠만 결재 퇴근 \\n',\n",
       " '모두투어네트워크(주)\\t성수기 연차 쓸수 있음 야근 강요 없음 \\n',\n",
       " '모두투어네트워크(주)\\t주말 공휴일 출근 출퇴근 시간 눈치 조금 퇴근 가능 회사 \\n',\n",
       " '모두투어네트워크(주)\\t여행사 직무 부서 끈끈 부서 동기 \\n',\n",
       " '모두투어네트워크(주)\\t비교적 분위기 체계 시스템 본사 근무 서울 중심 근무 가능 매년 1회 이상 해외출장 가능 \\n',\n",
       " '모두투어네트워크(주)\\t기업 비교적 자유 우리나라 여행업계 \\n',\n",
       " '모두투어네트워크(주)\\t직원 조금 있음 야근 강요 분업 시스템 업무 강도 약함 \\n',\n",
       " '모두투어네트워크(주)\\t연차 연차 사용 수도 있음 \\n',\n",
       " '모두투어네트워크(주)\\t2위 기업 리스크 발전 회사 생각 \\n',\n",
       " '모두투어네트워크(주)\\t안정 성장 2위 개인 있음 \\n',\n",
       " '모두투어네트워크(주)\\t연차 자유 육아휴직 복지 여직원 오래 \\n',\n",
       " '모두투어네트워크(주)\\t연차 있음 여행업 당장 있음 야근 많지 많이 8시 거의 퇴근 했음 업무 많지 \\n',\n",
       " '모두투어네트워크(주)\\t연차 정년보장 거의 입사 경력직 경우 거의 없기 승진 연봉 최근 많이 오름 \\n',\n",
       " '모두투어네트워크(주)\\t업계 상위권 위치 장점 느낄수 있음 업계 대기업 \\n',\n",
       " '모두투어네트워크(주)\\t연봉 오래 있음 출장 라면 다닐만 \\n',\n",
       " '모두투어네트워크(주)\\t업계 2위 현금 부자 부채 특가 \\n',\n",
       " '모두투어네트워크(주)\\t선후배 리더 사람 스트레스 \\n',\n",
       " '모두투어네트워크(주)\\t업무 개인 스타일 기만 이상 진화 \\n',\n",
       " '모두투어네트워크(주)\\t비교적 업무 강도 \\n',\n",
       " '모두투어네트워크(주)\\t연차 야근 적음 신입 타업계 보람 \\n',\n",
       " '모두투어네트워크(주)\\t여행업계 자부심 복직 있음 대신 승진 어려움 구성원 젊음 성수기 퇴근 아님 부서 꿀부서 있음 \\n',\n",
       " '모두투어네트워크(주)\\t많이 사원 복지 조금 신경 복지 \\n',\n",
       " '모두투어네트워크(주)\\t직원 복지 회사 대비 있음 분위기 스트레스 없음 \\n',\n",
       " '모두투어네트워크(주)\\t업계 브랜드 이미지 분위기 상여금 복지 시스템 입사 동종업계 정규직 약간 물론 임금 경쟁사 사업 과다 투자 임금 상승 저조 여행업 대기업 주목 \\n',\n",
       " '모두투어네트워크(주)\\t업무 확실 이상 업무 \\n',\n",
       " '모두투어네트워크(주)\\t존재 급여 이지 \\n',\n",
       " '모두투어네트워크(주)\\t수준 업무 강도 경영 좋지 고통 분담 감축 구조 없었음 야근 휴일 출근 회사 분위기 \\n',\n",
       " '모두투어네트워크(주)\\t육아휴직 쓸수 있음 \\n',\n",
       " '모두투어네트워크(주)\\t근무 해외 경험 이용 있음 \\n',\n",
       " '모두투어네트워크(주)\\t사람 안정적 상장기업 본인 일만 열중 이후 \\n',\n",
       " '모두투어네트워크(주)\\t나름 분위기 사람 회사 편함 카페 먹거리 편임 \\n',\n",
       " '모두투어네트워크(주)\\t출산 육아휴직 자유 여행 출장 업계 유일 직원 안정 \\n',\n",
       " '모두투어네트워크(주)\\t사무실 분위기 군대 문화 회식 강요 선후배 사이 상여금 급여 여행사 \\n',\n",
       " '모두투어네트워크(주)\\t2등 기업 사람들 내부 분위기 군대 \\n',\n",
       " '모두투어네트워크(주)\\t여직원들 육아휴직 자유 남성 취업 \\n',\n",
       " '모두투어네트워크(주)\\t주말 근무 업계 연봉 수준 중상 정도 복지 \\n',\n",
       " '모두투어네트워크(주)\\t눈치 많이 보이지 보너스 생각 될듯 연봉 높지 여자 \\n',\n",
       " '모두투어네트워크(주)\\t동종업계 회사 분위기 복지 사람 \\n',\n",
       " '모두투어네트워크(주)\\t해외 있음 연차 사용 회사 근무 공휴일 휴무 개인 시간 많음 \\n',\n",
       " '모두투어네트워크(주)\\t눈치 연차 쓸수 진급 가능 칼퇴 가능 \\n',\n",
       " '모두투어네트워크(주)\\t하기 기도 여행사 업계 대기업 이기 직원 복지 \\n',\n",
       " '모두투어네트워크(주)\\t여성 복지 좋음 육아휴직 관대 연차 사용 가능 부서 차이 업무 엄청 스트레스 회사 사람 경우 없음 계약직 대부분 전환 회사 다니기 추천 \\n',\n",
       " '모두투어네트워크(주)\\t연차 비교적 지유 업무 버틸 수준 출장 있음 \\n',\n",
       " '모두투어네트워크(주)\\t여행업계 연차 있음 여자들 육아휴직 \\n',\n",
       " '모두투어네트워크(주)\\t부서 특성 느낌 모두 열심히 \\n',\n",
       " '모두투어네트워크(주)\\t업무 습득 있음 업계 위치 업무 있음 \\n',\n",
       " '모두투어네트워크(주)\\t1등 하나투어 2등 위치 나름 기업 \\n',\n",
       " '모두투어네트워크(주)\\t직원 생각 업계 2위 자부심 1위 목표 확실 \\n',\n",
       " '모두투어네트워크(주)\\t공무원 다름 안정적 분위기 불안 필요 전혀 일만 \\n',\n",
       " '모두투어네트워크(주)\\t여행 존재 기업 운영 하는데 장점 회사 \\n',\n",
       " '모두투어네트워크(주)\\t능력 같음 같음 개인 능력 오래 회사 \\n',\n",
       " '모두투어네트워크(주)\\t동종업계 상위 연봉 업계 지부 기업 문화 복지 제도 여러가지 직원 출장 기회 \\n',\n",
       " '모두투어네트워크(주)\\t휴가 야근 회사 직원 경우 \\n',\n",
       " '모두투어네트워크(주)\\t안정 회사 하면서 분위기 여자들 전문성 직장 회식 강요 없음 근무 \\n',\n",
       " '모두투어네트워크(주)\\t초봉 변화 처럼 보임 \\n',\n",
       " '모두투어네트워크(주)\\t경쟁사 대비 연봉 성수기 연차 여행 많음 출장 개인 여행 \\n',\n",
       " '모두투어네트워크(주)\\t회사 분위기 모두 수다 빨리 기업 분위기 좋음 \\n',\n",
       " '모두투어네트워크(주)\\t복지 사람들 회사 오래 다니기 \\n',\n",
       " '(주)노랑풍선\\t업무 이직 좋음 있음 헬스 있음 \\n',\n",
       " '(주)노랑풍선\\t기업 \\n',\n",
       " '(주)노랑풍선\\t중소기업 할수 장점 \\n',\n",
       " '(주)노랑풍선\\t있음 지하철역 이상 장점 보고 입사 \\n',\n",
       " '(주)노랑풍선\\t환경 기업 기도 \\n',\n",
       " '(주)노랑풍선\\t영업 기준 목표 달성 경영 상여금 제공 \\n',\n",
       " '(주)노랑풍선\\t직장 야근 없음 좋음 \\n',\n",
       " '(주)노랑풍선\\t번지르르 여행사 현실 장점 장점 \\n',\n",
       " '(주)노랑풍선\\t연차 사용 자유 분위기 사람들 대부분 연차 건데 눈치 엄청 계약직 내탓 쓰면서 병원 다녀야 1달 이상 퇴사 같음 \\n',\n",
       " '(주)노랑풍선\\t직원 야기 노력 개선 연차 쓰게 노력 직원 해외출장 매년 \\n',\n",
       " '(주)노랑풍선\\t유명 홍보 여행사 \\n',\n",
       " '(주)노랑풍선\\t연차 있음 분위기 분위기 \\n',\n",
       " '(주)노랑풍선\\t복지 성과 만족 했음 \\n',\n",
       " '(주)노랑풍선\\t체계 신입 배우기 나름 칼퇴 가능 \\n',\n",
       " '(주)노랑풍선\\t2017년 인센티브 급여 \\n',\n",
       " '(주)노랑풍선\\t나름 연차 부서 상이 부서 분위기 좋음 \\n',\n",
       " '(주)노랑풍선\\t기업 있음 야근 식대 지원 저녁 8시 제한 눈치 보게 인센티브 조금 같음 \\n',\n",
       " '(주)노랑풍선\\t상여금 떡값 기본 복지 같음 \\n',\n",
       " '(주)노랑풍선\\t출퇴근 비교적 본인 일만 야근 강요 없음 금요일 자유 복장 \\n',\n",
       " '(주)노랑풍선\\t성과 인센티브 같음 \\n',\n",
       " '(주)노랑풍선\\t상여금 마케팅 많이 써서 회사 좋음 \\n',\n",
       " '(주)노랑풍선\\t웬만 영업 인센티브 신입 담당 지역 해외 출장 \\n',\n",
       " '(주)노랑풍선\\t시스템 안정 신입사원 사옥 위치 깨끗 \\n',\n",
       " '(주)노랑풍선\\t많이 장점 \\n',\n",
       " '(주)노랑풍선\\t연차 사용 터치 없음 있음 \\n',\n",
       " '(주)노랑풍선\\t유니폼 근무 절약 역과 오래 \\n',\n",
       " '(주)노랑풍선\\t7시 사람 거의 연차 인센티브 하나 모두 투어 여행사 라서 출퇴근 시간 퇴근 회사 라서 업무 빨리 본인 찾기 \\n',\n",
       " '(주)노랑풍선\\t신입 공채 경력직 분기별 보너스 있음 \\n',\n",
       " '(주)노랑풍선\\t장점 사옥 엘레베이터 사용 눈치 사옥 \\n',\n",
       " '(주)노랑풍선\\t예약 시스템 개발 많이 투자 시스템 하나 여행업계 \\n',\n",
       " '(주)노랑풍선\\t월급 오기 인센티브 정도 \\n',\n",
       " '(주)노랑풍선\\t회사 상장 준비 건물 깨끗 장점 \\n',\n",
       " '(주)노랑풍선\\t회사 성장 장점 분위기 장점 이번 후반 상장 건지 궁금 \\n',\n",
       " '(주)노랑풍선\\t정말 정말 \\n',\n",
       " '(주)노랑풍선\\t장점 분위기 동료 \\n',\n",
       " '(주)노랑풍선\\t한번 담당 인센 꾸준 기본급 정도 커리어 회사 \\n',\n",
       " '(주)노랑풍선\\t일년 출장 여행업 할수 흐름 업무 \\n',\n",
       " '(주)노랑풍선\\t여행사 신입 그냥 가족 운영 회사 전화 업무 콜센터 일뿐 \\n',\n",
       " '(주)노랑풍선\\t복지 생각 분위기 부서 마다 연차 사용 자주 있음 \\n',\n",
       " '(주)노랑풍선\\t우리나라 하나투어 모두 투어 회사 생각 자부심 \\n',\n",
       " '(주)노랑풍선\\t함께 직원 모두 투어 하나투어 \\n',\n",
       " '(주)노랑풍선\\t분위기 퇴근 눈치 보지 퇴근 \\n',\n",
       " '(주)노랑풍선\\t사무실 쾌적 영업 성과 성과 같음 근무 분위기 \\n',\n",
       " '(주)노랑풍선\\t열까지 욕심 사람 추천 생각 인센 \\n',\n",
       " '(주)노랑풍선\\t연차 사용 인센티브 제도 좋음 여행 자주 \\n',\n",
       " '(주)노랑풍선\\t만큼 하게 능력 대처 능력 키우기 \\n',\n",
       " '(주)노랑풍선\\t직원 쾌적 환경 \\n',\n",
       " '(주)노랑풍선\\t고객 칼퇴 눈치 직원 스트레스 고객 우선 \\n',\n",
       " '(주)노랑풍선\\t회사 꾸준 성장 보임 부서 하나 아님 \\n',\n",
       " '(주)노랑풍선\\t군대 문화 장점 단점 모두 있음 부서 마다 분위기 단정 짓기 어렵지 그렇듯 분위기 부서 부서 아님 \\n',\n",
       " '(주)노랑풍선\\t가질수 역과 부서 마다 인센 자주 \\n',\n",
       " '(주)노랑풍선\\t어학 점수 제공 지원 지급 학원 수강 지원 가능 \\n',\n",
       " '(주)노랑풍선\\t서울 위치 팀장 압박 있지 마음 직장 \\n',\n",
       " '(주)노랑풍선\\t여행사 거의 \\n',\n",
       " '(주)노랑풍선\\t부서 근무 회사 연봉 적지 실적 압박 크지 않았음 \\n',\n",
       " '(주)노랑풍선\\t업계 있음 직원 분위기 편임 매년 추석때 상여금 꾸준 \\n',\n",
       " '(주)노랑풍선\\t업무 환경 능력 마음 해줌 사내 분위기 조성 \\n',\n",
       " '(주)노랑풍선\\t네임밸류 이직 동종업계 있음 불규칙 인센티브 \\n',\n",
       " '(주)노랑풍선\\t연차 분위기 회사 좋음 접근 \\n',\n",
       " '(주)노랑풍선\\t여행사 조금 연봉 남자 반정 여성 사복 옷차림 \\n',\n",
       " '(주)노랑풍선\\t여행 국민 가운데 유명 광고 고객 만족 상위권 여행사 \\n',\n",
       " '(주)노랑풍선\\t인센티브 급여 성장 회사 \\n',\n",
       " '(주)노랑풍선\\t어학 자격증 직원 특가 \\n',\n",
       " '(주)노랑풍선\\t국내 여행사 건물 직원 휴게실 휘트니스 센터 커피 2호선 입구 있음 \\n',\n",
       " '(주)노랑풍선\\t영업 연차 눈치 관리 장점 이미지 광고 많이 \\n',\n",
       " '(주)노랑풍선\\t분기별 회사 여행업 급여 수준 매출 상승 회사 키움 \\n',\n",
       " '(주)노랑풍선\\t업무 있음 동종업계 이직 있음 \\n',\n",
       " '(주)노랑풍선\\t동종업계 상위 자부심 여행사 연봉 인센티브 어학수당 있음 \\n',\n",
       " '(주)노랑풍선\\t연차 나름 \\n',\n",
       " '(주)노랑풍선\\t여행사 회사 위치 인식 장점 없음 \\n',\n",
       " '(주)노랑풍선\\t여행사 우리 여행사 연봉 여행사 연봉 생각 \\n',\n",
       " '(주)노랑풍선\\t동종업계 여행사 1위 느낄수 매주 금요일 자유 입고 근무 성과 \\n',\n",
       " '(주)노랑풍선\\t여행사 1위 실적 달성 상여금 사람 \\n',\n",
       " '(주)노랑풍선\\t박봉 여행사 연봉 위치 출퇴근 \\n',\n",
       " '(주)노랑풍선\\t인센티브 인센티브 기본 연봉 해외 제도 해외 자주 있음 \\n',\n",
       " '(주)노랑풍선\\t연차 눈치 개인 조퇴 반차 자유 업무 강도 편임 \\n',\n",
       " '(주)노랑풍선\\t동종업계 성장 최근 사옥 구매 경영 \\n',\n",
       " '(주)노랑풍선\\t연차 야근 거의 없음 퇴근 시간 6시 30분 거의 7시 퇴근 부서 원들 사이 좋음 분기별 인센 자녀 육아 수당 어학수당 있음 \\n',\n",
       " '(주)노랑풍선\\t성장 회사 성장 계속 성장 의문 장점 없음 \\n',\n",
       " '(주)노랑풍선\\t개발 회사 업무 강도 강하지 \\n',\n",
       " '(주)노랑풍선\\t성과 주나 있기 쉽지 곳임 채용 할때 인원 많이 \\n',\n",
       " '(주)노랑풍선\\t기본급 명절 인센티브 업무 평균 나이 친구 처럼 최근 사옥 업무 환경 하나 잡일 \\n',\n",
       " '(주)노랑풍선\\t성장 기업 인센티브 \\n',\n",
       " '(주)노랑풍선\\t비교적 연봉 담당 해외출장 \\n',\n",
       " '(주)노랑풍선\\t출산 육아휴직 여러가지 업무 이것저것 그만큼 \\n',\n",
       " '(주)노랑풍선\\t여행 연봉 대다수 여성 \\n',\n",
       " '(주)노랑풍선\\t직원 뭔가 노력 직원 일관성 남발 \\n',\n",
       " '(주)노랑풍선\\t자격증 인센티브 복지 \\n',\n",
       " '(주)노랑풍선\\t인센티브 하나 장점 많음 여자들 많이 있음 \\n',\n",
       " '(주)노랑풍선\\t추천 분기별 인센티브 쏠쏠 \\n',\n",
       " '(주)노랑풍선\\t확실 업무 다양 \\n',\n",
       " '(주)노랑풍선\\t사업부 경우 연차 있음 복지 부분 제공 있음 \\n',\n",
       " '(주)노랑풍선\\t장점 출퇴근 하기 용이 출근 국민체조 \\n',\n",
       " '(주)노랑풍선\\t자기 담당 파트 회사 전체적 업무 있음 여행사 직원 회사 퇴사 어느 여행사 있음 \\n',\n",
       " '(주)노랑풍선\\t생각 직원 회사 목표 열심 \\n',\n",
       " '(주)노랑풍선\\t엄청 많이 있음 교통 용이 성과 인센티브 제도 \\n',\n",
       " '(주)노랑풍선\\t장점 회사 우선 여행업 필요 업무 복지 우수 \\n',\n",
       " '(주)노랑풍선\\t인센 동기들 보고 \\n',\n",
       " '(주)노랑풍선\\t업무 역량 발휘 기회 비교적 분위기 업무 환경 인센티브 \\n',\n",
       " '(주)노랑풍선\\t업무 해야 업무 습득 가능 \\n',\n",
       " '한화호텔앤드리조트(주)\\t정말 직원 주기 일만 성실히 \\n',\n",
       " '한화호텔앤드리조트(주)\\t서비스 체계 교육 직원 들끼리 서로 협동 \\n',\n",
       " '한화호텔앤드리조트(주)\\t대기업 이기 동종업계 급여 대기업 타이틀 달고 \\n',\n",
       " '한화호텔앤드리조트(주)\\t사업장 개인 경우 정시퇴근 가능 \\n',\n",
       " '한화호텔앤드리조트(주)\\t대기업 복지 출퇴근 편함 \\n',\n",
       " '한화호텔앤드리조트(주)\\t조직 분위기 제조업 좋음 여성 육아휴직 사용 비교적 눈치 보지 분위기 \\n',\n",
       " '한화호텔앤드리조트(주)\\t업무 분담 체계 확실 한번 직원 책임 느낌 회사 인지 백오피스 현장 차별 복지 혜택 \\n',\n",
       " '한화호텔앤드리조트(주)\\t대기업 네임밸류 직원 복지 낮지 연봉 \\n',\n",
       " '한화호텔앤드리조트(주)\\t그룹 대기업 수평적 기업문화 꼰대 대기업 같음 기업 퇴사 분위기 사람들 \\n',\n",
       " '한화호텔앤드리조트(주)\\t대인관계 훈련 성숙 있음 인적 발생 고객 컴플레인 관리 등등 \\n',\n",
       " '한화호텔앤드리조트(주)\\t다니기 육아휴직 대신 그만큼 근무 쉽지 일반 기업 같음 \\n',\n",
       " '한화호텔앤드리조트(주)\\t대기업 교육 시스템 복지 나름 \\n',\n",
       " '한화호텔앤드리조트(주)\\t신용 회사 직원 분위기 업무 공백 서로 서로 \\n',\n",
       " '한화호텔앤드리조트(주)\\t해외 경험 부서 용이 네임 밸류 연봉 \\n',\n",
       " '한화호텔앤드리조트(주)\\t사람 분위기 \\n',\n",
       " '한화호텔앤드리조트(주)\\t동일 업계 대비 복지 좋음 연차 눈치 팀별 직무 차이 있음 추가근무 수당 \\n',\n",
       " '한화호텔앤드리조트(주)\\t대기업 안정 분위기 플러스 \\n',\n",
       " '한화호텔앤드리조트(주)\\t나름 분위기 가장 같음 업무 터치 초봉 \\n',\n",
       " '한화호텔앤드리조트(주)\\t직원 협력 분위기 명절 차례 복지 수당 장기 근무 복지 증가 \\n',\n",
       " '한화호텔앤드리조트(주)\\t리조트 아르바이트 많이 뽑음 민감 서비스 교육 철저 시킴 근로계약서 작성 야간 주말 수당 철저 하게 \\n',\n",
       " '한화호텔앤드리조트(주)\\t눈치 거의 손님 눈치 정말 \\n',\n",
       " '한화호텔앤드리조트(주)\\t일에 편함 있음 대기업 계열사 이직 좋음 \\n',\n",
       " '한화호텔앤드리조트(주)\\t직장 위치 브랜드 밸류 대기업 연차 소진 문화 어학 도서 직원 교육 비용 지원 야근 식대 제공 본인 지인 레저 시설 무료 할인 제공 \\n',\n",
       " '한화호텔앤드리조트(주)\\t눈치 보고 연차 사용 교육 기회 \\n',\n",
       " '한화호텔앤드리조트(주)\\t대기업 분위기 \\n',\n",
       " '한화호텔앤드리조트(주)\\t기업문화 대기업 복지 수준 승진 기회 근속연수 모두 상위 수준 \\n',\n",
       " '한화호텔앤드리조트(주)\\t직원 좋음 사내 분위기 좋음 복지 \\n',\n",
       " '한화호텔앤드리조트(주)\\t분위기 건물 진짜 좋음 좋음 \\n',\n",
       " '한화호텔앤드리조트(주)\\t일에 강도 만큼 장점 있음 계약직 급여 알바 \\n',\n",
       " '한화호텔앤드리조트(주)\\t연차 눈치 보고 사용 연차 \\n',\n",
       " '한화호텔앤드리조트(주)\\t한화 리조트 무료 회사 포인트 여러가지 시설 무료 이용 복지 네임 이직 좋음 \\n',\n",
       " '한화호텔앤드리조트(주)\\t시스템 업무 어려움 적응 있음 신입 있음 리조트 산업 이해 가능 \\n',\n",
       " '한화호텔앤드리조트(주)\\t소속 팀과 연차 휴가 정시퇴근 마감 업무 업무 서비스 업계 기업 직원 친절 리조트 무료 이용 식음 업장 할인 복지 정책 \\n',\n",
       " '한화호텔앤드리조트(주)\\t머니 머니 해도 복지 네임 버틸 \\n',\n",
       " '한화호텔앤드리조트(주)\\t대기업 복지 급여 그날 그날 사람들 \\n',\n",
       " '한화호텔앤드리조트(주)\\t분위기 좋음 \\n',\n",
       " '한화호텔앤드리조트(주)\\t복지 좋음 대기업 장점 복지 많음 월급 정도 복지 급여 \\n',\n",
       " '한화호텔앤드리조트(주)\\t자신 역량 욕심 공부 지원 해줌 갯수 만큼 오버타임 수당 사내 분위기 좋음 \\n',\n",
       " '한화호텔앤드리조트(주)\\t장점 서비스 여직원 10시 출근 10시 퇴근 아침 점심 저녁 모두 제공 초과근무 경우 초과근무 수당 직원 초과근무 경우 분위기 분위기 거의 분위기 자주 고객 굉장 철저 \\n',\n",
       " '한화호텔앤드리조트(주)\\t업무 강도 평균 윗분들 눈치 야근 평균 이하 아직 체계 확립 발전 가능 있음 \\n',\n",
       " '한화호텔앤드리조트(주)\\t오래 오래 버틸 월급 대기업 표면적 네임 위로 편함 친구 같이 \\n',\n",
       " '한화호텔앤드리조트(주)\\t분위기 연차 휴가 눈치 \\n',\n",
       " '한화호텔앤드리조트(주)\\t마다 분위기 다름 해당 기업 신생 사업부 경우 구성원 평균 대로 조직문화 편임 연차 휴가 야근 거의 없음 \\n',\n",
       " '한화호텔앤드리조트(주)\\t여러가지 할수 있음 보수적 이기 안정적 근무 유지 가능 \\n',\n",
       " '한화호텔앤드리조트(주)\\t일에 욕심 다니기 회사 업무 성과 압박 경쟁 문화 마음 무리 오래 회사 \\n',\n",
       " '한화호텔앤드리조트(주)\\t지낼 있음 계속 있음 명예퇴직 가능 \\n',\n",
       " '한화호텔앤드리조트(주)\\t그냥 월급 추천 \\n',\n",
       " '한화호텔앤드리조트(주)\\t대기업 자부심 국내 리조트 호텔 운영 동종 업계 다소 초봉 \\n',\n",
       " '한화호텔앤드리조트(주)\\t호텔 관광 업계 종사자 로서 대기업 있음 한화그룹 교육 한화 호텔 관광 산업 안정 \\n',\n",
       " '한화호텔앤드리조트(주)\\t복지 단순 어렵지 서비스 업계 나름 \\n',\n",
       " '한화호텔앤드리조트(주)\\t비교적 분위기 여성 복지 마련 \\n',\n",
       " '한화호텔앤드리조트(주)\\t근무 쾌적 한화 리조트 브랜드 영업 삼성 전자 같이 엄청 성과 수당 체계 대기업 계열사 명절 떡값 \\n',\n",
       " '한화호텔앤드리조트(주)\\t대기업 계열사 타이틀 그뿐 \\n',\n",
       " '한화호텔앤드리조트(주)\\t업무 어렵지 단순 업무 변화 업무 아님 연봉 적당 수준 \\n',\n",
       " '한화호텔앤드리조트(주)\\t비교적 조직 군대 조직 문화 아님 사업 진행 \\n',\n",
       " '한화호텔앤드리조트(주)\\t직무 경험 서비스 대기업 계열 업계 비교 근로조건 양호 \\n',\n",
       " '한화호텔앤드리조트(주)\\t휴식시간 쓸수 휴가 사용 가능 \\n',\n",
       " '한화호텔앤드리조트(주)\\t리조트 오래 규모 업무 할때 경우 대부분 연봉 편임 시즌 주말 \\n',\n",
       " '한화호텔앤드리조트(주)\\t있음 보직 순환 개인 능력 경험 가능 \\n',\n",
       " '한화호텔앤드리조트(주)\\t대기업 복지 빵빵 \\n',\n",
       " '한화호텔앤드리조트(주)\\t사내 중장년층 직원 많이 정년보장 느낌 \\n',\n",
       " '한화호텔앤드리조트(주)\\t기업 여러가지 혜택 복지 서비스 경력 인정 부족 \\n',\n",
       " '한화호텔앤드리조트(주)\\t단점 장점 기업문화 서로 야근 없음 \\n',\n",
       " '한화호텔앤드리조트(주)\\t부서 분위기 연차 자유 복지 \\n',\n",
       " '한화호텔앤드리조트(주)\\t대기업 복리 후생 교육 시스템 야근 수당 추가 수당 지급 확실 스케줄 근무 시간 퇴근 가능 확실 가족 분위기 있음 \\n',\n",
       " '한화호텔앤드리조트(주)\\t대기업 타이틀 계열사 혜택 직무 교육 꾸준 \\n',\n",
       " '한화호텔앤드리조트(주)\\t업무 경험 능력 한층 있음 \\n',\n",
       " '한화호텔앤드리조트(주)\\t신입 대기업 교육 있음 좋음 \\n',\n",
       " '한화호텔앤드리조트(주)\\t연차 사용 근무 회사 다운 복지 \\n',\n",
       " '한화호텔앤드리조트(주)\\t기업 많이 \\n',\n",
       " '한화호텔앤드리조트(주)\\t복지 좋음 제공 휴가 갈때 \\n',\n",
       " '한화호텔앤드리조트(주)\\t부하직원 태도 분위기 조성 \\n',\n",
       " '한화호텔앤드리조트(주)\\t대기업 숙식 연차 복지 좋음 업무 강도 호텔 비슷 \\n',\n",
       " '한화호텔앤드리조트(주)\\t서비스 근무 보수 복리후생 대기업 직원 자부심 근무 환경 쾌적 \\n',\n",
       " '한화호텔앤드리조트(주)\\t다니기 좋음 업계 연봉 수준 사람들 있음 \\n',\n",
       " '한화호텔앤드리조트(주)\\t근무 분위기 텃세 좋음 조리 서비스 연봉 아님 \\n',\n",
       " '한화호텔앤드리조트(주)\\t실적 열심히 분위기 연차 눈치 있음 \\n',\n",
       " '한화호텔앤드리조트(주)\\t네트워크 대기업 조직문화 업무 스타일 복리후생 조건 학자금 \\n',\n",
       " '한화호텔앤드리조트(주)\\t분위기 연차 휴가 대기업 있음 다니기 좋음 복지 다양 \\n',\n",
       " '한화호텔앤드리조트(주)\\t대기업 복지 연봉 안정적 \\n',\n",
       " '한화호텔앤드리조트(주)\\t대기업 이기 야근 수당 초과근무 수당 등등 월급 관련 문제 복지 \\n',\n",
       " '한화호텔앤드리조트(주)\\t매뉴얼 할수 업무 강도 \\n',\n",
       " '한화호텔앤드리조트(주)\\t본사 경우 관리 경우 연차 수당 모두 있음 \\n',\n",
       " '한화호텔앤드리조트(주)\\t서비스 레저 산업 동종업계 최고 수준 연봉 공채 출신 지방 사업 일부 초봉 현장 비교 생각 직무 사업 대기업 체계 복지 경험 수준 있음 \\n',\n",
       " '한화호텔앤드리조트(주)\\t한화그룹 우산 아래 분사 함정 사람 그냥 생각 육아 여성 우대 정책 수도 \\n',\n",
       " '한화호텔앤드리조트(주)\\t회사 그룹 계열사 열심히 회사 \\n',\n",
       " '한화호텔앤드리조트(주)\\t리조트 지원 복리후생 제도 이용가능 기회 제공 인사 사원 융화 용이 \\n',\n",
       " '한화호텔앤드리조트(주)\\t전망 1년 정도 리조트 복리후생 제도 \\n',\n",
       " '한화호텔앤드리조트(주)\\t나름 대기업 대기업 시스템 있음 복리후생 비교적 좋음 \\n',\n",
       " '한화호텔앤드리조트(주)\\t비정규직 티오 정규직 티오 정규직 근무 가능 \\n',\n",
       " '한화호텔앤드리조트(주)\\t대기업 타이틀 레저 복지 시스템 \\n',\n",
       " '한화호텔앤드리조트(주)\\t숙소 제공 메리트 있음 좋음 \\n',\n",
       " '한화호텔앤드리조트(주)\\t서비스 퇴근 매일 다름 내부 직원 결속 강함 의리 한화 무리 없음 외식업 부분 습득 있음 \\n',\n",
       " '한화호텔앤드리조트(주)\\t복지 수주 산업 성과 눈치 보임 \\n',\n",
       " '한화호텔앤드리조트(주)\\t업장 휴무 유동적 업장 관리 본사 노력 투철 위생 신메뉴 선임 영양사 권한 \\n',\n",
       " '한화호텔앤드리조트(주)\\t리조트 피아 시설 복리후생 성희롱 개선 \\n',\n",
       " '한화호텔앤드리조트(주)\\t리조트 경치 좋음 분위기 \\n',\n",
       " '한화호텔앤드리조트(주)\\t생각 복리후생 있음 \\n',\n",
       " '한화호텔앤드리조트(주)\\t근무 환경 리프레쉬 사용 휴가 장려 분위기 출산 여성 우대 정책 우수 직원 복지 지원 수요일 5시 퇴근 인간적 분위기 우수 \\n',\n",
       " '한화호텔앤드리조트(주)\\t레저 관심 경영지원 부서 강도 다름 \\n',\n",
       " '내일투어(주)\\t열심히 분위기 영업 압박 느낄수 \\n',\n",
       " '내일투어(주)\\t어느 생각 하게 \\n',\n",
       " '내일투어(주)\\t업무 여행업 업무 \\n',\n",
       " '내일투어(주)\\t생각 해도 복지 생각 입사 복지 \\n',\n",
       " '내일투어(주)\\t부서 마다 차이 분위기 수평적 자유 패키지 있음 고객 여행 필요 해줌 여행업 있음 \\n',\n",
       " '내일투어(주)\\t장점 정말 그냥 는거 최근 이사 \\n',\n",
       " '내일투어(주)\\t연차 사용 사람들 추천 씻고 없음 \\n',\n",
       " '내일투어(주)\\t업계 규모 있음 직원 있음 \\n',\n",
       " '내일투어(주)\\t있음 회사 건물 쾌적 나름 브랜드 회사 \\n',\n",
       " '내일투어(주)\\t생각 장점 생각 회사 \\n',\n",
       " '내일투어(주)\\t생각 습득 시스템 \\n',\n",
       " '내일투어(주)\\t사수 동기 자주 신입 굉장 빨리 배워야 적응 있음 \\n',\n",
       " '내일투어(주)\\t비교적 관계 나름 업무 빨리 있음 \\n',\n",
       " '내일투어(주)\\t같이 직원 분위기 있음 강요 없음 \\n',\n",
       " '내일투어(주)\\t열까지 기회 있음 직원 젊음 \\n',\n",
       " '내일투어(주)\\t위치 서울 시청 사무실 \\n',\n",
       " '내일투어(주)\\t직원 회사 좋음 버틸 \\n',\n",
       " '내일투어(주)\\t위치 하나 \\n',\n",
       " '내일투어(주)\\t있음 업무 신입사원 왠만 있음 내일 \\n',\n",
       " '내일투어(주)\\t연봉 영업 압박 직원 관계 \\n',\n",
       " '내일투어(주)\\t처음 배우기 좋음 분위기 \\n',\n",
       " '내일투어(주)\\t여행업 처음 사람 체계 있음 부서 마다 사람들 \\n',\n",
       " '내일투어(주)\\t연차 사용 부서 마다 다름 대부분 부서 눈치 금요일 같음 \\n',\n",
       " '내일투어(주)\\t분위기 선배님들 가르침 친절 \\n',\n",
       " '내일투어(주)\\t업무 책임 출장 있음 \\n',\n",
       " '내일투어(주)\\t입사 담당 교육 철저 직원 \\n',\n",
       " '내일투어(주)\\t경험 경력쌓기 좋음 \\n',\n",
       " '내일투어(주)\\t분위기 연차 여행 \\n',\n",
       " '내일투어(주)\\t지하철 신사옥 이전 한지 건물 깨끗 \\n',\n",
       " '내일투어(주)\\t장점 야근 저녁 식사비 제공 3만원 정도 \\n',\n",
       " '내일투어(주)\\t연차 분위기 연차 소진 눈치 보지 신입 경우 생각 시도 분위기 분위기 회식 야근 압박 의사소통 \\n',\n",
       " '내일투어(주)\\t야근 식비 제공 커피 기계 있음 새건물 히터 빵빵 개별 여행 있음 3만원 세금 \\n',\n",
       " '내일투어(주)\\t여행 배우기 회사 회사 회사 인간관계 스트레스 적음 \\n',\n",
       " '내일투어(주)\\t입사 한지 되지 직원 능력 상의 업무 원치 업무 업무 관심 \\n',\n",
       " '내일투어(주)\\t신입사원 교육 비교적 체계 여행사 처음 입사 사람 비교적 있음 교육 기회 많음 사우회 진행 1번 많지 급여 \\n',\n",
       " '내일투어(주)\\t자기 분야 있음 부서 마다 할일 칼퇴 가능 \\n',\n",
       " '내일투어(주)\\t네일아트 같이 복지 서비스 비교적 분위기 위치 \\n',\n",
       " '내일투어(주)\\t야근 마음 쓸수 눈치 보임 \\n',\n",
       " '내일투어(주)\\t텃세 없음 강제 있음 컴플레인 직장 학교 분위기 있음 \\n',\n",
       " '내일투어(주)\\t업무 있음 빨리 업무 있음 \\n',\n",
       " '내일투어(주)\\t회사 많이 지역 업무 확실 담당 확실 하게 \\n',\n",
       " '내일투어(주)\\t신입사원 사원 사무실 분위기 \\n',\n",
       " '내일투어(주)\\t개별 자유 여행 기업 여행업 최대 있음 \\n',\n",
       " '내일투어(주)\\t위치 점심 좋음 개별 여행 여행사 가장 \\n',\n",
       " '내일투어(주)\\t지하철 5분 장점 려고 해도 \\n',\n",
       " '내일투어(주)\\t자유 경험 나름 다음 여행사 네임밸류 쌓기 좋음 \\n',\n",
       " '내일투어(주)\\t개별 여행사 1위 체계 교육 많이 관련 업계 업무 많이 있음 \\n',\n",
       " '내일투어(주)\\t업무 휴가 회사 이미지 있음 \\n',\n",
       " '내일투어(주)\\t여행 많음 사람 기회 \\n',\n",
       " '내일투어(주)\\t업계 여행사 들과 비교 초봉 직원 \\n',\n",
       " '내일투어(주)\\t여행사 3일 사용 가능 앞뒤 주말 9일 쉴수 있음 직원 분위기 좋음 분위기 \\n',\n",
       " '내일투어(주)\\t개인 휴가 분위기 연중 쓸수 있음 특정 일에 전체 아님 비교적 퇴근 사내 복지 많이 여행업 다니기 밸런스 \\n',\n",
       " '내일투어(주)\\t상품 개발 상담 판매 정산 업무 전반적 업무 각자 사람 업무 흐름 \\n',\n",
       " '내일투어(주)\\t여행 부분 많이 신입 \\n',\n",
       " '내일투어(주)\\t서비스 마인드 있음 여행사 연봉 초봉 직원 시스템 수정 비상 연락 개설 변화 노력 \\n',\n",
       " '내일투어(주)\\t분위기 분위기 동종업계 자유 \\n',\n",
       " '내일투어(주)\\t여행업 나혼자 \\n',\n",
       " '내일투어(주)\\t하나 하나 페이 지가 매일 직원 입사 자주 있음 \\n',\n",
       " '내일투어(주)\\t업계 사관학교라고 유럽 장기 근무 기회 사람들 \\n',\n",
       " '내일투어(주)\\t회사 업무 있음 팀원들 좋음 \\n',\n",
       " '내일투어(주)\\t업무 휴가 평일 가능 여행 가능 \\n',\n",
       " '내일투어(주)\\t여행사 \\n',\n",
       " '내일투어(주)\\t부산 지사 낮지 연봉 \\n',\n",
       " '내일투어(주)\\t분위기 야근 칼퇴 스트레스 승진 대부분 직원 회사 빨리 \\n',\n",
       " '내일투어(주)\\t사람 마다 경험 사이 좋음 자유 대표적 기업 많이 있음 \\n',\n",
       " '내일투어(주)\\t일찍 회식 성수기 정시퇴근 가능 다음 있지 시청 근무 장점 나름 상하구조 \\n',\n",
       " '내일투어(주)\\t지하철 구내식당 식사 해결 수월함 \\n',\n",
       " '내일투어(주)\\t여행 상담 상품 기획 이벤트 기획 예약 정산 등등 여행업 있음 직원 비교적 직원 분위기 좋음 회사 바깥 문화 \\n',\n",
       " '내일투어(주)\\t개별 자유 가장 유명 자부심 시스템 신입 업무 퇴사 자가 승진 기회 좋음 \\n',\n",
       " '내일투어(주)\\t분위기 업계 연봉 복지 많이 배움 자부심 가질수 \\n',\n",
       " '내일투어(주)\\t기업문화 야근 \\n',\n",
       " '내일투어(주)\\t네일아트 장점 \\n',\n",
       " '내일투어(주)\\t같이 업무 되기 의지 사람들 같음 \\n',\n",
       " '내일투어(주)\\t여행 버틸 커리어 여성 복지 \\n',\n",
       " '내일투어(주)\\t여행업 전반 체계 내일 투어 출신 선호 유리 \\n',\n",
       " '내일투어(주)\\t업무 시간 네일아트 복지 집중 연봉 \\n',\n",
       " '내일투어(주)\\t대로 여름 휴가 사용 일수 많이 \\n',\n",
       " '내일투어(주)\\t전문 여행사 빠지지 전문성 여행 상품 기획 단계 그만큼 극성수기 눈치 나름 칼퇴 가능 사택 보유 부산 1시간 출퇴근 가능 서울 3시간 적지 연봉 업무 손님 마찰 없음 내일 투어 경력 여행업계 이직 플러스 있음 주5일제 한번 두번 정도 토요일 당직 여름 성수기 휴가 특가 여행 있음 \\n',\n",
       " '내일투어(주)\\t승진 자유 여행 시스템 있음 \\n',\n",
       " '내일투어(주)\\t사람들 기업 추천 \\n',\n",
       " '내일투어(주)\\t네일 서비스 복지 좋음 같이 직원 서로 서로 고객 일등 생각 있음 신입 초봉 연봉 \\n',\n",
       " '내일투어(주)\\t있음 자유 여행 근무 좋음 \\n',\n",
       " '내일투어(주)\\t개별 담당 패키지 담당 여행사 \\n',\n",
       " '내일투어(주)\\t업무 전반적 흐름 업무 경험 있음 \\n',\n",
       " '내일투어(주)\\t장점 한가지 자유 것임 시간 있음 \\n',\n",
       " '내일투어(주)\\t분위기 기업 문화 부서 급여 업계 보통 신입 회사 네일아트 도서관 운영 복지 개별 자유 여행 있음 \\n',\n",
       " '내일투어(주)\\t마다 팀장 근무 가능 분리 내일 네일 \\n',\n",
       " '내일투어(주)\\t자유 각자 고객 자기 핸들링 하기 실적 \\n',\n",
       " '내일투어(주)\\t시험 교육 있음 \\n',\n",
       " '내일투어(주)\\t연차 원할때 사용 매달 부모님 통장 \\n',\n",
       " '내일투어(주)\\t업무 배우기 무료 여행 매월 부모님 통장 \\n',\n",
       " '내일투어(주)\\t네일 케어 복지 보유 사내 모나지 자기 업무 칼퇴 가능 \\n',\n",
       " '내일투어(주)\\t직원 내일 시스템 손톱 관리 여자 \\n',\n",
       " '내일투어(주)\\t자유 여행 업계 1위 자유 여행 추천 \\n',\n",
       " '내일투어(주)\\t사람 직원 개별 자유 업무 \\n',\n",
       " '내일투어(주)\\t여행업 있음 계속 커리어 쌓기 좋음 \\n',\n",
       " '내일투어(주)\\t자유 여행 1위 회사 매달 3만원 부모님 입금 \\n',\n",
       " '내일투어(주)\\t자유 여행 고객 대로 컴플레인 회사 이기 활용 여행 갈수 고객 회사 \\n',\n",
       " '내일투어(주)\\t여행 업계 자유 조건 호텔 부분 한번 장점 있음 \\n',\n",
       " '내일투어(주)\\t시간 이름 탄탄 회사 \\n',\n",
       " '레드캡투어(주)\\t업무 강도 출퇴근 회사 선택 가장 생각 직장 \\n',\n",
       " '레드캡투어(주)\\t사무실 분위기 업종 여직원 많음 트러블 서로 분위기 칼퇴 가능 유니폼 출퇴근 굉장 \\n',\n",
       " '레드캡투어(주)\\t기업 최대 복지 임직원 사용 가능 사용 \\n',\n",
       " '레드캡투어(주)\\t연차 왠만 눈치 어학지원비 만원 한도 지원 복지 포인트 지급 임직원 할인 \\n',\n",
       " '레드캡투어(주)\\t자기 일만 사람 없음 같이 \\n',\n",
       " '레드캡투어(주)\\t업무 확실 안정적 여행업계 연봉 \\n',\n",
       " '레드캡투어(주)\\t연차 사용 있음 회사 건물 여행사 최고 초봉 좋음 \\n',\n",
       " '레드캡투어(주)\\t회사 여행사 연봉 여행사 상위권 \\n',\n",
       " '레드캡투어(주)\\t52시간 근무 제로 회사 변경 업무 마다 대부분 칼퇴 분위기 다니기 직장 연차 사용 비교적 눈치 사용 가능 여행업계 초봉 높음 \\n',\n",
       " '레드캡투어(주)\\t그룹 관계 회사 같음 \\n',\n",
       " '레드캡투어(주)\\t단순업무 라서 업무 경우 거의 친절 목소리 고객 추천 \\n',\n",
       " '레드캡투어(주)\\t장점 장점 지하철 단지 정도 \\n',\n",
       " '레드캡투어(주)\\t장점 많이 급여 그냥 다니기 회사 \\n',\n",
       " '레드캡투어(주)\\t회사 여성 처럼 보임 모름 편함 \\n',\n",
       " '레드캡투어(주)\\t회사 좋음 회사 연결 있음 \\n',\n",
       " '레드캡투어(주)\\t위치 분위기 \\n',\n",
       " '레드캡투어(주)\\t연봉 가장 분위기 분위기 \\n',\n",
       " '레드캡투어(주)\\t엘지 매출 매년 본인 때려 치지 이상 계속 있음 \\n',\n",
       " '레드캡투어(주)\\t안정 답답 근무 환경 대우 자부심 \\n',\n",
       " '레드캡투어(주)\\t여행사 비교 급여 생각 물론 일반 제조업 기업 급여 절대 없음 \\n',\n",
       " '레드캡투어(주)\\t엘지 월급 야근 수당 주말근무 \\n',\n",
       " '레드캡투어(주)\\t직원 기업 안정 안전 \\n',\n",
       " '레드캡투어(주)\\t연차 주말 당직 근무 추가 있음 탕비실 커피 있음 건물 쾌적 사무실 풍경 좋음 \\n',\n",
       " '레드캡투어(주)\\t연차 사용 자유 포인트 야근 \\n',\n",
       " '레드캡투어(주)\\t회사 건물 근무 쾌적 정시 출근 정시퇴근 대부분 야근 아님 \\n',\n",
       " '레드캡투어(주)\\t눈치 연차 있음 탄탄 거래처 있기 실적 스트레스 받지 근무 환경 \\n',\n",
       " '레드캡투어(주)\\t쾌적 업무 제공 필요 업무 정시퇴근 가능 \\n',\n",
       " '레드캡투어(주)\\t여행사 대비 월급 복지 야근 부서 많이 연차 \\n',\n",
       " '레드캡투어(주)\\t비교적 수평적 회사 분위기 많지 여행사 연봉 \\n',\n",
       " '레드캡투어(주)\\t대기업 회사 라서 이상 오래 오래 있음 \\n',\n",
       " '레드캡투어(주)\\t패밀리 혜택 많음 \\n',\n",
       " '레드캡투어(주)\\t연봉 업계 대비 건물 좋음 위치 좋음 기업 문화 나름 여행사 체계 있음 \\n',\n",
       " '레드캡투어(주)\\t장점 그냥 장점 회사 \\n',\n",
       " '레드캡투어(주)\\t연차 쾌적 근무 환경 여행사 연봉 \\n',\n",
       " '레드캡투어(주)\\t복지 좋음 회사 위치 시설 쾌적 가야 만큼 정신 사람 없음 사람 많음 회사 탄탄 유니폼 제공 회식 강요 없음 부서 마다 상이 \\n',\n",
       " '레드캡투어(주)\\t엘지 관계 복지 엘지 칼퇴 가능 직장 하나 \\n',\n",
       " '레드캡투어(주)\\t서울 중심 위치 출퇴근 대기업 계열 회사 회사 깨끗 \\n',\n",
       " '레드캡투어(주)\\t복지 연봉 나름 기본 지킴 \\n',\n",
       " '레드캡투어(주)\\t계열 그룹사 물량 확보 회사 월급 수도 월급 \\n',\n",
       " '레드캡투어(주)\\t여행사 나름 체계 고객 보유 회사 \\n',\n",
       " '레드캡투어(주)\\t동종업계 연봉 비교적 퇴근 임시공휴일 당직 쉬고 휴가 \\n',\n",
       " '레드캡투어(주)\\t여자 유니폼 사내 분위기 법정공휴일 쉬고 복지 \\n',\n",
       " '레드캡투어(주)\\t나름 7시 정도 퇴근 같음 연차 분위기 장점 단점 수도 \\n',\n",
       " '레드캡투어(주)\\t연차 소진 자기개발 비용 지원 체계 업무 가능 조직 구조 \\n',\n",
       " '레드캡투어(주)\\t대형 여행사 규모 여행사 들과 도심 최신식 건물 근무 여직원 근무 하기 \\n',\n",
       " '레드캡투어(주)\\t여행 렌트 영위 엘지 그룹사 고객 영업 어렵지 일정 수준 이상 보장 실적 압박 대신 기존 거래처 관리 어려움 휴가 보통 평일 사용 7일 이상 가능 \\n',\n",
       " '레드캡투어(주)\\t엘지 안전 여행사 1위 위치 \\n',\n",
       " '레드캡투어(주)\\t업계 연봉 계열 안정 글로벌 업무 가능 능력 연봉 기회 다수 \\n',\n",
       " '레드캡투어(주)\\t눈치 필요 생각 업무 업무 자기계발 시간 \\n',\n",
       " '레드캡투어(주)\\t분위기 상사 야근 많지 \\n',\n",
       " '레드캡투어(주)\\t여행 업계 최고 동종업계 연봉 가장 \\n',\n",
       " '레드캡투어(주)\\t매주 생일 부서 분위기 기업문화 아닙니다 식비 만원 정도 제공 유니폼 복장 \\n',\n",
       " '레드캡투어(주)\\t퇴근 분위기 \\n',\n",
       " '레드캡투어(주)\\t유니폼 제공 남자직원들 제공 해줌 동종업계 여행사 연봉 \\n',\n",
       " '레드캡투어(주)\\t연차 상이 야근 많지 개인 삶과 업무 균형 있음 사무실 쾌적 \\n',\n",
       " '레드캡투어(주)\\t직원 사무실 서울 중심 깨끗 \\n',\n",
       " '레드캡투어(주)\\t연차 비교적 자유 야근 많이 없음 회사 위치 좋음 \\n',\n",
       " '레드캡투어(주)\\t박봉 연봉 수준 복지 있음 그만큼 빡셈 \\n',\n",
       " '레드캡투어(주)\\t부서 해외 경험 가능 비교적 급여 업무 환경 \\n',\n",
       " '레드캡투어(주)\\t교육 기회 제공 연봉 높지 최고 여행사 이직 었음 성과 제도 있음 \\n',\n",
       " '레드캡투어(주)\\t대기업 고객 들로 회사 화장실 깨끗 건물 좋음 \\n',\n",
       " '레드캡투어(주)\\t연차 쓸수 식비 지원 유니폼 편함 건물 교통 접근성 좋음 \\n',\n",
       " '레드캡투어(주)\\t비교적 문화 복지 많음 계열 관련 혜택 많음 퇴근 휴가 \\n',\n",
       " '레드캡투어(주)\\t우선 동종업계 가장 연봉 제공 회사 가장 장점 근무 쾌적 위치 지하철 출근 하기 복지 비교적 여성 다니기 회사 생각 여성 차장 부장급 여성 사원 \\n',\n",
       " '레드캡투어(주)\\t동종업계 최대 연봉 지로 입구 근무 환경 여성 제공 출근 복장 \\n',\n",
       " '레드캡투어(주)\\t사내 깨끗 쾌적 했음 야근 생각 많지 스케줄 있음 \\n',\n",
       " '레드캡투어(주)\\t연차 분위기 업무 기회 \\n',\n",
       " '레드캡투어(주)\\t상사 눈치 휴가 쓸수 복지 자리잡음 동종업계 최고 대우 직원 생각 \\n',\n",
       " '레드캡투어(주)\\t여직원 제공 대기업 계열사 라서 안정적 장점 있음 업계 최고 연봉 \\n',\n",
       " '레드캡투어(주)\\t여행업계 편임 비지니스 외국계 기업 업무 많음 \\n',\n",
       " '레드캡투어(주)\\t욕심 개인 성취감 직장 추천 \\n',\n",
       " '레드캡투어(주)\\t출장 담당 여행사 안정적 상위권 연봉 속함 체계 사내 구조 \\n',\n",
       " '레드캡투어(주)\\t지하철 2호선 있기 출퇴근 \\n',\n",
       " '레드캡투어(주)\\t엘지 고객 없음 \\n',\n",
       " '레드캡투어(주)\\t여직원 경우 유니폼 있음 옷차림 걱정 부서 분위기 조금 좋음 직원 특가 있음 포인트 제공 서로 존칭 사용 \\n',\n",
       " '레드캡투어(주)\\t계열사 회사 계열사 직원 고객 장점 계열사 직원 인센티브 투어 있음 계열사 그만큼 고객 유치 스트레스 그외 클라이언트 매년 안정적 \\n',\n",
       " '레드캡투어(주)\\t나름 탄탄 기업 계열사 복지 좋음 회사 사무실 역과 출퇴근 용이 건물 대부분 최신식 위치 \\n',\n",
       " '레드캡투어(주)\\t안정적 회사 사람 연봉 상위권 \\n',\n",
       " '레드캡투어(주)\\t월차 눈치 가장 급여 수준 \\n',\n",
       " '레드캡투어(주)\\t분위기 분위기 장점 생각 상사 부하직원 관계 분위기 \\n',\n",
       " '레드캡투어(주)\\t야근 휴가 모두 소진 가능 팀장 회사 업무 \\n',\n",
       " '레드캡투어(주)\\t보조 지원 마음 어학 공부 도움 받았음 회식 정말 \\n',\n",
       " '레드캡투어(주)\\t깨끗 근무 환경 서울 위치 지리적 이점 급여 여직원 유니폼 제공 있음 있음 \\n',\n",
       " '레드캡투어(주)\\t체계 복지 직장 다니기 회사 분위기 구조 선후배 서비스 업무 \\n',\n",
       " '레드캡투어(주)\\t연봉 근무 좋음 회사 건물 깨끗 최신식 \\n',\n",
       " '레드캡투어(주)\\t출퇴근 회사 위치 깨끗 건물 직원 유니폼 제공 야근 없었음 정직원 전환 복지 \\n',\n",
       " '레드캡투어(주)\\t연차 눈치 거의 칼퇴 여성 직원 유니폼 지급 \\n',\n",
       " '레드캡투어(주)\\t서로 보기 자부심 연봉 계열사 만족스러움 \\n',\n",
       " '레드캡투어(주)\\t안정적 직장 인듯 안정 사람들 직장 \\n',\n",
       " '레드캡투어(주)\\t교육 기회 제공 건물 깔끔 환경 \\n',\n",
       " '레드캡투어(주)\\t근무 환경 분위기 여직원 유니폼 제공 동종업계 최고 대우 \\n',\n",
       " '레드캡투어(주)\\t관계 제휴 출퇴근 편리 \\n',\n",
       " '레드캡투어(주)\\t분위기 직장 동료 좋음 부서 분위기 \\n',\n",
       " '레드캡투어(주)\\t대기업 근무 복리후생 부서 구성원 업무 프로 체계 \\n',\n",
       " '레드캡투어(주)\\t투어 출퇴근 사내 직원 관계 업무 강도 적당 \\n',\n",
       " '레드캡투어(주)\\t연봉 보너스 복지 포인트 \\n',\n",
       " '레드캡투어(주)\\t출퇴근 팀내 분위기 복불복 \\n',\n",
       " '레드캡투어(주)\\t지배 기본 안정 일자리 보장 함께 복지 회사 \\n',\n",
       " '레드캡투어(주)\\t되지 업계 상위권 발전 \\n',\n",
       " '레드캡투어(주)\\t급여 인센티브 직원 업무 나름 \\n',\n",
       " '(유)에스아이에프씨호텔디벨로프먼트\\t힐튼 제공 직원 숙박 프로 전세계 힐튼 굉장 사람 휴가 쓰기 해당 복지 힐튼 브랜드 제공 프로 \\n',\n",
       " '(유)에스아이에프씨호텔디벨로프먼트\\t내부 직원 행사 많음 뽑기 1위 냉장고 힐튼 호텔 직원 전세계 호텔 5만원 조식 포함 휴무 휴무 개수 쉬게 해줌 2년 정직원 호텔 갈때 있음 자유 직원 회사 분위기 호텔 비교 불가 \\n',\n",
       " '(유)에스아이에프씨호텔디벨로프먼트\\t힐튼 브랜드 호텔 직원 있음 \\n',\n",
       " '(유)에스아이에프씨호텔디벨로프먼트\\t호텔 조직문화 호텔 본사 지원 교육 있음 \\n',\n",
       " '(유)에스아이에프씨호텔디벨로프먼트\\t전세계 힐튼 만원 숙박 가능 의료비 가족 가능 만원 가능 근무 유연 가능 2주 부서 필요 동료 직원 들끼리 서로 강함 팀웍 좋음 직원 호텔 평가 있음 해당 프로 행사 행사 상품 좋음 \\n',\n",
       " '(유)에스아이에프씨호텔디벨로프먼트\\t이름 브랜드 보고 입사 매니지먼트 라서 신입 매니저 인성 경력 이직 경력 플러스 있음 \\n',\n",
       " '(유)에스아이에프씨호텔디벨로프먼트\\t호텔 공무원 집단 같이 문화 직원 경영진 의사 결정 분위기 뿐만 부서 대부분 직원 가장 장점 인듯 직원 토로 많이 운영 직원 복지 운영 네임밸류 사회적 가치 관심 임직원 마인드 분위기 많이 느낌 기회 있음 \\n',\n",
       " '(유)에스아이에프씨호텔디벨로프먼트\\t동료 끼리 친해지기 유대감 빨리 형성 \\n',\n",
       " '(유)에스아이에프씨호텔디벨로프먼트\\t직원 턴오버 낳고 복직 상사 분만 성격 승진 멘탈 물론 잘못 시간 제일 오래 다님 친구 내부 추천 \\n',\n",
       " '(유)에스아이에프씨호텔디벨로프먼트\\t동료 성장 가능 시스템 호텔 브랜드 이미지 위치 \\n',\n",
       " '(유)에스아이에프씨호텔디벨로프먼트\\t직원 연대 분위기 많이 기업 행사 의무 참여 분위기 \\n',\n",
       " '(유)에스아이에프씨호텔디벨로프먼트\\t비교적 수평적 회사 문화 줄타기 승진 비교적 업무 교육 퇴사 없음 \\n',\n",
       " '(유)에스아이에프씨호텔디벨로프먼트\\t힐튼 최상위 브랜드 네임 위치 접근성 \\n',\n",
       " '(유)에스아이에프씨호텔디벨로프먼트\\t기업 정말 자기 발전 가능 \\n',\n",
       " '(유)에스아이에프씨호텔디벨로프먼트\\t깨끗 시설 분위기 편임 \\n',\n",
       " '(유)에스아이에프씨호텔디벨로프먼트\\t회사 분위기 좋음 \\n',\n",
       " '(유)에스아이에프씨호텔디벨로프먼트\\t힐튼 교육 시스템 수직적 이지 친구 사내문화 \\n',\n",
       " '(유)에스아이에프씨호텔디벨로프먼트\\t복지 정말 느낌 선택 현명 \\n',\n",
       " '(유)에스아이에프씨호텔디벨로프먼트\\t호텔 복지 네임밸류 있음 \\n',\n",
       " '(유)에스아이에프씨호텔디벨로프먼트\\t직원 분위기 능력 많음 직원 여성 육아휴직 있음 위치 편임 교육 회사 생활 초년생 같음 \\n',\n",
       " '(유)에스아이에프씨호텔디벨로프먼트\\t야근 함께 정말 굉장 워커 추천 멘트 \\n',\n",
       " '(유)에스아이에프씨호텔디벨로프먼트\\t네임 기회 부서 비교적 추후 커리어 펼치기 수준 리더 팀장 많음 보고 있음 부서 아님 전세계 호텔 5만원 1박 조식 포함 이용가능 가능 날짜 호텔 통제 동남아 지역 힐튼 할인 적용됨 비교적 분위기 회사 직원 관계 회식 동아리 활동 사람 연차 눈치 보고 써야 부서 눈치 아님 인사 연차 소진 압박 1년 소진 가능 여성 임원 직원 존재 하지 직원 이직률 직원 높음 \\n',\n",
       " '(유)에스아이에프씨호텔디벨로프먼트\\t사무실 분위기 직원 사이 좋음 힐튼 직원 있음 네임 벨류 있음 호텔 커리어 추천 \\n',\n",
       " '(유)에스아이에프씨호텔디벨로프먼트\\t근무 수직적 하나 개인 전달 직원 헬스 복지 \\n',\n",
       " '(유)에스아이에프씨호텔디벨로프먼트\\t직원 모두 친절 사내 교육 꾸준 육아 휴직 경력 힐튼 계열 호텔 직원 할인 이용 가능 \\n',\n",
       " '(유)에스아이에프씨호텔디벨로프먼트\\t지원 스케줄 직원 시다 좋음 \\n',\n",
       " '(유)에스아이에프씨호텔디벨로프먼트\\t오픈 한지 시도 가능 그만큼 성장 기회 많음 \\n',\n",
       " '(유)에스아이에프씨호텔디벨로프먼트\\t나름 상하관계 좋음 직원 회사 분위기 좋음 \\n',\n",
       " '(유)에스아이에프씨호텔디벨로프먼트\\t전세계 힐튼 브랜드 호텔 정말 이용 가능 동네 모텔 수준 이용 가능 2인 조식 포함 1박 정도 본인 남산 힐튼 자주 직원 서울 이용 가능 근무 분위기 좋음 고급 브랜드 호텔 이직 퇴사 빈번 진급 정말 \\n',\n",
       " '(유)에스아이에프씨호텔디벨로프먼트\\t힐튼 힐튼 버스 본인 노력 교육 많음 회사 트레이닝 신경 사회경험 브랜드 경력 배우기 열심히 많음 \\n',\n",
       " '(유)에스아이에프씨호텔디벨로프먼트\\t업무 호텔 있음 \\n',\n",
       " '(유)에스아이에프씨호텔디벨로프먼트\\t다소 조직 일반 한국회사 캐쥬얼 분위기 스펙 직원 다수 보유 2015년 기준 독립 샤워 깔끔 직원 휴게실 부서 이동 기회 많음 단점 \\n',\n",
       " '(유)에스아이에프씨호텔디벨로프먼트\\t구내식당 구비 외국계 회사 글로벌 브랜드 이기 \\n',\n",
       " '(유)에스아이에프씨호텔디벨로프먼트\\t일년 정도 경험 하기 회사 힐튼 브랜드 있음 \\n',\n",
       " '(유)에스아이에프씨호텔디벨로프먼트\\t그냥 단순 이미지 근무 이미지 \\n',\n",
       " '(유)에스아이에프씨호텔디벨로프먼트\\t복리후생 오버타임 장점 단점 많음 \\n',\n",
       " '(유)에스아이에프씨호텔디벨로프먼트\\t바쁘지 위아래 구분 \\n',\n",
       " '(유)에스아이에프씨호텔디벨로프먼트\\t서울 접근성 \\n',\n",
       " '(유)에스아이에프씨호텔디벨로프먼트\\t브랜드 호텔 만큼 호텔 리어 있음 비교적 체계 교육 지원 1년 비교적 연차 신청 가능 전세계적 호텔 혜택 많음 힐튼 계열 호텔 직원 이용 가능 \\n',\n",
       " '(유)에스아이에프씨호텔디벨로프먼트\\t힐튼 직원 호텔 럭셔리 브랜드 \\n',\n",
       " '(유)에스아이에프씨호텔디벨로프먼트\\t3개월 전세계 힐튼 계열 호텔 조식 포함 할인 숙박 가능 호텔 엄청 몇몇 부서 나름 군기 수준 승진 호텔 \\n',\n",
       " '(유)에스아이에프씨호텔디벨로프먼트\\t수직 수평 어느 속하지 부서 마다 분위기 다닐만 \\n',\n",
       " '(유)에스아이에프씨호텔디벨로프먼트\\t글로벌 호텔 힐튼 최상위 브랜드 네임밸류 사람들 있음 수면실 설치 \\n',\n",
       " '(유)에스아이에프씨호텔디벨로프먼트\\t직원 상호 의견 수렴 해줌 힐튼 숙박 프로 힐튼 아침 포함 숙박 가능 능력 힐튼 성장 가능 \\n',\n",
       " '(유)에스아이에프씨호텔디벨로프먼트\\t호텔 커리어 호텔 좋음 구내식당 \\n',\n",
       " '(유)에스아이에프씨호텔디벨로프먼트\\t교육 정책 마인드 직원 이벤트 행사 \\n',\n",
       " '(유)에스아이에프씨호텔디벨로프먼트\\t고객 들만 할줄 회사 회사 \\n',\n",
       " '(유)에스아이에프씨호텔디벨로프먼트\\t중요 많이 퇴근 휴가 눈치 \\n',\n",
       " '(유)에스아이에프씨호텔디벨로프먼트\\t초년생들 충분 수준 기업 \\n',\n",
       " '(유)에스아이에프씨호텔디벨로프먼트\\t휴무 연차 모두 사용 가능 힐튼 계열 공짜 식사 가능 \\n',\n",
       " '(유)에스아이에프씨호텔디벨로프먼트\\t퇴근 7시 거의 없음 사무실 직원 외국계 기업 업무 경험 보고 \\n',\n",
       " '(유)에스아이에프씨호텔디벨로프먼트\\t호텔 연봉 호텔 동료들 모두 \\n',\n",
       " '(유)에스아이에프씨호텔디벨로프먼트\\t사회경험 신입사원 경우 호텔 경험 갈수 회사 사내 어린 나이 구성원 회사 \\n',\n",
       " '(유)에스아이에프씨호텔디벨로프먼트\\t팀워크 비교적 분위기 팀원들 소통 업무 분담 \\n',\n",
       " '(유)에스아이에프씨호텔디벨로프먼트\\t발전 가능 돋보 최고 럭셔리 브랜드 \\n',\n",
       " '(유)에스아이에프씨호텔디벨로프먼트\\t숙박 프로 정말 전세계 힐튼 호텔 승진 \\n',\n",
       " '(유)에스아이에프씨호텔디벨로프먼트\\t식사제공 공간 없음 \\n',\n",
       " '(유)에스아이에프씨호텔디벨로프먼트\\t호텔 브랜드 자부심 있음 시스템 구축 있음 \\n',\n",
       " '(유)에스아이에프씨호텔디벨로프먼트\\t계열 호텔 호텔 없음 \\n',\n",
       " '(유)에스아이에프씨호텔디벨로프먼트\\t갈때 힐튼 호텔 숙박 있음 \\n',\n",
       " '(유)에스아이에프씨호텔디벨로프먼트\\t직원 동종업계 브랜드 파워 수요 보유 \\n',\n",
       " '(유)에스아이에프씨호텔디벨로프먼트\\t분위기 연차 눈치 사용 가능 호텔 가장 규모 브랜드 자부심 오너 추구 성장 해외 힐튼 호텔 복지 혜택 활동 동종업계 비교적 진급 호텔 호텔 시설 우수 인력 많음 \\n',\n",
       " '(유)에스아이에프씨호텔디벨로프먼트\\t사람 자주 승진 호텔 빨리 연차 왠만 있음 사원들 복지 노력 많이 \\n',\n",
       " '(유)에스아이에프씨호텔디벨로프먼트\\t직원 식사 교육 마음 \\n',\n",
       " '(유)에스아이에프씨호텔디벨로프먼트\\t연차 사용 가능 점심 연결 \\n',\n",
       " '(유)에스아이에프씨호텔디벨로프먼트\\t호텔 근무 활기 \\n',\n",
       " '(유)에스아이에프씨호텔디벨로프먼트\\t힐튼 계열 호텔 직원 할인 해외 힐튼 계열 기회 직원 스케줄 연차 사용 \\n',\n",
       " '(유)에스아이에프씨호텔디벨로프먼트\\t호텔 근무 대부분 사람 \\n',\n",
       " '(유)에스아이에프씨호텔디벨로프먼트\\t근무 환경 주위 사람들 모두 예의 사람들 집단 \\n',\n",
       " '(유)에스아이에프씨호텔디벨로프먼트\\t복지 직원 휴가 인상 확실 보장 \\n',\n",
       " '(유)에스아이에프씨호텔디벨로프먼트\\t연차 회식 강요 없음 사무실 분위기 수평적 \\n',\n",
       " '(유)에스아이에프씨호텔디벨로프먼트\\t위치 교통 편의 성과 금융 관련 회사 밀집 고객 \\n',\n",
       " '(유)에스아이에프씨호텔디벨로프먼트\\t사무실 분위기 부서 협업 서로 젠틀 하게 야근 많지 \\n',\n",
       " '(유)에스아이에프씨호텔디벨로프먼트\\t워낙 브랜드 직장 여성 선호 \\n',\n",
       " '(유)에스아이에프씨호텔디벨로프먼트\\t힐튼 계열 호텔 직원 영어 학원 지원 호텔 스터디 위생 직원 교육 브랜드 느낄수 \\n',\n",
       " '(유)에스아이에프씨호텔디벨로프먼트\\t네임 긍정적 반응 어느 자신 \\n',\n",
       " '(유)에스아이에프씨호텔디벨로프먼트\\t부서 마다 7시 대부분 퇴근 \\n',\n",
       " '(유)에스아이에프씨호텔디벨로프먼트\\t오래 힐튼 계열 최상위 브랜드 규모 만큼 체계 업무 시스템 교육 기회 많이 제공 동료들 업무 전환 많음 전세계 힐튼 직원 있음 \\n',\n",
       " '(유)에스아이에프씨호텔디벨로프먼트\\t안정적 체계 꾸준 직원 교육 비교적 자유 있음 해외 여행 직원 저렴 호텔 이용 있음 \\n',\n",
       " '(유)에스아이에프씨호텔디벨로프먼트\\t럭셔리 브랜드 서비스 많이 있음 조직 분위기 나름 \\n',\n",
       " '(유)에스아이에프씨호텔디벨로프먼트\\t리어 로서 있음 생긴지 외국계 호텔 리어 로서 많음 \\n',\n",
       " '(유)에스아이에프씨호텔디벨로프먼트\\t글로벌 신규 호텔 근무 깨끗 \\n',\n",
       " '(유)에스아이에프씨호텔디벨로프먼트\\t힐튼 최고 럭셔리 브랜드 하나 자부심 교육 많이 어린 직원 로서 분위기 직원 정말 거의 \\n',\n",
       " '(유)에스아이에프씨호텔디벨로프먼트\\t기업 럭셔리 호텔 정규직 \\n',\n",
       " '(유)에스아이에프씨호텔디벨로프먼트\\t경험 경력 부족 해도 내부 조직 급여 관계 기회 복지 많이 있음 \\n',\n",
       " '(유)에스아이에프씨호텔디벨로프먼트\\t오픈 한지 호텔 호텔 복지 오픈 마인드 이야기 있음 \\n',\n",
       " '(유)에스아이에프씨호텔디벨로프먼트\\t힐튼 계열 럭셔리 서비스 만큼 경력쌓기 좋음 호텔 직원 연령대 만큼 속에서 \\n',\n",
       " '(유)에스아이에프씨호텔디벨로프먼트\\t호텔 이기 모두 경력 있기 본인 노력 셋업 문화 있기 \\n',\n",
       " '(유)에스아이에프씨호텔디벨로프먼트\\t힐튼 기업 시스템 럭셔리 브랜드 팀원들 분위기 글로벌 기업 문화 경력 개발 교육 프로 성장 기회 \\n',\n",
       " '(유)에스아이에프씨호텔디벨로프먼트\\t연봉 동급 본인 노력 승진 기준 호텔 직원 요구 하지 가산 요인 \\n',\n",
       " '(유)에스아이에프씨호텔디벨로프먼트\\t오픈 한지 되지 국내 최고 시설 기업문화 굉장 \\n',\n",
       " '(유)에스아이에프씨호텔디벨로프먼트\\t오픈 한지 되지 호텔 승진 철저 능력 제로 평가 \\n',\n",
       " '(유)에스아이에프씨호텔디벨로프먼트\\t국내 외국계 호텔 규모 사내 분위기 \\n',\n",
       " '(유)에스아이에프씨호텔디벨로프먼트\\t신생기업 이기 아직 흥미 기업 \\n',\n",
       " '(유)에스아이에프씨호텔디벨로프먼트\\t경력 호텔 리어 신입 호텔 리어 매니저 직급 포함 서비스 임직원 평균 활력 분위기 글로벌 환경 근무 관리 소통 힐튼 직원 온라인 교육 서비스 경우 스케줄 교대근무 가능 마감 \\n',\n",
       " '(유)에스아이에프씨호텔디벨로프먼트\\t자부심 프라이드 힐튼 직원 베네핏 \\n',\n",
       " '(유)에스아이에프씨호텔디벨로프먼트\\t분위기 직원 \\n',\n",
       " '(유)에스아이에프씨호텔디벨로프먼트\\t브랜드 나기 서비스 경력 사람 추천 \\n',\n",
       " '(유)에스아이에프씨호텔디벨로프먼트\\t서비스 업무 출근 날짜 불규칙 사무직 경우 업무 야근 일반 회사 주말출근 정말 호텔 행사 거의 회사 단체 부서 정말 연봉 높지 추천 \\n',\n",
       " '(유)에스아이에프씨호텔디벨로프먼트\\t서비스 추세 \\n',\n",
       " ...]"
      ]
     },
     "execution_count": 87,
     "metadata": {},
     "output_type": "execute_result"
    }
   ],
   "source": [
    "line"
   ]
  },
  {
   "cell_type": "markdown",
   "metadata": {},
   "source": [
    "reviews = []\n",
    "for idx, i in enumerate(line):\n",
    "    temp = i.split('\\t')[1]\n",
    "    temp = re.sub('\\n', '', temp)\n",
    "    reviews.append(temp)"
   ]
  },
  {
   "cell_type": "code",
   "execution_count": 88,
   "metadata": {
    "collapsed": false
   },
   "outputs": [
    {
     "name": "stderr",
     "output_type": "stream",
     "text": [
      "C:\\Users\\dlfdus\\Anaconda3\\lib\\site-packages\\gensim\\utils.py:865: UserWarning: detected Windows; aliasing chunkize to chunkize_serial\n",
      "  warnings.warn(\"detected Windows; aliasing chunkize to chunkize_serial\")\n"
     ]
    }
   ],
   "source": [
    "from gensim.models import Doc2Vec\n",
    "from gensim.models.doc2vec import TaggedDocument\n",
    "\n",
    "def TaggedReview(reviews):\n",
    "    for doc in reviews:\n",
    "        company_tag, review = doc.split('\\t')\n",
    "        text = re.sub('\\n', '', review)\n",
    "        yield TaggedDocument(words=text.split(), tags=['Company_%s' % company_tag])\n",
    "\n",
    "doc2vec_corpus = list(TaggedReview(line))"
   ]
  },
  {
   "cell_type": "code",
   "execution_count": 89,
   "metadata": {
    "collapsed": false
   },
   "outputs": [
    {
     "name": "stdout",
     "output_type": "stream",
     "text": [
      "TaggedDocument(['업계', '1위', '하나투어', '인정', '많음', '여행사', '친구들', '연봉', '복지', '좋음'], ['Company_(주)하나투어'])\n",
      "TaggedDocument(['여행', '혜택', '연차', '사용', '있음', '가족', '균형', '측면', '좋음'], ['Company_(주)하나투어'])\n",
      "TaggedDocument(['연차', '회사', '커뮤니케이션'], ['Company_(주)하나투어'])\n",
      "TaggedDocument(['브랜드', '1위', '저녁', '여행', '할인'], ['Company_(주)하나투어'])\n",
      "TaggedDocument(['있음', '업무', '찾기', '힘듬'], ['Company_(주)하나투어'])\n",
      "TaggedDocument(['연차', '사용', '비교적', '회사', '복지', '거점', '운영', '시차', '근무', '재택근무', '직원', '제공', '상품', '직원', '이용', '가능', '분위기', '정시퇴근', '승진', '어려움', '없음'], ['Company_(주)하나투어'])\n"
     ]
    }
   ],
   "source": [
    "for num_doc, doc in enumerate(doc2vec_corpus):\n",
    "    if num_doc > 5: break\n",
    "    print(doc)"
   ]
  },
  {
   "cell_type": "code",
   "execution_count": 90,
   "metadata": {
    "collapsed": true
   },
   "outputs": [],
   "source": [
    "train_Doc2Vec = False"
   ]
  },
  {
   "cell_type": "code",
   "execution_count": 91,
   "metadata": {
    "collapsed": false
   },
   "outputs": [
    {
     "name": "stdout",
     "output_type": "stream",
     "text": [
      "Wall time: 247 ms\n"
     ]
    }
   ],
   "source": [
    "%%time\n",
    "doc2vec_fname = 'data/tmp/doc2vec_model.pkl' \n",
    "if train_Doc2Vec:\n",
    "    doc2vec_model = Doc2Vec(doc2vec_corpus, size=200, alpha=0.05, window=5, min_count=5, negative=5) \n",
    "    with open(doc2vec_fname, 'wb') as f:\n",
    "        pickle.dump(doc2vec_model, f)\n",
    "\n",
    "else:\n",
    "    with open(doc2vec_fname, 'rb') as f:\n",
    "        doc2vec_model = pickle.load(f)"
   ]
  },
  {
   "cell_type": "code",
   "execution_count": 95,
   "metadata": {
    "collapsed": false
   },
   "outputs": [],
   "source": [
    "P_doc2vec_corpus = doc2vec_corpus[:int(len(doc2vec_corpus)/2)]\n",
    "N_doc2vec_corpus = doc2vec_corpus[int(len(doc2vec_corpus)/2):]"
   ]
  },
  {
   "cell_type": "code",
   "execution_count": 98,
   "metadata": {
    "collapsed": true
   },
   "outputs": [],
   "source": [
    "train_Doc2Vec_PN = False"
   ]
  },
  {
   "cell_type": "code",
   "execution_count": 99,
   "metadata": {
    "collapsed": false
   },
   "outputs": [
    {
     "name": "stdout",
     "output_type": "stream",
     "text": [
      "Wall time: 2min\n"
     ]
    }
   ],
   "source": [
    "%%time\n",
    "P_doc2vec_fname = 'data/tmp/P_doc2vec_model.pkl' \n",
    "N_doc2vec_fname = 'data/tmp/N_doc2vec_model.pkl' \n",
    "\n",
    "if train_Doc2Vec_PN:\n",
    "    P_doc2vec_model = Doc2Vec(P_doc2vec_corpus, size=200, alpha=0.05, window=5, min_count=5, negative=5) \n",
    "    with open(P_doc2vec_fname, 'wb') as f:\n",
    "        pickle.dump(P_doc2vec_model, f)\n",
    "    N_doc2vec_model = Doc2Vec(N_doc2vec_corpus, size=200, alpha=0.05, window=5, min_count=5, negative=5) \n",
    "    with open(N_doc2vec_fname, 'wb') as f:\n",
    "        pickle.dump(N_doc2vec_model, f)\n",
    "\n",
    "else:\n",
    "    with open(P_doc2vec_fname, 'rb') as f:\n",
    "        P_doc2vec_model = pickle.load(f)\n",
    "    with open(N_doc2vec_fname, 'rb') as f:\n",
    "        N_doc2vec_model = pickle.load(f)"
   ]
  },
  {
   "cell_type": "code",
   "execution_count": null,
   "metadata": {
    "collapsed": true
   },
   "outputs": [],
   "source": []
  }
 ],
 "metadata": {
  "anaconda-cloud": {},
  "kernelspec": {
   "display_name": "Python [conda env:Anaconda3]",
   "language": "python",
   "name": "conda-env-Anaconda3-py"
  },
  "language_info": {
   "codemirror_mode": {
    "name": "ipython",
    "version": 3
   },
   "file_extension": ".py",
   "mimetype": "text/x-python",
   "name": "python",
   "nbconvert_exporter": "python",
   "pygments_lexer": "ipython3",
   "version": "3.5.5"
  }
 },
 "nbformat": 4,
 "nbformat_minor": 2
}
